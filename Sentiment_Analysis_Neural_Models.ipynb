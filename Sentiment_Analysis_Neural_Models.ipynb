{
  "cells": [
    {
      "cell_type": "markdown",
      "metadata": {
        "id": "t7JC67DLNx74"
      },
      "source": [
        "# TP - Sentiment Analysis Neural Models\n",
        "__SD-TSIA214 - Machine Learning for Text Mining__\n",
        "\n",
        "**Gabriel Martins de Andrade**\n",
        "\n",
        "-----\n"
      ]
    },
    {
      "cell_type": "markdown",
      "metadata": {
        "id": "JfkpXKBIthcS"
      },
      "source": [
        "# Text classification with Pytorch\n",
        "\n",
        "The goal of this TP is double: an introduction to using Pytorch for treating textual data, and implementing neural classification models that we can apply to IMDB data - and then compare to models implemented in the previous TPs."
      ]
    },
    {
      "cell_type": "code",
      "execution_count": null,
      "metadata": {
        "id": "FH7c_eMyte-D"
      },
      "outputs": [],
      "source": [
        "import torch\n",
        "import torch.nn as nn"
      ]
    },
    {
      "cell_type": "markdown",
      "metadata": {
        "id": "TG1Tv5TLtpjP"
      },
      "source": [
        "## 1 - A (very small) introduction to pytorch\n",
        "\n",
        "Pytorch Tensors are very similar to Numpy arrays, with the added benefit of being usable on GPU. For a short tutorial on various methods to create tensors of particular types, see [this link](https://pytorch.org/tutorials/beginner/blitz/tensor_tutorial.html#sphx-glr-beginner-blitz-tensor-tutorial-py).\n",
        "The important things to note are that Tensors can be created empty, from lists, and it is very easy to convert a numpy array into a pytorch tensor, and inversely."
      ]
    },
    {
      "cell_type": "code",
      "execution_count": null,
      "metadata": {
        "colab": {
          "base_uri": "https://localhost:8080/"
        },
        "id": "Mb3h3-OEtuHz",
        "outputId": "ded54f03-d10f-42ef-fffc-f5bc6b0f733b"
      },
      "outputs": [
        {
          "output_type": "stream",
          "name": "stdout",
          "text": [
            "tensor([    140302180813168, 3185968866722776500,     140302175206448,\n",
            "            140302180753808, 6096220626899529653])\n",
            "tensor([5])\n"
          ]
        }
      ],
      "source": [
        "a = torch.LongTensor(5)\n",
        "b = torch.LongTensor([5])\n",
        "\n",
        "print(a)\n",
        "print(b)"
      ]
    },
    {
      "cell_type": "code",
      "execution_count": null,
      "metadata": {
        "colab": {
          "base_uri": "https://localhost:8080/"
        },
        "id": "EohavgcYtv6f",
        "outputId": "903f8639-5aa4-48d5-d816-2c734979ca3d"
      },
      "outputs": [
        {
          "output_type": "stream",
          "name": "stdout",
          "text": [
            "tensor([5.])\n"
          ]
        }
      ],
      "source": [
        "a = torch.FloatTensor([2])\n",
        "b = torch.FloatTensor([3])\n",
        "\n",
        "print(a + b)"
      ]
    },
    {
      "cell_type": "markdown",
      "metadata": {
        "id": "AJ7gaHMpt0fV"
      },
      "source": [
        "The main interest in us using Pytorch is the ```autograd``` package. ```torch.Tensor```objects have an attribute ```.requires_grad```; if set as True, it starts to track all operations on it. When you finish your computation, can call ```.backward()``` and all the gradients are computed automatically (and stored in the ```.grad``` attribute).\n",
        "\n",
        "One way to easily cut a tensor from the computational once it is not needed anymore is to use ```.detach()```.\n",
        "More info on automatic differentiation in pytorch on [this link](https://pytorch.org/tutorials/beginner/blitz/autograd_tutorial.html#sphx-glr-beginner-blitz-autograd-tutorial-py).\n"
      ]
    },
    {
      "cell_type": "code",
      "execution_count": null,
      "metadata": {
        "colab": {
          "base_uri": "https://localhost:8080/"
        },
        "id": "DGHcybvEty-E",
        "outputId": "4812de65-fca0-4e7f-aad0-09bbe7d588ef"
      },
      "outputs": [
        {
          "output_type": "stream",
          "name": "stdout",
          "text": [
            "tensor(2.)\n",
            "tensor(1.)\n",
            "tensor(1.)\n"
          ]
        }
      ],
      "source": [
        "x = torch.tensor(1., requires_grad=True)\n",
        "w = torch.tensor(2., requires_grad=True)\n",
        "b = torch.tensor(3., requires_grad=True)\n",
        "\n",
        "# Build a computational graph.\n",
        "y = w * x + b    # y = 2 * x + 3\n",
        "\n",
        "# Compute gradients.\n",
        "y.backward()\n",
        "\n",
        "# Print out the gradients.\n",
        "print(x.grad)    # x.grad = 2\n",
        "print(w.grad)    # w.grad = 1\n",
        "print(b.grad)    # b.grad = 1"
      ]
    },
    {
      "cell_type": "code",
      "execution_count": null,
      "metadata": {
        "colab": {
          "base_uri": "https://localhost:8080/"
        },
        "id": "6b2WNPUetzA-",
        "outputId": "c5011140-3e90-4862-c59d-3e2e07f1ffe9"
      },
      "outputs": [
        {
          "output_type": "stream",
          "name": "stdout",
          "text": [
            "weight\n",
            "Parameter containing:\n",
            "tensor([[ 0.5758,  0.0164,  0.4195],\n",
            "        [ 0.1655,  0.3106, -0.4533]], requires_grad=True)\n",
            "bias\n",
            "Parameter containing:\n",
            "tensor([ 0.1741, -0.3419], requires_grad=True)\n",
            "Initial loss:  1.7227662801742554\n",
            "dL/dw:  tensor([[ 1.3695,  0.3435, -0.4366],\n",
            "        [ 0.3740, -0.1005, -0.3174]])\n",
            "dL/db:  tensor([ 0.1505, -0.4511])\n"
          ]
        }
      ],
      "source": [
        "x = torch.randn(10, 3)\n",
        "y = torch.randn(10, 2)\n",
        "\n",
        "# Build a fully connected layer.\n",
        "linear = nn.Linear(3, 2)\n",
        "for name, p in linear.named_parameters():\n",
        "    print(name)\n",
        "    print(p)\n",
        "\n",
        "# Build loss function - Mean Square Error\n",
        "criterion = nn.MSELoss()\n",
        "\n",
        "# Forward pass.\n",
        "pred = linear(x)\n",
        "\n",
        "# Compute loss.\n",
        "loss = criterion(pred, y)\n",
        "print('Initial loss: ', loss.item())\n",
        "\n",
        "# Backward pass.\n",
        "loss.backward()\n",
        "\n",
        "# Print out the gradients.\n",
        "print ('dL/dw: ', linear.weight.grad)\n",
        "print ('dL/db: ', linear.bias.grad)"
      ]
    },
    {
      "cell_type": "code",
      "execution_count": null,
      "metadata": {
        "colab": {
          "base_uri": "https://localhost:8080/"
        },
        "id": "aCZynIQFtzD0",
        "outputId": "5c7cee4a-3611-478b-d767-d55aae0342de"
      },
      "outputs": [
        {
          "output_type": "stream",
          "name": "stdout",
          "text": [
            "Loss after one update:  1.696348786354065\n"
          ]
        }
      ],
      "source": [
        "# You can perform gradient descent manually, with an in-place update ...\n",
        "linear.weight.data.sub_(0.01 * linear.weight.grad.data)\n",
        "linear.bias.data.sub_(0.01 * linear.bias.grad.data)\n",
        "\n",
        "# Print out the loss after 1-step gradient descent.\n",
        "pred = linear(x)\n",
        "loss = criterion(pred, y)\n",
        "print('Loss after one update: ', loss.item())"
      ]
    },
    {
      "cell_type": "code",
      "execution_count": null,
      "metadata": {
        "colab": {
          "base_uri": "https://localhost:8080/"
        },
        "id": "RXaI-9Z9tzGt",
        "outputId": "591a6d69-78d7-40e7-cbdf-045fa9c524b7"
      },
      "outputs": [
        {
          "output_type": "stream",
          "name": "stdout",
          "text": [
            "Loss after two updates:  1.6706854104995728\n"
          ]
        }
      ],
      "source": [
        "# Use the optim package to define an Optimizer that will update the weights of the model.\n",
        "optimizer = torch.optim.SGD(linear.parameters(), lr=0.01)\n",
        "\n",
        "# By default, gradients are accumulated in buffers( i.e, not overwritten) whenever .backward()\n",
        "# is called. Before the backward pass, we need to use the optimizer object to zero all of the\n",
        "# gradients.\n",
        "optimizer.zero_grad()\n",
        "loss.backward()\n",
        "\n",
        "# Calling the step function on an Optimizer makes an update to its parameters\n",
        "optimizer.step()\n",
        "\n",
        "# Print out the loss after the second step of gradient descent.\n",
        "pred = linear(x)\n",
        "loss = criterion(pred, y)\n",
        "print('Loss after two updates: ', loss.item())"
      ]
    },
    {
      "cell_type": "markdown",
      "metadata": {
        "id": "xjcyC09ct9Nn"
      },
      "source": [
        "## 2 - Tools for data processing\n",
        "\n",
        "```torch.utils.data.Dataset``` is an abstract class representing a dataset. Your custom dataset should inherit ```Dataset``` and override the following methods:\n",
        "- ```__len__``` so that ```len(dataset)``` returns the size of the dataset.\n",
        "- ```__getitem__``` to support the indexing such that ```dataset[i]``` can be used to get the i-th sample\n",
        "\n",
        "Here is a toy example:"
      ]
    },
    {
      "cell_type": "code",
      "execution_count": null,
      "metadata": {
        "id": "OAZi4yvpuAyG"
      },
      "outputs": [],
      "source": [
        "toy_corpus = ['I walked down down the boulevard',\n",
        "              'I walked down the avenue',\n",
        "              'I ran down the boulevard',\n",
        "              'I walk down the city',\n",
        "              'I walk down the the avenue']\n",
        "\n",
        "toy_categories = [0, 0, 1, 0, 0]"
      ]
    },
    {
      "cell_type": "code",
      "execution_count": null,
      "metadata": {
        "id": "I0s6D6VOuCNc"
      },
      "outputs": [],
      "source": [
        "from torch.utils.data import Dataset, DataLoader\n",
        "\n",
        "class CustomDataset(Dataset):\n",
        "    # A pytorch dataset class for holding data for a text classification task.\n",
        "    def __init__(self, data, categories):\n",
        "        # Upon creating the Dataset object, store the data in an attribute\n",
        "        # Split the text data and labels from each other\n",
        "        self.X, self.Y = [], []\n",
        "        for x, y in zip(data, categories):\n",
        "            # We will propably need to preprocess the data - have it done in a separate method\n",
        "            # We do it here because we might need corpus-wide info to do the preprocessing\n",
        "            # For example, cutting all examples to the same length\n",
        "            self.X.append(self.preprocess(x))\n",
        "            self.Y.append(y)\n",
        "\n",
        "    # Method allowing you to preprocess data\n",
        "    def preprocess(self, text):\n",
        "        text_pp = text.lower().strip()\n",
        "        return text_pp\n",
        "\n",
        "    # Overriding the method __len__ so that len(CustomDatasetName) returns the number of data samples\n",
        "    def __len__(self):\n",
        "        return len(self.Y)\n",
        "\n",
        "    # Overriding the method __getitem__ so that CustomDatasetName[i] returns the i-th sample of the dataset\n",
        "    def __getitem__(self, idx):\n",
        "           return self.X[idx], self.Y[idx]"
      ]
    },
    {
      "cell_type": "code",
      "execution_count": null,
      "metadata": {
        "id": "cmjsfRZPuCQc"
      },
      "outputs": [],
      "source": [
        "toy_dataset = CustomDataset(toy_corpus, toy_categories)"
      ]
    },
    {
      "cell_type": "code",
      "execution_count": null,
      "metadata": {
        "colab": {
          "base_uri": "https://localhost:8080/"
        },
        "id": "pxyTBFp6uGaL",
        "outputId": "19005c6e-7375-4dab-f461-b4037a646372"
      },
      "outputs": [
        {
          "output_type": "stream",
          "name": "stdout",
          "text": [
            "5\n",
            "('i walked down down the boulevard', 0)\n",
            "('i walked down the avenue', 0)\n",
            "('i ran down the boulevard', 1)\n",
            "('i walk down the city', 0)\n",
            "('i walk down the the avenue', 0)\n"
          ]
        }
      ],
      "source": [
        "print(len(toy_dataset))\n",
        "for i in range(len(toy_dataset)):\n",
        "    print(toy_dataset[i])"
      ]
    },
    {
      "cell_type": "markdown",
      "metadata": {
        "id": "BdtlHKpJuKwY"
      },
      "source": [
        "```torch.utils.data.DataLoader``` is what we call an iterator, which provides very useful features:\n",
        "- Batching the data\n",
        "- Shuffling the data\n",
        "- Load the data in parallel using multiprocessing workers.\n",
        "and can be created very simply from a ```Dataset```. Continuing on our simple example:"
      ]
    },
    {
      "cell_type": "code",
      "execution_count": null,
      "metadata": {
        "id": "WAk7_20auGdJ"
      },
      "outputs": [],
      "source": [
        "toy_dataloader = DataLoader(toy_dataset, batch_size = 2, shuffle = True)"
      ]
    },
    {
      "cell_type": "code",
      "execution_count": null,
      "metadata": {
        "colab": {
          "base_uri": "https://localhost:8080/"
        },
        "id": "oTvn7nmZuGgE",
        "outputId": "8f00499e-a7e7-459c-c9e5-e8d319b2406f"
      },
      "outputs": [
        {
          "output_type": "stream",
          "name": "stdout",
          "text": [
            "Epoch:0\n",
            "Batch: ('i walked down the avenue', 'i walked down down the boulevard'); labels: tensor([0, 0])\n",
            "Batch: ('i ran down the boulevard', 'i walk down the city'); labels: tensor([1, 0])\n",
            "Batch: ('i walk down the the avenue',); labels: tensor([0])\n",
            "Epoch:1\n",
            "Batch: ('i walked down down the boulevard', 'i walk down the the avenue'); labels: tensor([0, 0])\n",
            "Batch: ('i ran down the boulevard', 'i walk down the city'); labels: tensor([1, 0])\n",
            "Batch: ('i walked down the avenue',); labels: tensor([0])\n",
            "Epoch:2\n",
            "Batch: ('i walked down down the boulevard', 'i walked down the avenue'); labels: tensor([0, 0])\n",
            "Batch: ('i ran down the boulevard', 'i walk down the city'); labels: tensor([1, 0])\n",
            "Batch: ('i walk down the the avenue',); labels: tensor([0])\n"
          ]
        }
      ],
      "source": [
        "for e in range(3):\n",
        "    print(\"Epoch:\" + str(e))\n",
        "    for x, y in toy_dataloader:\n",
        "        print(\"Batch: \" + str(x) + \"; labels: \" + str(y))"
      ]
    },
    {
      "cell_type": "markdown",
      "metadata": {
        "id": "7lgbEZpbuQLN"
      },
      "source": [
        "## 3 - Data processing of a text dataset\n",
        "\n",
        "Now, we would like to apply what we saw to our case, and **create a specific class** ```TextClassificationDataset``` **inheriting** ```Dataset``` that will:\n",
        "- Create a vocabulary from the data (use what we saw in the previous TP)\n",
        "- Preprocess the data using this vocabulary, adding whatever we need for our pytorch model\n",
        "- Have a ```__getitem__``` method that allows us to use the class with a ```Dataloader``` to easily build batches."
      ]
    },
    {
      "cell_type": "code",
      "execution_count": null,
      "metadata": {
        "id": "LXMyhHSfuGl4"
      },
      "outputs": [],
      "source": [
        "import os\n",
        "import sys\n",
        "import os.path as op\n",
        "from torch.nn import functional as F\n",
        "import numpy as np\n",
        "import random\n",
        "\n",
        "from nltk import word_tokenize\n",
        "from torch.nn.utils.rnn import pad_sequence"
      ]
    },
    {
      "cell_type": "markdown",
      "metadata": {
        "id": "brvWrFAHvfzX"
      },
      "source": [
        "First, we get the filenames and the corresponding categories:"
      ]
    },
    {
      "cell_type": "code",
      "execution_count": null,
      "metadata": {
        "colab": {
          "base_uri": "https://localhost:8080/"
        },
        "id": "WWrPRszpuGoY",
        "outputId": "0979c7b4-d2b0-4104-99c9-3b85a8748948"
      },
      "outputs": [
        {
          "output_type": "stream",
          "name": "stderr",
          "text": [
            "Downloading...\n",
            "From: http://ai.stanford.edu/~amaas/data/sentiment/aclImdb_v1.tar.gz\n",
            "To: /content/aclImdb_v1.tar.gz\n",
            "100%|██████████| 84.1M/84.1M [00:01<00:00, 56.3MB/s]\n"
          ]
        }
      ],
      "source": [
        "# For those on google colab: you can download the files directly with this:\n",
        "import gdown\n",
        "gdown.download(\"http://ai.stanford.edu/~amaas/data/sentiment/aclImdb_v1.tar.gz\", output=\"aclImdb_v1.tar.gz\", quiet=False)\n",
        "!tar xzf /content/aclImdb_v1.tar.gz"
      ]
    },
    {
      "cell_type": "code",
      "execution_count": null,
      "metadata": {
        "colab": {
          "base_uri": "https://localhost:8080/"
        },
        "id": "zWxaPdQjuGrm",
        "outputId": "2cf5dbe3-eca5-43cb-bdd0-59ef78918005"
      },
      "outputs": [
        {
          "output_type": "stream",
          "name": "stderr",
          "text": [
            "<ipython-input-16-42cec86fd00c>:25: DeprecationWarning: `np.int` is a deprecated alias for the builtin `int`. To silence this warning, use `int` by itself. Doing this will not modify any behavior and is safe. When replacing `np.int`, you may wish to use e.g. `np.int64` or `np.int32` to specify the precision. If you wish to review your current use, check the release note link for additional information.\n",
            "Deprecated in NumPy 1.20; for more details and guidance: https://numpy.org/devdocs/release/1.20.0-notes.html#deprecations\n",
            "  test_labels = np.ones(len(test_texts), dtype=np.int)\n"
          ]
        }
      ],
      "source": [
        "from glob import glob\n",
        "# We get the files from the path: ./aclImdb/train/neg for negative reviews, and ./aclImdb/train/pos for positive reviews\n",
        "train_filenames_neg = sorted(glob(op.join('.', 'aclImdb', 'train', 'neg', '*.txt')))\n",
        "train_filenames_pos = sorted(glob(op.join('.', 'aclImdb', 'train', 'pos', '*.txt')))\n",
        "\n",
        "test_filenames_neg = sorted(glob(op.join('.', 'aclImdb', 'test', 'neg', '*.txt')))\n",
        "test_filenames_pos = sorted(glob(op.join('.', 'aclImdb', 'test', 'pos', '*.txt')))\n",
        "\n",
        "# Each files contains a review that consists in one line of text: we put this string in two lists, that we concatenate\n",
        "train_texts_neg = [open(f, encoding=\"utf8\").read() for f in train_filenames_neg]\n",
        "train_texts_pos = [open(f, encoding=\"utf8\").read() for f in train_filenames_pos]\n",
        "train_texts = train_texts_neg + train_texts_pos\n",
        "\n",
        "test_texts_neg = [open(f, encoding=\"utf8\").read() for f in test_filenames_neg]\n",
        "test_texts_pos = [open(f, encoding=\"utf8\").read() for f in test_filenames_pos]\n",
        "test_texts = test_texts_neg + test_texts_pos\n",
        "\n",
        "\n",
        "# The first half of the elements of the list are string of negative reviews, and the second half positive ones\n",
        "# We create the labels, as an array of [1,len(texts)], filled with 1, and change the first half to 0\n",
        "train_labels = np.ones(len(train_texts), dtype=int)\n",
        "train_labels[:len(train_texts_neg)] = 0.\n",
        "\n",
        "\n",
        "test_labels = np.ones(len(test_texts), dtype=np.int)\n",
        "test_labels[:len(test_texts_neg)] = 0."
      ]
    },
    {
      "cell_type": "markdown",
      "metadata": {
        "id": "g2F1biXNv62G"
      },
      "source": [
        "Example of one document:"
      ]
    },
    {
      "cell_type": "code",
      "execution_count": null,
      "metadata": {
        "colab": {
          "base_uri": "https://localhost:8080/",
          "height": 87
        },
        "id": "2XL0ZBz_uCTX",
        "outputId": "70fa825d-0fbc-4eb1-846f-3a0d9d477ff5"
      },
      "outputs": [
        {
          "output_type": "execute_result",
          "data": {
            "text/plain": [
              "\"Story of a man who has unnatural feelings for a pig. Starts out with a opening scene that is a terrific example of absurd comedy. A formal orchestra audience is turned into an insane, violent mob by the crazy chantings of it's singers. Unfortunately it stays absurd the WHOLE time with no general narrative eventually making it just too off putting. Even those from the era should be turned off. The cryptic dialogue would make Shakespeare seem easy to a third grader. On a technical level it's better than you might think with some good cinematography by future great Vilmos Zsigmond. Future stars Sally Kirkland and Frederic Forrest can be seen briefly.\""
            ],
            "application/vnd.google.colaboratory.intrinsic+json": {
              "type": "string"
            }
          },
          "metadata": {},
          "execution_count": 17
        }
      ],
      "source": [
        "open(\"./aclImdb/train/neg/0_3.txt\", encoding=\"utf8\").read()"
      ]
    },
    {
      "cell_type": "markdown",
      "metadata": {
        "id": "Mad2WjyxwIp_"
      },
      "source": [
        "We can use a function from sklearn, ```train_test_split```, to separate data into training and validation sets:\n",
        "\n"
      ]
    },
    {
      "cell_type": "code",
      "execution_count": null,
      "metadata": {
        "id": "5VXYzolvv79h"
      },
      "outputs": [],
      "source": [
        "from sklearn.model_selection import train_test_split"
      ]
    },
    {
      "cell_type": "code",
      "execution_count": null,
      "metadata": {
        "id": "lOZxlsdHwW8s"
      },
      "outputs": [],
      "source": [
        "train_texts_splt, val_texts, train_labels_splt, val_labels = train_test_split(train_texts, train_labels, test_size=.2)"
      ]
    },
    {
      "cell_type": "markdown",
      "metadata": {
        "id": "fTuq86F_w38k"
      },
      "source": [
        "We can now implement our ```TextClassificationDataset``` class, that we will build from:\n",
        "- A list of path to the IMDB files in the training set: ```path_to_file```\n",
        "- A list of the corresponding categories: ```categories```\n",
        "We will add three optional arguments:\n",
        "- First, a way to input a vocabulary (so that we can re-use the training vocabulary on the validation and training ```TextClassificationDataset```). By default, the value of the argument is ```None```.\n",
        "- In order to work with batches, we will need to have sequences of the same size. That can be done via **padding** but we will still need to limit the size of documents (to avoid having batches of huge sequences that are mostly empty because of one very long documents) to a ```max_length```. Let's put it to 100 by default.\n",
        "- Lastly, a ```min_freq``` that indicates how many times a word must appear to be taken in the vocabulary."
      ]
    },
    {
      "cell_type": "markdown",
      "metadata": {
        "id": "uEv4BW4ow6Qe"
      },
      "source": [
        "The idea behind **padding** is to transform a list of pytorch tensors (of maybe different length) into a two dimensional tensor - which we can see as a batch. The size of the first dimension is the one of the longest tensor - and other are **padded** with a chosen symbol: here, we choose 0."
      ]
    },
    {
      "cell_type": "code",
      "execution_count": null,
      "metadata": {
        "id": "5HvjckX8wW_Y"
      },
      "outputs": [],
      "source": [
        "tensor_1 = torch.LongTensor([1, 4, 5])\n",
        "tensor_2 = torch.LongTensor([2])\n",
        "tensor_3 = torch.LongTensor([6, 7])"
      ]
    },
    {
      "cell_type": "code",
      "execution_count": null,
      "metadata": {
        "colab": {
          "base_uri": "https://localhost:8080/"
        },
        "id": "1TkfZxx6w9E-",
        "outputId": "2ed10a1f-9492-4639-ca5c-42119364f0a7"
      },
      "outputs": [
        {
          "output_type": "stream",
          "name": "stdout",
          "text": [
            "tensor([[1, 4, 5],\n",
            "        [2, 0, 0],\n",
            "        [6, 7, 0]])\n"
          ]
        }
      ],
      "source": [
        "tensor_padded = pad_sequence([tensor_1, tensor_2, tensor_3], batch_first=True, padding_value = 0)\n",
        "print(tensor_padded)"
      ]
    },
    {
      "cell_type": "markdown",
      "metadata": {
        "id": "BtohAhvKy00a"
      },
      "source": [
        "<div class='alert alert-block alert-info'>\n",
        "            Code:</div>"
      ]
    },
    {
      "cell_type": "code",
      "execution_count": null,
      "metadata": {
        "id": "rMuYLusC2E5q"
      },
      "outputs": [],
      "source": [
        "from collections import Counter\n",
        "from torch.nn.utils.rnn import pad_sequence\n",
        "from torch.utils.data import Dataset\n",
        "import torch\n",
        "\n",
        "class TextClassificationDataset(Dataset):\n",
        "    def __init__(self, data, categories, vocab = None, max_length = 100, min_freq = 5):\n",
        "        self.data = data\n",
        "        self.max_length = max_length\n",
        "\n",
        "        if vocab is not None:\n",
        "            self.word2idx, self.idx2word = vocab\n",
        "        else:\n",
        "            self.word2idx, self.idx2word = self.build_vocab(self.data, min_freq)\n",
        "\n",
        "        # We then need to tokenize the data ..\n",
        "        tokenized_data = [word_tokenize(d) for d in self.data]\n",
        "\n",
        "        # Transform words into lists of indexes ... (use the .get() method to redirect unknown words to the UNK token)\n",
        "        indexed_data = [[self.word2idx.get(word, self.word2idx['UNK']) for word in seq] for seq in tokenized_data]\n",
        "\n",
        "         # And transform this list of lists into a list of Pytorch LongTensors\n",
        "        tensor_data = [torch.LongTensor(seq) for seq in indexed_data]\n",
        "\n",
        "        # And the categories into a FloatTensor\n",
        "        tensor_y = torch.FloatTensor(categories)\n",
        "\n",
        "        # To finally cut it    when it's above the maximum length\n",
        "        cut_tensor_data = [seq[:self.max_length] for seq in tensor_data]\n",
        "\n",
        "        # Now, we need to use the pad_sequence function to have the whole dataset represented as one tensor,\n",
        "        # containing sequences of the same length. We choose the padding_value to be 0, the we want the\n",
        "        # batch dimension to be the first dimension\n",
        "        self.tensor_data = pad_sequence(cut_tensor_data, batch_first=True, padding_value=0)\n",
        "        self.tensor_y = tensor_y\n",
        "\n",
        "    def __len__(self):\n",
        "        return len(self.data)\n",
        "\n",
        "    def __getitem__(self, idx):\n",
        "        # The iterator just gets one particular example with its category\n",
        "        # The dataloader will take care of the shuffling and batching\n",
        "        if torch.is_tensor(idx):\n",
        "            idx = idx.tolist()\n",
        "        return self.tensor_data[idx], self.tensor_y[idx]\n",
        "\n",
        "    def build_vocab(self, corpus, count_threshold):\n",
        "        # Simmilar to the previous TP\n",
        "        counter = Counter()\n",
        "        for text in corpus:\n",
        "            tokens = word_tokenize(text)\n",
        "            counter.update(tokens)\n",
        "\n",
        "        word_index = {'PAD': 0, 'UNK': 1}\n",
        "        idx_word = {0: 'PAD', 1: 'UNK'}\n",
        "        for word, count in counter.items():\n",
        "            if count >= count_threshold:\n",
        "                idx = len(word_index)\n",
        "                word_index[word] = idx\n",
        "                idx_word[idx] = word\n",
        "\n",
        "        return word_index, idx_word\n",
        "\n",
        "    def get_vocab(self):\n",
        "        return self.word2idx, self.idx2word"
      ]
    },
    {
      "cell_type": "code",
      "execution_count": null,
      "metadata": {
        "colab": {
          "base_uri": "https://localhost:8080/"
        },
        "id": "CM0NsS3DzYmI",
        "outputId": "a0471a3b-59b9-4671-b429-20bc75ee5fba"
      },
      "outputs": [
        {
          "output_type": "stream",
          "name": "stderr",
          "text": [
            "[nltk_data] Downloading package punkt to /root/nltk_data...\n",
            "[nltk_data]   Unzipping tokenizers/punkt.zip.\n"
          ]
        },
        {
          "output_type": "execute_result",
          "data": {
            "text/plain": [
              "True"
            ]
          },
          "metadata": {},
          "execution_count": 23
        }
      ],
      "source": [
        "import nltk\n",
        "nltk.download('punkt')"
      ]
    },
    {
      "cell_type": "code",
      "execution_count": null,
      "metadata": {
        "id": "QwA5Jxm3w9Kw"
      },
      "outputs": [],
      "source": [
        "training_dataset = TextClassificationDataset(train_texts_splt, train_labels_splt)\n",
        "training_word2idx, training_idx2word = training_dataset.get_vocab()"
      ]
    },
    {
      "cell_type": "code",
      "execution_count": null,
      "metadata": {
        "id": "HBD-W4fzw9NR"
      },
      "outputs": [],
      "source": [
        "valid_dataset = TextClassificationDataset(val_texts, val_labels, (training_word2idx, training_idx2word))"
      ]
    },
    {
      "cell_type": "code",
      "execution_count": null,
      "metadata": {
        "id": "n3ei2xd6JnvS"
      },
      "outputs": [],
      "source": [
        "test_dataset = TextClassificationDataset(test_texts, test_labels, (training_word2idx, training_idx2word))"
      ]
    },
    {
      "cell_type": "code",
      "execution_count": null,
      "metadata": {
        "id": "FvWlJpbRw9Pt"
      },
      "outputs": [],
      "source": [
        "training_dataloader = DataLoader(training_dataset, batch_size = 200, shuffle=True)\n",
        "valid_dataloader = DataLoader(valid_dataset, batch_size = 25)\n",
        "test_dataloader = DataLoader(test_dataset, batch_size = 25)"
      ]
    },
    {
      "cell_type": "code",
      "execution_count": null,
      "metadata": {
        "colab": {
          "base_uri": "https://localhost:8080/"
        },
        "id": "LidGZUp-w9SN",
        "outputId": "2c8739ab-d464-4ff6-a5ec-4cca0b18de60"
      },
      "outputs": [
        {
          "output_type": "stream",
          "name": "stdout",
          "text": [
            "(tensor([  155,   642,    62,     1,    22,    99,  1024,   161,   191,  1636,\n",
            "          642,    96,   685,   161,   161,   477,    55,    97,   264,    11,\n",
            "          318,    89,   515,     4,   119,    55,   258,  3108,    11, 12460,\n",
            "        18759,    13,    70,  1582,    14, 15164,   191,   191,   191,   191,\n",
            "         1425,   666,   131,    11,  1299,  8525,  1987,    41,  1929,  1944,\n",
            "        14918,  7873,   191,   801,     2,  7359, 12244,  2740,    52,   864,\n",
            "          105,    14,   119,    55,   109,   318,  2978,    14,  6847,   110,\n",
            "          801,     2,  7359, 12546,    36,   119,    55,   122,    14,   109,\n",
            "         3605,   110,    11,     2,  1844,    41,   124,     4,   119,    14,\n",
            "          109,     1,   110,   128,    10,  4177,   336,    11,   762,  1052]), tensor(1.))\n"
          ]
        }
      ],
      "source": [
        "print(valid_dataset[1])"
      ]
    },
    {
      "cell_type": "code",
      "execution_count": null,
      "metadata": {
        "colab": {
          "base_uri": "https://localhost:8080/"
        },
        "id": "891JXUwPw9Ux",
        "outputId": "6cb7e99c-dbc2-4a5e-9077-6d4c7884fe34"
      },
      "outputs": [
        {
          "output_type": "stream",
          "name": "stdout",
          "text": [
            "torch.Size([200, 100])\n",
            "torch.Size([200])\n"
          ]
        }
      ],
      "source": [
        "example_batch = next(iter(training_dataloader))\n",
        "print(example_batch[0].size())\n",
        "print(example_batch[1].size())"
      ]
    },
    {
      "cell_type": "markdown",
      "metadata": {
        "id": "7n9XkuTs0GKT"
      },
      "source": [
        "### 4 - A simple averaging model\n",
        "\n",
        "Now, we will implement in Pytorch what we did in the previous TP: a simple averaging model. For each model we will implement, we need to create a class which inherits from ```nn.Module``` and redifine the ```__init__``` method as well as the ```forward``` method."
      ]
    },
    {
      "cell_type": "markdown",
      "metadata": {
        "id": "fdAQg7x8y00g"
      },
      "source": [
        "<div class='alert alert-block alert-info'>\n",
        "            Code:</div>"
      ]
    },
    {
      "cell_type": "code",
      "execution_count": null,
      "metadata": {
        "id": "wCmyWWQq0LDS"
      },
      "outputs": [],
      "source": [
        "# Models are usually implemented as custom nn.Module subclass\n",
        "# We need to redefine the __init__ method, which creates the object\n",
        "# We also need to redefine the forward method, which transform the input into outputs\n",
        "\n",
        "class AveragingModel(nn.Module):\n",
        "    def __init__(self, embedding_dim, vocabulary_size):\n",
        "        super().__init__()\n",
        "        # Create an embedding object. Be careful to padding - you need to increase the vocabulary size by one !\n",
        "        # Look into the arguments of the nn.Embedding class\n",
        "        self.embeddings = nn.Embedding(vocabulary_size + 1, embedding_dim, padding_idx=0)\n",
        "        # Create a linear layer that will transform the mean of the embeddings into a classification score\n",
        "        self.linear = nn.Linear(embedding_dim, 1)\n",
        "\n",
        "        # No need for sigmoid, it will be into the criterion !\n",
        "\n",
        "    def forward(self, inputs):\n",
        "        # Remember: the inpts are written as Batch_size * seq_length * embedding_dim\n",
        "        # First, take the mean of the embeddings of the document\n",
        "        x = torch.mean(self.embeddings(inputs), dim=1)\n",
        "        # Then make it go through the linear layer and remove the extra dimension with the method .squeeze()\n",
        "        o = self.linear(x).squeeze()\n",
        "        return o"
      ]
    },
    {
      "cell_type": "code",
      "execution_count": null,
      "metadata": {
        "id": "5VH2C2rE0FR_"
      },
      "outputs": [],
      "source": [
        "import torch.optim as optim"
      ]
    },
    {
      "cell_type": "code",
      "execution_count": null,
      "metadata": {
        "id": "wZp4RDMW0LGX"
      },
      "outputs": [],
      "source": [
        "model = AveragingModel(300, len(training_word2idx))\n",
        "# Create an optimizer\n",
        "opt = optim.Adam(model.parameters(), lr=0.0025, betas=(0.9, 0.999))\n",
        "# The criterion is a binary cross entropy loss based on logits - meaning that the sigmoid is integrated into the criterion\n",
        "criterion = nn.BCEWithLogitsLoss()"
      ]
    },
    {
      "cell_type": "markdown",
      "metadata": {
        "id": "CF_gV7cdy00g"
      },
      "source": [
        "<div class='alert alert-block alert-info'>\n",
        "            Code:</div>"
      ]
    },
    {
      "cell_type": "code",
      "execution_count": null,
      "metadata": {
        "id": "JM9MFRVQ0LJh"
      },
      "outputs": [],
      "source": [
        "# Implement a training function, which will train the model with the corresponding optimizer and criterion,\n",
        "# with the appropriate dataloader, for one epoch.\n",
        "\n",
        "def train_epoch(model, opt, criterion, dataloader):\n",
        "    model.train()\n",
        "    losses = []\n",
        "    for i, (x, y) in enumerate(dataloader):\n",
        "        opt.zero_grad()\n",
        "        # (1) Forward\n",
        "        pred = model(x)\n",
        "        # (2) Compute the loss\n",
        "        loss = criterion(pred, y)\n",
        "        # (3) Compute gradients with the criterion\n",
        "        loss.backward()\n",
        "        # (4) Update weights with the optimizer\n",
        "        opt.step()\n",
        "        losses.append(loss.item())\n",
        "        # Count the number of correct predictions in the batch - here, you'll need to use the sigmoid\n",
        "        num_corrects = ((torch.sigmoid(pred) >= 0.5)==y).sum().item()\n",
        "        # We will divide by batch_size of simply dividing for len(y), as we were having problems with errors. So the solution we had was to transform that lenght to a tensor as well\n",
        "        batch_size = torch.tensor(len(y))\n",
        "        acc = 100.0 * num_corrects/batch_size\n",
        "\n",
        "        if (i%20 == 0):\n",
        "            print(\"Batch \" + str(i) + \" : training loss = \" + str(loss.item()) + \"; training acc = \" + str(acc.item()))\n",
        "\n",
        "    return losses"
      ]
    },
    {
      "cell_type": "markdown",
      "metadata": {
        "id": "zNZwPRd-y00g"
      },
      "source": [
        "<div class='alert alert-block alert-info'>\n",
        "            Code:</div>"
      ]
    },
    {
      "cell_type": "code",
      "execution_count": null,
      "metadata": {
        "id": "vz82AFmL0LMx"
      },
      "outputs": [],
      "source": [
        "# Same for the evaluation ! We don't need the optimizer here.\n",
        "def eval_model(model, criterion, evalloader):\n",
        "    model.eval()\n",
        "    total_epoch_loss = 0\n",
        "    total_epoch_acc = 0\n",
        "    with torch.no_grad():\n",
        "        for i, (x, y) in enumerate(evalloader):\n",
        "            pred = model(x)\n",
        "            loss = criterion(pred, y)\n",
        "            num_corrects = ((torch.sigmoid(pred) >= 0.5)==y).sum().item()\n",
        "            batch_size = torch.tensor(len(y))\n",
        "            acc = 100.0 * num_corrects/batch_size\n",
        "            total_epoch_loss += loss.item()\n",
        "            total_epoch_acc += acc.item()\n",
        "\n",
        "    return total_epoch_loss/(i+1), total_epoch_acc/(i+1)"
      ]
    },
    {
      "cell_type": "code",
      "execution_count": null,
      "metadata": {
        "id": "J8grPth70ZyO"
      },
      "outputs": [],
      "source": [
        "# A function which will help you execute experiments rapidly - with a early_stopping option when necessary.\n",
        "def experiment(model, opt, criterion, num_epochs = 5, early_stopping = True):\n",
        "    train_losses = []\n",
        "    if early_stopping:\n",
        "        best_valid_loss = 10.\n",
        "    print(\"Beginning training...\")\n",
        "    for e in range(num_epochs):\n",
        "        print(\"Epoch \" + str(e+1) + \":\")\n",
        "        train_losses += train_epoch(model, opt, criterion, training_dataloader)\n",
        "        valid_loss, valid_acc = eval_model(model, criterion, valid_dataloader)\n",
        "        print(\"Epoch \" + str(e+1) + \" : Validation loss = \" + str(valid_loss) + \"; Validation acc = \" + str(valid_acc))\n",
        "        if early_stopping:\n",
        "            if valid_loss < best_valid_loss:\n",
        "                best_valid_loss = valid_loss\n",
        "            else:\n",
        "                print(\"Early stopping.\")\n",
        "                break\n",
        "    test_loss, test_acc = eval_model(model, criterion, test_dataloader)\n",
        "    print(\"Epoch \" + str(e+1) + \" : Test loss = \" + str(test_loss) + \"; Test acc = \" + str(test_acc))\n",
        "    return train_losses"
      ]
    },
    {
      "cell_type": "code",
      "execution_count": null,
      "metadata": {
        "colab": {
          "base_uri": "https://localhost:8080/"
        },
        "id": "UZvgnfo10Z1i",
        "outputId": "15c7cc89-db34-485e-b963-f56810b71371"
      },
      "outputs": [
        {
          "output_type": "stream",
          "name": "stdout",
          "text": [
            "Beginning training...\n",
            "Epoch 1:\n",
            "Batch 0 : training loss = 0.6879578232765198; training acc = 55.0\n",
            "Batch 20 : training loss = 0.6676062941551208; training acc = 66.5\n",
            "Batch 40 : training loss = 0.6535484790802002; training acc = 65.5\n",
            "Batch 60 : training loss = 0.6159504055976868; training acc = 72.0\n",
            "Batch 80 : training loss = 0.5845987200737; training acc = 71.5\n",
            "Epoch 1 : Validation loss = 0.5585349906980991; Validation acc = 73.98\n",
            "Epoch 2:\n",
            "Batch 0 : training loss = 0.5460197925567627; training acc = 76.0\n",
            "Batch 20 : training loss = 0.5515493154525757; training acc = 73.5\n",
            "Batch 40 : training loss = 0.5002140998840332; training acc = 78.5\n",
            "Batch 60 : training loss = 0.4628053307533264; training acc = 79.0\n",
            "Batch 80 : training loss = 0.4838457405567169; training acc = 78.0\n",
            "Epoch 2 : Validation loss = 0.44121659740805624; Validation acc = 80.7\n",
            "Epoch 3:\n",
            "Batch 0 : training loss = 0.37001359462738037; training acc = 84.0\n",
            "Batch 20 : training loss = 0.3958125412464142; training acc = 83.5\n",
            "Batch 40 : training loss = 0.31438472867012024; training acc = 89.5\n",
            "Batch 60 : training loss = 0.2986672520637512; training acc = 92.5\n",
            "Batch 80 : training loss = 0.3362627923488617; training acc = 87.5\n",
            "Epoch 3 : Validation loss = 0.3957886104285717; Validation acc = 82.56\n",
            "Epoch 4:\n",
            "Batch 0 : training loss = 0.2988945245742798; training acc = 86.5\n",
            "Batch 20 : training loss = 0.3297847509384155; training acc = 88.0\n",
            "Batch 40 : training loss = 0.27086737751960754; training acc = 89.5\n",
            "Batch 60 : training loss = 0.2594359517097473; training acc = 90.0\n",
            "Batch 80 : training loss = 0.2785302400588989; training acc = 90.0\n",
            "Epoch 4 : Validation loss = 0.3810276360809803; Validation acc = 83.82\n",
            "Epoch 5:\n",
            "Batch 0 : training loss = 0.25386783480644226; training acc = 91.0\n",
            "Batch 20 : training loss = 0.23195713758468628; training acc = 91.5\n",
            "Batch 40 : training loss = 0.20940372347831726; training acc = 91.5\n",
            "Batch 60 : training loss = 0.24094229936599731; training acc = 93.5\n",
            "Batch 80 : training loss = 0.20094260573387146; training acc = 94.0\n",
            "Epoch 5 : Validation loss = 0.3785472349822521; Validation acc = 83.8\n",
            "Epoch 5 : Test loss = 0.4244352593868971; Test acc = 80.524\n"
          ]
        }
      ],
      "source": [
        "train_losses = experiment(model, opt, criterion)"
      ]
    },
    {
      "cell_type": "code",
      "execution_count": null,
      "metadata": {
        "colab": {
          "base_uri": "https://localhost:8080/",
          "height": 447
        },
        "id": "m-CIwDga0Z7q",
        "outputId": "0cfe93a3-fe07-43c5-c49b-d33f5b94f696"
      },
      "outputs": [
        {
          "output_type": "execute_result",
          "data": {
            "text/plain": [
              "[<matplotlib.lines.Line2D at 0x7f9a9a3c0130>]"
            ]
          },
          "metadata": {},
          "execution_count": 37
        },
        {
          "output_type": "display_data",
          "data": {
            "text/plain": [
              "<Figure size 640x480 with 1 Axes>"
            ],
            "image/png": "[encoded data removed]"
          },
          "metadata": {}
        }
      ],
      "source": [
        "import matplotlib.pyplot as plt\n",
        "plt.plot(train_losses)"
      ]
    },
    {
      "cell_type": "markdown",
      "metadata": {
        "id": "kp8d-0N7JPlR"
      },
      "source": [
        "### With Glove embeddings:\n",
        "\n",
        "Now, we would like to integrate pre-trained word embeddings into our model ! Let's use again the functions that we used in the previous lab:"
      ]
    },
    {
      "cell_type": "code",
      "execution_count": null,
      "metadata": {
        "id": "RUa7xjDv0Z-0",
        "colab": {
          "base_uri": "https://localhost:8080/"
        },
        "outputId": "686d4610-074d-4bb6-ba79-ef6ff25d2b33"
      },
      "outputs": [
        {
          "output_type": "stream",
          "name": "stdout",
          "text": [
            "[=================================================-] 99.3% 373.6/376.1MB downloaded\n"
          ]
        }
      ],
      "source": [
        "import gensim.downloader as api\n",
        "loaded_glove_model = api.load(\"glove-wiki-gigaword-300\")\n",
        "loaded_glove_embeddings = loaded_glove_model.vectors"
      ]
    },
    {
      "cell_type": "code",
      "execution_count": null,
      "metadata": {
        "id": "unwB2-4r0aBg"
      },
      "outputs": [],
      "source": [
        "def get_glove_adapted_embeddings(glove_model, input_voc):\n",
        "    keys = {i: glove_model.key_to_index.get(w, None) for w, i in input_voc.items()}\n",
        "    index_dict = {i: key for i, key in keys.items() if key is not None}\n",
        "    embeddings = np.zeros((len(input_voc)+1,glove_model.vectors.shape[1]))\n",
        "    for i, ind in index_dict.items():\n",
        "        embeddings[i] = glove_model.vectors[ind]\n",
        "    return embeddings\n",
        "\n",
        "GloveEmbeddings = get_glove_adapted_embeddings(loaded_glove_model, training_word2idx)"
      ]
    },
    {
      "cell_type": "code",
      "execution_count": null,
      "metadata": {
        "colab": {
          "base_uri": "https://localhost:8080/"
        },
        "id": "dhoS6NH20aEU",
        "outputId": "044a3762-1b5b-46ce-cfad-dceb224f2bfd"
      },
      "outputs": [
        {
          "output_type": "stream",
          "name": "stdout",
          "text": [
            "(31606, 300)\n",
            "[0. 0. 0. 0. 0. 0. 0. 0. 0. 0. 0. 0. 0. 0. 0. 0. 0. 0. 0. 0. 0. 0. 0. 0.\n",
            " 0. 0. 0. 0. 0. 0. 0. 0. 0. 0. 0. 0. 0. 0. 0. 0. 0. 0. 0. 0. 0. 0. 0. 0.\n",
            " 0. 0. 0. 0. 0. 0. 0. 0. 0. 0. 0. 0. 0. 0. 0. 0. 0. 0. 0. 0. 0. 0. 0. 0.\n",
            " 0. 0. 0. 0. 0. 0. 0. 0. 0. 0. 0. 0. 0. 0. 0. 0. 0. 0. 0. 0. 0. 0. 0. 0.\n",
            " 0. 0. 0. 0. 0. 0. 0. 0. 0. 0. 0. 0. 0. 0. 0. 0. 0. 0. 0. 0. 0. 0. 0. 0.\n",
            " 0. 0. 0. 0. 0. 0. 0. 0. 0. 0. 0. 0. 0. 0. 0. 0. 0. 0. 0. 0. 0. 0. 0. 0.\n",
            " 0. 0. 0. 0. 0. 0. 0. 0. 0. 0. 0. 0. 0. 0. 0. 0. 0. 0. 0. 0. 0. 0. 0. 0.\n",
            " 0. 0. 0. 0. 0. 0. 0. 0. 0. 0. 0. 0. 0. 0. 0. 0. 0. 0. 0. 0. 0. 0. 0. 0.\n",
            " 0. 0. 0. 0. 0. 0. 0. 0. 0. 0. 0. 0. 0. 0. 0. 0. 0. 0. 0. 0. 0. 0. 0. 0.\n",
            " 0. 0. 0. 0. 0. 0. 0. 0. 0. 0. 0. 0. 0. 0. 0. 0. 0. 0. 0. 0. 0. 0. 0. 0.\n",
            " 0. 0. 0. 0. 0. 0. 0. 0. 0. 0. 0. 0. 0. 0. 0. 0. 0. 0. 0. 0. 0. 0. 0. 0.\n",
            " 0. 0. 0. 0. 0. 0. 0. 0. 0. 0. 0. 0. 0. 0. 0. 0. 0. 0. 0. 0. 0. 0. 0. 0.\n",
            " 0. 0. 0. 0. 0. 0. 0. 0. 0. 0. 0. 0.]\n"
          ]
        }
      ],
      "source": [
        "print(GloveEmbeddings.shape)\n",
        "# We should check that the \"padding\" vector is at zero\n",
        "print(GloveEmbeddings[0])"
      ]
    },
    {
      "cell_type": "markdown",
      "metadata": {
        "id": "SpkmUwA4LjT0"
      },
      "source": [
        "Here, implement a ```PretrainedAveragingModel``` very similar to the previous model, using the ```nn.Embedding``` method ```from_pretrained()``` to initialize the embeddings from a numpy array. Use the ```requires_grad_``` method to specify if the model must fine-tune the embeddings or not !"
      ]
    },
    {
      "cell_type": "markdown",
      "metadata": {
        "id": "3q_nurrTy00i"
      },
      "source": [
        "<div class='alert alert-block alert-info'>\n",
        "            Code:</div>"
      ]
    },
    {
      "cell_type": "code",
      "execution_count": null,
      "metadata": {
        "id": "aVh4fz39Lg5c"
      },
      "outputs": [],
      "source": [
        "class PretrainedAveragingModel(nn.Module):\n",
        "    def __init__(self, pretrained_embeddings, fine_tune = False):\n",
        "        super().__init__()\n",
        "        # Create an embedding object using pretrained embeddings\n",
        "        self.embeddings = nn.Embedding.from_pretrained(torch.FloatTensor(pretrained_embeddings))\n",
        "\n",
        "        # Specify if fine-tuning is needed\n",
        "        self.embeddings.weight.requires_grad = fine_tune\n",
        "\n",
        "        embedding_dim = pretrained_embeddings.shape[1]\n",
        "\n",
        "        # Create a linear layer that will transform the mean of the embeddings into a classification score\n",
        "        self.linear = nn.Linear(embedding_dim, 1)\n",
        "\n",
        "        # No need for sigmoid, it will be into the criterion !\n",
        "\n",
        "    def forward(self, inputs):\n",
        "        # Remember: the inputs are written as Batch_size * seq_length * embedding_dim\n",
        "        # First, take the mean of the embeddings of the document\n",
        "        x = self.embeddings(inputs).mean(dim=1)\n",
        "        # Then make it go through the linear layer and remove the extra dimension with the method .squeeze()\n",
        "        o = self.linear(x).squeeze()\n",
        "        return o\n"
      ]
    },
    {
      "cell_type": "code",
      "execution_count": null,
      "metadata": {
        "colab": {
          "base_uri": "https://localhost:8080/"
        },
        "id": "Vc8Sq78VCtQk",
        "outputId": "cd1bad73-7d40-4228-ebcf-06b1081e467a"
      },
      "outputs": [
        {
          "output_type": "stream",
          "name": "stdout",
          "text": [
            "Beginning training...\n",
            "Epoch 1:\n",
            "Batch 0 : training loss = 0.6957035064697266; training acc = 46.5\n",
            "Batch 20 : training loss = 0.6779621243476868; training acc = 69.0\n",
            "Batch 40 : training loss = 0.6770423054695129; training acc = 59.0\n",
            "Batch 60 : training loss = 0.6619712114334106; training acc = 65.5\n",
            "Batch 80 : training loss = 0.6541510820388794; training acc = 66.0\n",
            "Epoch 1 : Validation loss = 0.6497312632203102; Validation acc = 66.34\n",
            "Epoch 2:\n",
            "Batch 0 : training loss = 0.647806704044342; training acc = 69.0\n",
            "Batch 20 : training loss = 0.6442753076553345; training acc = 68.5\n",
            "Batch 40 : training loss = 0.6339572668075562; training acc = 64.5\n",
            "Batch 60 : training loss = 0.6388077735900879; training acc = 65.5\n",
            "Batch 80 : training loss = 0.6198601722717285; training acc = 69.0\n",
            "Epoch 2 : Validation loss = 0.6239679953455926; Validation acc = 69.06\n",
            "Epoch 3:\n",
            "Batch 0 : training loss = 0.6333343982696533; training acc = 68.0\n",
            "Batch 20 : training loss = 0.6365529894828796; training acc = 65.5\n",
            "Batch 40 : training loss = 0.6148771643638611; training acc = 69.0\n",
            "Batch 60 : training loss = 0.622356653213501; training acc = 67.0\n",
            "Batch 80 : training loss = 0.620119571685791; training acc = 71.5\n",
            "Epoch 3 : Validation loss = 0.6070030608773231; Validation acc = 70.02\n",
            "Epoch 4:\n",
            "Batch 0 : training loss = 0.5915093421936035; training acc = 75.0\n",
            "Batch 20 : training loss = 0.6007176041603088; training acc = 68.0\n",
            "Batch 40 : training loss = 0.5882726907730103; training acc = 73.5\n",
            "Batch 60 : training loss = 0.587269127368927; training acc = 74.0\n",
            "Batch 80 : training loss = 0.5856324434280396; training acc = 74.0\n",
            "Epoch 4 : Validation loss = 0.5933481273055077; Validation acc = 71.5\n",
            "Epoch 5:\n",
            "Batch 0 : training loss = 0.5557676553726196; training acc = 78.0\n",
            "Batch 20 : training loss = 0.5654087662696838; training acc = 79.0\n",
            "Batch 40 : training loss = 0.5913887619972229; training acc = 73.0\n",
            "Batch 60 : training loss = 0.5991505980491638; training acc = 72.0\n",
            "Batch 80 : training loss = 0.5823000073432922; training acc = 72.5\n",
            "Epoch 5 : Validation loss = 0.5822199814021587; Validation acc = 72.22\n",
            "Epoch 5 : Test loss = 0.5913986957371234; Test acc = 70.912\n"
          ]
        }
      ],
      "source": [
        "# Model without fine-tuning\n",
        "model_no_fine_tune = PretrainedAveragingModel(GloveEmbeddings, fine_tune = False)\n",
        "\n",
        "# Define the optimizer and criterion for the model without fine-tuning\n",
        "# The optimizer will be the same that were given to us before (Adam)\n",
        "# And the criterion as well, as we want the sigmoid integrated\n",
        "opt_no_fine_tune = optim.Adam(model_no_fine_tune.parameters(), lr=0.0025, betas=(0.9, 0.999))\n",
        "criterion = nn.BCEWithLogitsLoss()\n",
        "\n",
        "# We will keep the same optimizer and criterion defined before, as they are still suitable\n",
        "# Train the model without fine-tuning\n",
        "train_losses_no_fine_tune = experiment(model_no_fine_tune, opt_no_fine_tune, criterion)"
      ]
    },
    {
      "cell_type": "code",
      "execution_count": null,
      "metadata": {
        "colab": {
          "base_uri": "https://localhost:8080/"
        },
        "id": "Arjb18oWDs4g",
        "outputId": "be0625b9-c227-4c20-c3e0-a54736a0612f"
      },
      "outputs": [
        {
          "output_type": "stream",
          "name": "stdout",
          "text": [
            "Beginning training...\n",
            "Epoch 1:\n",
            "Batch 0 : training loss = 0.6881325244903564; training acc = 55.0\n",
            "Batch 20 : training loss = 0.6814436912536621; training acc = 57.0\n",
            "Batch 40 : training loss = 0.6481416821479797; training acc = 69.5\n",
            "Batch 60 : training loss = 0.6045293211936951; training acc = 76.0\n",
            "Batch 80 : training loss = 0.5484985113143921; training acc = 78.5\n",
            "Epoch 1 : Validation loss = 0.5212394931912422; Validation acc = 77.16\n",
            "Epoch 2:\n",
            "Batch 0 : training loss = 0.4467308521270752; training acc = 89.0\n",
            "Batch 20 : training loss = 0.46863025426864624; training acc = 81.5\n",
            "Batch 40 : training loss = 0.4553723633289337; training acc = 80.5\n",
            "Batch 60 : training loss = 0.4012463390827179; training acc = 81.5\n",
            "Batch 80 : training loss = 0.3505488932132721; training acc = 88.5\n",
            "Epoch 2 : Validation loss = 0.40908275432884694; Validation acc = 82.34\n",
            "Epoch 3:\n",
            "Batch 0 : training loss = 0.31904348731040955; training acc = 87.5\n",
            "Batch 20 : training loss = 0.3311895430088043; training acc = 87.0\n",
            "Batch 40 : training loss = 0.310543954372406; training acc = 90.0\n",
            "Batch 60 : training loss = 0.26727864146232605; training acc = 88.5\n",
            "Batch 80 : training loss = 0.2535487115383148; training acc = 90.5\n",
            "Epoch 3 : Validation loss = 0.378050918802619; Validation acc = 83.62\n",
            "Epoch 4:\n",
            "Batch 0 : training loss = 0.23078735172748566; training acc = 92.0\n",
            "Batch 20 : training loss = 0.2854717969894409; training acc = 88.0\n",
            "Batch 40 : training loss = 0.26164567470550537; training acc = 90.5\n",
            "Batch 60 : training loss = 0.2596072554588318; training acc = 90.0\n",
            "Batch 80 : training loss = 0.2306247502565384; training acc = 92.0\n",
            "Epoch 4 : Validation loss = 0.37585626021027563; Validation acc = 83.84\n",
            "Epoch 5:\n",
            "Batch 0 : training loss = 0.21342147886753082; training acc = 93.5\n",
            "Batch 20 : training loss = 0.19758912920951843; training acc = 93.0\n",
            "Batch 40 : training loss = 0.1999620646238327; training acc = 92.5\n",
            "Batch 60 : training loss = 0.23105654120445251; training acc = 93.0\n",
            "Batch 80 : training loss = 0.17238447070121765; training acc = 95.5\n",
            "Epoch 5 : Validation loss = 0.38177413899451496; Validation acc = 83.76\n",
            "Early stopping.\n",
            "Epoch 5 : Test loss = 0.4319106482192874; Test acc = 80.864\n"
          ]
        }
      ],
      "source": [
        "# Model with fine-tuning\n",
        "model_fine_tune = PretrainedAveragingModel(GloveEmbeddings, fine_tune = True)\n",
        "\n",
        "# # Define the optimizer and criterion for the model with fine-tuning\n",
        "opt_fine_tune = optim.Adam(model_fine_tune.parameters(), lr=0.0025, betas=(0.9, 0.999))\n",
        "criterion = nn.BCEWithLogitsLoss()\n",
        "\n",
        "# Train the model with fine-tuning\n",
        "train_losses_fine_tune = experiment(model_fine_tune, opt_fine_tune, criterion)"
      ]
    },
    {
      "cell_type": "code",
      "execution_count": null,
      "metadata": {
        "colab": {
          "base_uri": "https://localhost:8080/",
          "height": 696
        },
        "id": "L1n9QcWCDai8",
        "outputId": "290b2747-340a-48a4-b79f-8614aefafe0d"
      },
      "outputs": [
        {
          "output_type": "display_data",
          "data": {
            "text/plain": [
              "<Figure size 1200x800 with 1 Axes>"
            ],
            "image/png": "[encoded data removed]"
          },
          "metadata": {}
        }
      ],
      "source": [
        "plt.figure(figsize=(12, 8))\n",
        "plt.grid()\n",
        "plt.plot(train_losses, label='Basic Averaging Model')\n",
        "plt.plot(train_losses_no_fine_tune, label='Pretrained Model Without Fine-Tuning')\n",
        "plt.plot(train_losses_fine_tune, label='Pretrained Model With Fine-Tuning')\n",
        "plt.xlabel('Training Iterations')\n",
        "plt.ylabel('Loss')\n",
        "plt.legend()\n",
        "plt.show()\n"
      ]
    },
    {
      "cell_type": "markdown",
      "metadata": {
        "id": "rmQUbBVxLtwa"
      },
      "source": [
        "<div class='alert alert-block alert-warning'>\n",
        "            Questions:</div>\n",
        "\n",
        "- What are the results **with and without fine-tuning of embeddings imported from GloVe** ?\n",
        "- Why is it (or not) expected ? **Comment**."
      ]
    },
    {
      "cell_type": "markdown",
      "metadata": {
        "id": "HEflLUEKNXFU"
      },
      "source": [
        "- We can see that the model with FIne-Tuning is better, converging to low values of the loss function much faster, indicating better efficiency and quality\n",
        "\n",
        "- This difference in quality was expected, since the fine-tuned model use the GloVe embeddings as initializations, but their weights are changed during the training process. This allows the embeddings to adapt to the specifics of our task and data. As we saw in class, this model is better when we have sufficient training target data, which is the case in this TP. For the Averaging model, it also performs better then the GloVe without fine-tuning, and this is because that embedding was trained with our dataset, adapting to it, while the GloVe without fine-tuning gives us an embedding with static weights, that do not adapt to our dataset and, therefore, do not perform that well. Now, comparing the Averaging model to the GloVe with fine-tuning, we can see that the fine-tuning model performs slightly better, reaching lower Loss values in less time, which is expected, given that the fine=tuning model is more complex, as it imports GLoVe embeddings and then train them, which should adapt better to the dataset, as we have plenty of data to train it. However, it is good to notice that the difference was not that big. Observing the accuracy in each model as well, we can see that the without fine-tuning performed worse than the other 2, that were close to each other."
      ]
    }
  ],
  "metadata": {
    "accelerator": "GPU",
    "colab": {
      "provenance": []
    },
    "kernelspec": {
      "display_name": "Python 3 (ipykernel)",
      "language": "python",
      "name": "python3"
    },
    "language_info": {
      "codemirror_mode": {
        "name": "ipython",
        "version": 3
      },
      "file_extension": ".py",
      "mimetype": "text/x-python",
      "name": "python",
      "nbconvert_exporter": "python",
      "pygments_lexer": "ipython3",
      "version": "3.10.11"
    }
  },
  "nbformat": 4,
  "nbformat_minor": 0
}