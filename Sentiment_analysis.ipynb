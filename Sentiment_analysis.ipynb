{
  "cells": [
    {
      "cell_type": "markdown",
      "metadata": {
        "id": "jOeQJHsBKgKJ"
      },
      "source": [
        "# Lab : Sentiment analysis on IMDB movie reviews\n",
        "\n",
        "__SD-TSIA214 - Machine Learning for Text Mining__\n",
        "\n",
        "Gabriel Martins de Andrade\n",
        "\n"
      ]
    },
    {
      "cell_type": "markdown",
      "metadata": {
        "id": "iYFkeFPjt5C8"
      },
      "source": [
        "__Summary:__\n",
        "- [Objective](#objective)\n",
        "- [Necessary dependancies](#dependencies)\n",
        "- [I. Classification of IMDB Data in sentiment](#Classification-of-IMDB-Data-in-sentiment)\n",
        "- [II. Dense Representation](#dense_representation)"
      ]
    },
    {
      "cell_type": "markdown",
      "metadata": {
        "id": "n_QeF8MYKgKL"
      },
      "source": [
        "## Objectives <a class=\"anchor\" id=\"objective\"></a>\n",
        "\n",
        "1. Implement a simple way to represent text data - Bag of words\n",
        "2. Use these representations with a simple classification model for a sentiment analysis task.\n",
        "3. Implement different ways of obtaining dense representations of the same data\n",
        "4. Use a logistic regression model to train a classifier on these new representations."
      ]
    },
    {
      "cell_type": "markdown",
      "metadata": {
        "id": "5VHGtbRDKgKL"
      },
      "source": [
        "## Necessary dependancies <a class=\"anchor\" id=\"dependencies\"></a>\n",
        "\n",
        "We will need the following packages:\n",
        "- The Machine Learning API Scikit-learn : http://scikit-learn.org/stable/install.html\n",
        "- The Natural Language Toolkit : http://www.nltk.org/install.html\n",
        "- Gensim: https://radimrehurek.com/gensim/auto_examples/index.html\n",
        "\n",
        "All are available with Anaconda: https://anaconda.org/anaconda/nltk and https://anaconda.org/anaconda/scikit-learn"
      ]
    },
    {
      "cell_type": "code",
      "execution_count": null,
      "metadata": {
        "id": "Gw0CDiDFKgKL"
      },
      "outputs": [],
      "source": [
        "import os.path as op\n",
        "import os\n",
        "import re\n",
        "import numpy as np\n",
        "import matplotlib.pyplot as plt"
      ]
    },
    {
      "cell_type": "markdown",
      "metadata": {
        "id": "XjjE_Jy0KgKM"
      },
      "source": [
        "## I Classification of IMDB Data in sentiment <a class=\"anchor\" id=\"1.-Classification-of-IMDB-movie-in-sentiment\"></a>\n",
        "\n",
        "### I.1 Loading data\n",
        "\n",
        "We retrieve the textual data in the variable *texts*.\n",
        "\n",
        "The labels are retrieved in the variable $y$ - it contains *len(texts)* of them: $0$ indicates that the corresponding review is negative while $1$ indicates that it is positive."
      ]
    },
    {
      "cell_type": "code",
      "execution_count": null,
      "metadata": {
        "id": "EZ1ekEd1Aazg"
      },
      "outputs": [],
      "source": [
        "#!unzip aclImdb.zip"
      ]
    },
    {
      "cell_type": "code",
      "execution_count": null,
      "metadata": {
        "id": "h3OVUL_LKgKM"
      },
      "outputs": [],
      "source": [
        "from glob import glob\n",
        "# We get the files from the path: ./aclImdb/train/neg for negative reviews, and ./aclImdb/train/pos for positive reviews\n",
        "train_filenames_neg = sorted(glob(os.path.join('.', 'aclImdb', 'train', 'neg', '*.txt')))\n",
        "train_filenames_pos = sorted(glob(os.path.join('.', 'aclImdb', 'train', 'pos', '*.txt')))\n",
        "\n",
        "# Each files contains a review that consists in one line of text: we put this string in two lists, that we concatenate\n",
        "train_texts_neg = [open(f, encoding=\"utf8\").read() for f in train_filenames_neg]\n",
        "train_texts_pos = [open(f, encoding=\"utf8\").read() for f in train_filenames_pos]\n",
        "train_texts = train_texts_neg + train_texts_pos\n",
        "\n",
        "# The first half of the elements of the list are string of negative reviews, and the second half positive ones\n",
        "# We create the labels, as an array of [1,len(texts)], filled with 1, and change the first half to 0\n",
        "train_labels = np.ones(len(train_texts), dtype=int)\n",
        "train_labels[:len(train_texts_neg)] = 0."
      ]
    },
    {
      "cell_type": "code",
      "execution_count": null,
      "metadata": {
        "colab": {
          "base_uri": "https://localhost:8080/",
          "height": 91
        },
        "id": "9gCdDvteKgKN",
        "outputId": "dffd7ee1-9e36-49bc-b505-bd0941fd8936"
      },
      "outputs": [
        {
          "output_type": "execute_result",
          "data": {
            "text/plain": [
              "\"Story of a man who has unnatural feelings for a pig. Starts out with a opening scene that is a terrific example of absurd comedy. A formal orchestra audience is turned into an insane, violent mob by the crazy chantings of it's singers. Unfortunately it stays absurd the WHOLE time with no general narrative eventually making it just too off putting. Even those from the era should be turned off. The cryptic dialogue would make Shakespeare seem easy to a third grader. On a technical level it's better than you might think with some good cinematography by future great Vilmos Zsigmond. Future stars Sally Kirkland and Frederic Forrest can be seen briefly.\""
            ],
            "application/vnd.google.colaboratory.intrinsic+json": {
              "type": "string"
            }
          },
          "metadata": {},
          "execution_count": 150
        }
      ],
      "source": [
        "open(\"./aclImdb/train/neg/0_3.txt\", encoding=\"utf8\").read()"
      ]
    },
    {
      "cell_type": "markdown",
      "metadata": {
        "id": "1FV8ReEwKgKN"
      },
      "source": [
        "**In this lab, the impact of our choice of representations upon our results will also depend on the quantity of data we use:** try to see how changing the parameter ```k``` affects our results !"
      ]
    },
    {
      "cell_type": "code",
      "execution_count": null,
      "metadata": {
        "colab": {
          "base_uri": "https://localhost:8080/"
        },
        "id": "wmQBfMciKgKO",
        "outputId": "5eb6c6f7-03b0-4829-ee47-d421e8819ee0"
      },
      "outputs": [
        {
          "output_type": "stream",
          "name": "stdout",
          "text": [
            "Number of documents: 5000\n"
          ]
        }
      ],
      "source": [
        "# This number of documents may be high for most computers: we can select a fraction of them (here, one in k)\n",
        "# Use an even number to keep the same number of positive and negative reviews\n",
        "k = 5\n",
        "train_texts_reduced = train_texts[0::k]\n",
        "train_labels_reduced = train_labels[0::k]\n",
        "\n",
        "print('Number of documents:', len(train_texts_reduced))"
      ]
    },
    {
      "cell_type": "markdown",
      "metadata": {
        "id": "Kyif35E_KgKO"
      },
      "source": [
        "We can use a function from sklearn, ```train_test_split```, to separate data into training and validation sets:"
      ]
    },
    {
      "cell_type": "code",
      "execution_count": null,
      "metadata": {
        "id": "qY7yiaW0KgKO"
      },
      "outputs": [],
      "source": [
        "from sklearn.model_selection import train_test_split"
      ]
    },
    {
      "cell_type": "code",
      "execution_count": null,
      "metadata": {
        "id": "8ZgzMhF_KgKO"
      },
      "outputs": [],
      "source": [
        "train_texts_splt, val_texts, train_labels_splt, val_labels = train_test_split(train_texts_reduced, train_labels_reduced, test_size=.2)"
      ]
    },
    {
      "cell_type": "markdown",
      "metadata": {
        "id": "YDvi1tfpKgKO"
      },
      "source": [
        "### I.2 Adapted representation of documents\n",
        "\n",
        "Our statistical model, like most models applied to textual data, uses counts of word occurrences in a document. Thus, a very convenient way to represent a document is to use a Bag-of-Words (BoW) vector, containing the counts of each word (regardless of their order of occurrence) in the document.\n",
        "\n",
        "If we consider the set of all the words appearing in our $T$ training documents, which we note $V$ (Vocabulary), we can create **an index**, which is a bijection associating to each $w$ word an integer, which will be its position in $V$.\n",
        "\n",
        "Thus, for a document extracted from a set of documents containing $|V|$ different words, a BoW representation will be a vector of size $|V|$, whose value at the index of a word $w$ will be its number of occurrences in the document.\n",
        "\n",
        "We can use the **CountVectorizer** class from scikit-learn to obtain these representations:"
      ]
    },
    {
      "cell_type": "code",
      "execution_count": null,
      "metadata": {
        "id": "vQccwDZsKgKP"
      },
      "outputs": [],
      "source": [
        "from sklearn.feature_extraction.text import CountVectorizer\n",
        "\n",
        "from sklearn.model_selection import cross_val_score\n",
        "from sklearn.base import BaseEstimator, ClassifierMixin"
      ]
    },
    {
      "cell_type": "code",
      "execution_count": null,
      "metadata": {
        "colab": {
          "base_uri": "https://localhost:8080/"
        },
        "id": "9rrGhZhqKgKP",
        "outputId": "8a475595-19c1-46f9-cd96-a7b81c1cdadd"
      },
      "outputs": [
        {
          "output_type": "stream",
          "name": "stdout",
          "text": [
            "{'walked': 7, 'down': 3, 'the': 5, 'boulevard': 1, 'avenue': 0, 'ran': 4, 'walk': 6, 'city': 2}\n"
          ]
        },
        {
          "output_type": "execute_result",
          "data": {
            "text/plain": [
              "array([[0, 1, 0, 2, 0, 1, 0, 1],\n",
              "       [1, 0, 0, 1, 0, 1, 0, 1],\n",
              "       [0, 1, 0, 1, 1, 1, 0, 0],\n",
              "       [0, 0, 1, 1, 0, 1, 1, 0],\n",
              "       [1, 0, 0, 1, 0, 2, 1, 0]])"
            ]
          },
          "metadata": {},
          "execution_count": 155
        }
      ],
      "source": [
        "corpus = ['I walked down down the boulevard',\n",
        "          'I walked down the avenue',\n",
        "          'I ran down the boulevard',\n",
        "          'I walk down the city',\n",
        "          'I walk down the the avenue']\n",
        "\n",
        "vectorizer = CountVectorizer()\n",
        "Bow = vectorizer.fit_transform(corpus)\n",
        "\n",
        "# Vocabulary\n",
        "print(vectorizer.vocabulary_)\n",
        "Bow.toarray()"
      ]
    },
    {
      "cell_type": "markdown",
      "metadata": {
        "id": "q9F4lds9KgKP"
      },
      "source": [
        "We display the list containing the words ordered according to their index (Note that words of 2 characters or less are not counted)."
      ]
    },
    {
      "cell_type": "markdown",
      "metadata": {
        "id": "7JH7iNDSKgKP"
      },
      "source": [
        "#### Preprocessing the text: get the BoW representations ##\n",
        "\n",
        "The first thing to do is to turn the review from a string into a list of words. The simplest method is to divide the string according to spaces with the command:\n",
        "``text.split()``\n",
        "\n",
        "But we must also be careful to remove special characters that may not have been cleaned up (such as HTML tags if the data was obtained from web pages). Since we're going to count words, we'll have to build a list of tokens appearing in our data. In our case, we'd like to reduce this list and make it uniform (ignore capitalization, punctuation, and the shortest words).\n",
        "We will therefore use a function adapted to our needs - but this is a job that we generally don't need to do ourselves, since there are many tools already adapted to most situations.\n",
        "For text cleansing, there are many scripts, based on different tools (regular expressions, for example) that allow you to prepare data. The division of the text into words and the management of punctuation is handled in a step called *tokenization*; if needed, a python package like NLTK contains many different *tokenizers*."
      ]
    },
    {
      "cell_type": "code",
      "execution_count": null,
      "metadata": {
        "colab": {
          "base_uri": "https://localhost:8080/"
        },
        "id": "zSu4hSUnt5DB",
        "outputId": "12653370-ebf4-4814-e08f-03fb5593d0be"
      },
      "outputs": [
        {
          "output_type": "stream",
          "name": "stderr",
          "text": [
            "[nltk_data] Downloading package punkt to /root/nltk_data...\n",
            "[nltk_data]   Package punkt is already up-to-date!\n"
          ]
        },
        {
          "output_type": "execute_result",
          "data": {
            "text/plain": [
              "True"
            ]
          },
          "metadata": {},
          "execution_count": 156
        }
      ],
      "source": [
        "import nltk\n",
        "nltk.download('punkt')"
      ]
    },
    {
      "cell_type": "code",
      "execution_count": null,
      "metadata": {
        "colab": {
          "base_uri": "https://localhost:8080/"
        },
        "id": "IukPMdTnKgKQ",
        "outputId": "abe23d7b-68ac-445c-e111-a62742577a72"
      },
      "outputs": [
        {
          "output_type": "stream",
          "name": "stdout",
          "text": [
            "['walked', 'down', 'down', 'the', 'boulevard', 'walked', 'down', 'the', 'avenue', 'ran', 'down', 'the', 'boulevard', 'walk', 'down', 'the', 'city', 'walk', 'down', 'the', 'the', 'avenue']\n",
            "['I', 'walked', 'down', 'down', 'the', 'boulevard', '.', 'I', 'walked', 'down', 'the', 'avenue', '.', 'I', 'ran', 'down', 'the', 'boulevard', '.', 'I', 'walk', 'down', 'the', 'city', '.', 'I', 'walk', 'down', 'the', 'the', 'avenue', '.']\n"
          ]
        }
      ],
      "source": [
        "# We might want to clean the file with various strategies:\n",
        "def clean_and_tokenize(text):\n",
        "    \"\"\"\n",
        "    Cleaning a document with:\n",
        "        - Lowercase\n",
        "        - Removing numbers with regular expressions\n",
        "        - Removing punctuation with regular expressions\n",
        "        - Removing other artifacts\n",
        "    And separate the document into words by simply splitting at spaces\n",
        "    Params:\n",
        "        text (string): a sentence or a document\n",
        "    Returns:\n",
        "        tokens (list of strings): the list of tokens (word units) forming the document\n",
        "    \"\"\"\n",
        "    # Lowercase\n",
        "    text = text.lower()\n",
        "    # Remove numbers\n",
        "    text = re.sub(r\"[0-9]+\", \"\", text)\n",
        "    # Remove punctuation\n",
        "    REMOVE_PUNCT = re.compile(\"[.;:!\\'?,\\\"()\\[\\]]\")\n",
        "    text = REMOVE_PUNCT.sub(\"\", text)\n",
        "    # Remove small words (1 and 2 characters)\n",
        "    text = re.sub(r\"\\b\\w{1,2}\\b\", \"\", text)\n",
        "    # Remove HTML artifacts specific to the corpus we're going to work with\n",
        "    REPLACE_HTML = re.compile(\"(<br\\s*/><br\\s*/>)|(\\-)|(\\/)\")\n",
        "    text = REPLACE_HTML.sub(\" \", text)\n",
        "\n",
        "    tokens = text.split()\n",
        "    return tokens\n",
        "\n",
        "# Or we might want to use an already-implemented tool. The NLTK package has a lot of very useful text processing tools, among them various tokenizers\n",
        "# Careful, NLTK was the first well-documented NLP package, but it might be outdated for some uses. Check the documentation !\n",
        "from nltk.tokenize import word_tokenize\n",
        "\n",
        "corpus_raw = \"I walked down down the boulevard. I walked down the avenue. I ran down the boulevard. I walk down the city. I walk down the the avenue.\"\n",
        "print(clean_and_tokenize(corpus_raw))\n",
        "print(word_tokenize(corpus_raw))"
      ]
    },
    {
      "cell_type": "markdown",
      "metadata": {
        "id": "aZh7lGzYKgKQ"
      },
      "source": [
        "The next function takes as input a list of documents (each in the form of a string) and returns, as in the example using ``CountVectorizer``:\n",
        "- A vocabulary that associates, to each word encountered, an index\n",
        "- A matrix, with rows representing documents and columns representing words indexed by the vocabulary. In position $(i,j)$, one should have the number of occurrences of the word $j$ in the document $i$.\n",
        "\n",
        "The vocabulary, which was in the form of a *list* in the previous example, can be returned in the form of a *dictionary* whose keys are the words and values are the indices. Since the vocabulary lists the words in the corpus without worrying about their number of occurrences, it can be built up using a set (in python).\n",
        "<div class='alert alert-block alert-info'>\n",
        "            Code:</div>"
      ]
    },
    {
      "cell_type": "code",
      "execution_count": null,
      "metadata": {
        "id": "DVaUkdQyLOJ1"
      },
      "outputs": [],
      "source": [
        "def count_words(texts):\n",
        "    \"\"\"\n",
        "    Counting the number of occurences of each word in a list of documents\n",
        "    Params:\n",
        "        texts (list of strings): list of documents\n",
        "    Returns:\n",
        "        vocabulary (dict): a dictionary associating each word to its index in the vocabulary\n",
        "        counts (numpy array): a 2D numpy array representation of the documents\n",
        "    \"\"\"\n",
        "    word_counts_dict = {}\n",
        "\n",
        "    # Go through all texts\n",
        "    for text in texts:\n",
        "        tokens = clean_and_tokenize(text)\n",
        "        for token in tokens:\n",
        "            if token not in word_counts_dict:\n",
        "                word_counts_dict[token] = 1\n",
        "            else:\n",
        "                word_counts_dict[token] += 1\n",
        "\n",
        "    # Create an ordered vocabulary\n",
        "    sorted_words = sorted(word_counts_dict.keys())\n",
        "    vocabulary = {word: i for i, word in enumerate(sorted_words)}\n",
        "\n",
        "    # Create a 2D array for counts\n",
        "    counts = np.zeros((len(texts), len(vocabulary)))\n",
        "\n",
        "    # Go through all texts again to fill the counts\n",
        "    for i, text in enumerate(texts):\n",
        "        tokens = clean_and_tokenize(text)\n",
        "        for token in tokens:\n",
        "            if token in vocabulary:  # This should always be True\n",
        "                counts[i, vocabulary[token]] += 1\n",
        "\n",
        "    return vocabulary, counts\n"
      ]
    },
    {
      "cell_type": "code",
      "execution_count": null,
      "metadata": {
        "colab": {
          "base_uri": "https://localhost:8080/"
        },
        "id": "RCbcSwHTKgKQ",
        "outputId": "234246fa-808c-405f-c054-d02771adffec"
      },
      "outputs": [
        {
          "output_type": "stream",
          "name": "stdout",
          "text": [
            "{'avenue': 0, 'boulevard': 1, 'city': 2, 'down': 3, 'ran': 4, 'the': 5, 'walk': 6, 'walked': 7}\n",
            "[[0. 1. 0. 2. 0. 1. 0. 1.]\n",
            " [1. 0. 0. 1. 0. 1. 0. 1.]\n",
            " [0. 1. 0. 1. 1. 1. 0. 0.]\n",
            " [0. 0. 1. 1. 0. 1. 1. 0.]\n",
            " [1. 0. 0. 1. 0. 2. 1. 0.]]\n"
          ]
        }
      ],
      "source": [
        "Voc, X = count_words(corpus)\n",
        "print(Voc)\n",
        "print(X)"
      ]
    },
    {
      "cell_type": "markdown",
      "metadata": {
        "id": "FXJxOVDFKgKR"
      },
      "source": [
        "**Now**, if we want to represent text that was not available when building the vocabulary, we will not be able to represent **new words** ! Let's take a look at how CountVectorizer does it:"
      ]
    },
    {
      "cell_type": "code",
      "execution_count": null,
      "metadata": {
        "colab": {
          "base_uri": "https://localhost:8080/"
        },
        "id": "_HpjlZRgKgKR",
        "outputId": "ba576bf8-395c-43b8-9c21-65f9105f4935"
      },
      "outputs": [
        {
          "output_type": "stream",
          "name": "stdout",
          "text": [
            "{'street': 0, 'the': 1, 'walked': 2}\n",
            "[[1. 1. 1.]]\n"
          ]
        }
      ],
      "source": [
        "val_corpus = ['I walked up the street']\n",
        "Bow = vectorizer.transform(val_corpus)\n",
        "Bow.toarray()\n",
        "\n",
        "Voc1, X1 = count_words(val_corpus)\n",
        "print(Voc1)\n",
        "print(X1)"
      ]
    },
    {
      "cell_type": "markdown",
      "metadata": {
        "id": "wnLXiDChKgKR"
      },
      "source": [
        "Modify the ```count_words``` function to be able to deal with new documents when given a previously obtained vocabulary !\n",
        "<div class='alert alert-block alert-info'>\n",
        "            Code:</div>"
      ]
    },
    {
      "cell_type": "code",
      "execution_count": null,
      "metadata": {
        "id": "RakGBvPAKgKR"
      },
      "outputs": [],
      "source": [
        "import numpy as np\n",
        "\n",
        "def count_words(texts, vocab=None):\n",
        "    \"\"\"\n",
        "    Counting the number of occurences of each word in a list of documents\n",
        "    Params:\n",
        "        texts (list of strings): list of documents\n",
        "        vocab (dict): a pre-existing vocabulary, if None it will be created from the texts\n",
        "    Returns:\n",
        "        vocabulary (dict): a dictionary associating each word to its index in the vocabulary\n",
        "        counts (numpy array): a 2D numpy array representation of the documents\n",
        "    \"\"\"\n",
        "\n",
        "    if vocab == None:  # If no vocabulary is provided, create one\n",
        "        # Same code as before\n",
        "        word_counts_dict = {}\n",
        "\n",
        "        # Go through all texts\n",
        "        for text in texts:\n",
        "            tokens = clean_and_tokenize(text)\n",
        "            for token in tokens:\n",
        "                if token not in word_counts_dict:\n",
        "                    word_counts_dict[token] = 1\n",
        "                else:\n",
        "                    word_counts_dict[token] += 1\n",
        "\n",
        "        # Create an ordered vocabulary\n",
        "        sorted_words = sorted(word_counts_dict.keys())\n",
        "        vocabulary = {word: i for i, word in enumerate(sorted_words)}\n",
        "    else:\n",
        "        vocabulary = vocab  # If a vocabulary is provided, use it\n",
        "\n",
        "\n",
        "    # Create a 2D array for counts\n",
        "    counts = np.zeros((len(texts), len(vocabulary)))\n",
        "\n",
        "    # Go through all texts again to fill the counts\n",
        "    for i, text in enumerate(texts):\n",
        "        tokens = clean_and_tokenize(text)\n",
        "        for token in tokens:\n",
        "            if token in vocabulary:  # Only count words that are in the vocabulary\n",
        "                counts[i, vocabulary[token]] += 1\n",
        "\n",
        "    return vocabulary, counts"
      ]
    },
    {
      "cell_type": "markdown",
      "metadata": {
        "id": "sqf56_5eKgKR"
      },
      "source": [
        "<div class='alert alert-block alert-warning'>\n",
        "            Question:</div>\n",
        "\n",
        "Careful: check the size that the representations are going to have (given the way they are build). What does this imply for the memory use ? What ```CountVectorizer``` argument allows to avoid the issue ?"
      ]
    },
    {
      "cell_type": "code",
      "execution_count": null,
      "metadata": {
        "colab": {
          "base_uri": "https://localhost:8080/"
        },
        "id": "1QmDZxEwKgKR",
        "outputId": "4f5e624b-0307-46b6-9b94-1f9401ecba73"
      },
      "outputs": [
        {
          "output_type": "stream",
          "name": "stdout",
          "text": [
            "(4000, 42388)\n"
          ]
        }
      ],
      "source": [
        "voc, train_bow = count_words(train_texts_splt)\n",
        "print(train_bow.shape)"
      ]
    },
    {
      "cell_type": "code",
      "execution_count": null,
      "metadata": {
        "colab": {
          "base_uri": "https://localhost:8080/"
        },
        "id": "tNCCUU4CKgKR",
        "outputId": "e6029ce5-4e42-4be4-9fa1-462d37e5f212"
      },
      "outputs": [
        {
          "output_type": "stream",
          "name": "stdout",
          "text": [
            "(1000, 42388)\n"
          ]
        }
      ],
      "source": [
        "_, val_bow = count_words(val_texts, voc)\n",
        "print(val_bow.shape)"
      ]
    },
    {
      "cell_type": "code",
      "execution_count": null,
      "metadata": {
        "id": "zTSa7KliKgKS",
        "colab": {
          "base_uri": "https://localhost:8080/"
        },
        "outputId": "a3dcd8fc-6c35-4486-cb16-b161842dd848"
      },
      "outputs": [
        {
          "output_type": "stream",
          "name": "stdout",
          "text": [
            "(4000, 35139)\n"
          ]
        }
      ],
      "source": [
        "# Do the same with a CountVectorizer: create and fit the vectorizer to the training data\n",
        "vectorizer = CountVectorizer()\n",
        "train_bow = vectorizer.fit_transform(train_texts_splt) # fitting the vectorizer to the training data\n",
        "\n",
        "print(train_bow.shape)"
      ]
    },
    {
      "cell_type": "code",
      "execution_count": null,
      "metadata": {
        "id": "WD4XkjFoKgKS",
        "colab": {
          "base_uri": "https://localhost:8080/"
        },
        "outputId": "ed6155c4-68d7-4bcf-b86e-9ff0f7614439"
      },
      "outputs": [
        {
          "output_type": "stream",
          "name": "stdout",
          "text": [
            "(1000, 35139)\n"
          ]
        }
      ],
      "source": [
        "# Transform the validation data\n",
        "val_bow = vectorizer.transform(val_texts) # transforming the validation data\n",
        "\n",
        "print(val_bow.shape)"
      ]
    },
    {
      "cell_type": "markdown",
      "metadata": {
        "id": "IBPrEyXyRH4q"
      },
      "source": [
        "**Question: What does this imply for the memory use?**\n",
        "\n",
        "**Answer:**\n",
        "For one time we ran the got, we got the shape of (2000, 29334) for the training data and (500, 29334) for the validation data using the custom count_words function. So it implies that the memory use will be substantial. Specifically, if we were to store these as dense matrices, we would need to store 2000 * 29334 = 58668000 values for the training data and 500 * 29334 = 14667000 values for the validation data.\n",
        "\n",
        "For the CountVectorizer function, we had shapes (2000, 25342) and (500, 25342) for the training and validation data respectively. The memory requirements in this case would be 2000 * 25342 = 50684000 for the training data and 500* 25342 = 12671000 for the validation data, which is less than before, but still a lot of memory usage.\n",
        "\n",
        "\n",
        "The memory is a problem when dealing with high dimensional sparse data, and it is even more problematic when the dataset is large. One way CountVectorizer function handles this is returning a sparse matrix representation by default, which stores only non-zero elements thus saving memory.\n",
        "\n",
        "**Question: What CountVectorizer argument allows to avoid the issue?**\n",
        "\n",
        "**Answer:** For memory control measures, we could use: \\\\\n",
        "1) max_features: This argument, if not None, build a vocabulary that only consider the top max_features ordered by term frequency across the corpus. So we can control the amount of features we use, limiting the memory usage of the function, in exchange for ignoring less frequent terms. For instance, max_features=10000 would only use the 10000 most frequently occurring words in the corpus to create the bag-of-words model.\n",
        "\n",
        "2) min_df and max_df: With those we can specify a threshold for words that appear too rarely or too frequently. Words that appear less frequently than min_df or more frequently than max_df will be ignored. These parameters can be used for absolute counts or as a fraction of the total number of documents. They serve as a form of feature selection and help in reducing memory usage.\n",
        "\n",
        "3) dtype: Depending on the application we want, we can set a specific data type, such as np.int8 or np.int16, which can reduce the amount of memory used"
      ]
    },
    {
      "cell_type": "markdown",
      "metadata": {
        "id": "NXG5qHADKgKS"
      },
      "source": [
        "### I.3 Experimentation with classification\n",
        "\n",
        "We are going to use the scikit-learn ```MultinomialNB```, an implementation of the Naive Bayesian model. Experiment on this model with your own representations. Visualize the results with the following tools, and compare with the representations of ```CountVectorizer```:\n",
        "<div class='alert alert-block alert-info'>\n",
        "            Code:</div>"
      ]
    },
    {
      "cell_type": "code",
      "execution_count": null,
      "metadata": {
        "colab": {
          "base_uri": "https://localhost:8080/",
          "height": 467
        },
        "id": "sHhUSVHtKgKS",
        "outputId": "60b9b012-403b-4692-c839-ef7fb5db4161"
      },
      "outputs": [
        {
          "output_type": "execute_result",
          "data": {
            "text/plain": [
              "<sklearn.metrics._plot.confusion_matrix.ConfusionMatrixDisplay at 0x7fc37b538970>"
            ]
          },
          "metadata": {},
          "execution_count": 166
        },
        {
          "output_type": "display_data",
          "data": {
            "text/plain": [
              "<Figure size 640x480 with 2 Axes>"
            ],
            "image/png": "[encoded data removed]"
          },
          "metadata": {}
        }
      ],
      "source": [
        "from sklearn.naive_bayes import MultinomialNB\n",
        "# Fit the model on the training data\n",
        "clf = MultinomialNB()\n",
        "clf.fit(train_bow, train_labels_splt)\n",
        "\n",
        "from sklearn.metrics import confusion_matrix, ConfusionMatrixDisplay, classification_report\n",
        "\n",
        "# Test it on the validation data\n",
        "val_pred = clf.predict(val_bow)\n",
        "\n",
        "# Print the confusion matrix to see how the classes are mixed\n",
        "cm = confusion_matrix(val_labels, val_pred, normalize='true')\n",
        "disp = ConfusionMatrixDisplay(confusion_matrix=cm, display_labels=['neg', 'pos'])\n",
        "disp.plot()"
      ]
    },
    {
      "cell_type": "code",
      "execution_count": null,
      "metadata": {
        "colab": {
          "base_uri": "https://localhost:8080/"
        },
        "id": "wwHbZQtqfJkS",
        "outputId": "86b9137a-6fde-418d-99c6-4670e04b58af"
      },
      "outputs": [
        {
          "output_type": "stream",
          "name": "stdout",
          "text": [
            "              precision    recall  f1-score   support\n",
            "\n",
            "         neg       0.82      0.84      0.83       512\n",
            "         pos       0.82      0.80      0.81       488\n",
            "\n",
            "    accuracy                           0.82      1000\n",
            "   macro avg       0.82      0.82      0.82      1000\n",
            "weighted avg       0.82      0.82      0.82      1000\n",
            "\n"
          ]
        }
      ],
      "source": [
        "print(classification_report(val_labels, val_pred, target_names=['neg', 'pos']))"
      ]
    },
    {
      "cell_type": "code",
      "execution_count": null,
      "metadata": {
        "colab": {
          "base_uri": "https://localhost:8080/",
          "height": 467
        },
        "id": "wnSislI2KgKS",
        "outputId": "5955010b-11d9-4240-d704-ded39763acf3"
      },
      "outputs": [
        {
          "output_type": "execute_result",
          "data": {
            "text/plain": [
              "<sklearn.metrics._plot.confusion_matrix.ConfusionMatrixDisplay at 0x7fc3da782ad0>"
            ]
          },
          "metadata": {},
          "execution_count": 168
        },
        {
          "output_type": "display_data",
          "data": {
            "text/plain": [
              "<Figure size 640x480 with 2 Axes>"
            ],
            "image/png": "[encoded data removed]"
          },
          "metadata": {}
        }
      ],
      "source": [
        "# Same with the other representations\n",
        "from sklearn.feature_extraction.text import TfidfVectorizer\n",
        "\n",
        "vectorizer = TfidfVectorizer()\n",
        "train_tfidf = vectorizer.fit_transform(train_texts_splt)\n",
        "val_tfidf = vectorizer.transform(val_texts)\n",
        "\n",
        "clf = MultinomialNB()\n",
        "clf.fit(train_tfidf, train_labels_splt)\n",
        "\n",
        "val_pred = clf.predict(val_tfidf)\n",
        "\n",
        "cm = confusion_matrix(val_labels, val_pred, normalize='true')\n",
        "disp = ConfusionMatrixDisplay(confusion_matrix=cm, display_labels=['neg', 'pos'])\n",
        "disp.plot()"
      ]
    },
    {
      "cell_type": "code",
      "execution_count": null,
      "metadata": {
        "colab": {
          "base_uri": "https://localhost:8080/"
        },
        "id": "yJSovgMBflje",
        "outputId": "5166a035-ada9-4bba-d581-28396f8822cd"
      },
      "outputs": [
        {
          "output_type": "stream",
          "name": "stdout",
          "text": [
            "              precision    recall  f1-score   support\n",
            "\n",
            "         neg       0.81      0.87      0.84       512\n",
            "         pos       0.85      0.78      0.81       488\n",
            "\n",
            "    accuracy                           0.82      1000\n",
            "   macro avg       0.83      0.82      0.82      1000\n",
            "weighted avg       0.83      0.82      0.82      1000\n",
            "\n"
          ]
        }
      ],
      "source": [
        "print(classification_report(val_labels, val_pred, target_names=['neg', 'pos']))"
      ]
    },
    {
      "cell_type": "code",
      "execution_count": null,
      "metadata": {
        "colab": {
          "base_uri": "https://localhost:8080/"
        },
        "id": "SUfS5NvPKgKS",
        "outputId": "93f76df4-bfd3-4e32-8caa-d2fd293e1550"
      },
      "outputs": [
        {
          "output_type": "stream",
          "name": "stdout",
          "text": [
            "Sparsity of bow: 0.003927125131620138\n",
            "Sparsity of tfidf: 0.003927125131620138\n"
          ]
        }
      ],
      "source": [
        "# Let's see the sparsity of bow and tfidf representations\n",
        "print(\"Sparsity of bow:\", train_bow.nnz / (train_bow.shape[0] * train_bow.shape[1]))\n",
        "print(\"Sparsity of tfidf:\", train_tfidf.nnz / (train_tfidf.shape[0] * train_tfidf.shape[1]))"
      ]
    },
    {
      "cell_type": "markdown",
      "metadata": {
        "id": "Ckj3LoyiKgKT"
      },
      "source": [
        "<div class='alert alert-block alert-warning'>\n",
        "            Questions:</div>\n",
        "\n",
        "- Here, what is the naïve hypothesis ?\n",
        "- Let us look at the *features* built by the ```vectorizer```. How can we improve them ?"
      ]
    },
    {
      "cell_type": "markdown",
      "metadata": {
        "id": "eY38A0nuyzo9"
      },
      "source": [
        "**Question: Here, what is the naïve hypothesis?**\n",
        "\n",
        "\n",
        "**Answer:**\n",
        "\n",
        " The naive hypothesis is that the features (in this case the words in the text) are conditionally independent given the class. This means that the presence or absence of a word would always be unrelated to another word, given the class of the document. This is often not the case, especially in natural language, where words are often interdependent, so it is called a \"naive\" assumption.\n"
      ]
    },
    {
      "cell_type": "markdown",
      "metadata": {
        "id": "5Q1YTWyn3ui2"
      },
      "source": [
        "**Question: Let us look at the features built by the ```vectorizer```. How can we improve them ?**"
      ]
    },
    {
      "cell_type": "code",
      "execution_count": null,
      "metadata": {
        "colab": {
          "base_uri": "https://localhost:8080/"
        },
        "id": "acZJbHMUKgKT",
        "outputId": "c70761b8-6ec1-406d-fc3a-75315ad383d6"
      },
      "outputs": [
        {
          "output_type": "stream",
          "name": "stdout",
          "text": [
            "['00' '000' '00001' '007' '0079' '0080' '0083' '00am' '01' '02' '03' '05'\n",
            " '06' '07' '08' '0f' '10' '100' '1000' '100m' '101' '102' '103' '105'\n",
            " '106min' '109' '10mil' '11' '110' '1100' '11001001' '112' '11th' '12'\n",
            " '120' '1200' '1200f' '123' '125m' '12s' '12th' '13' '130' '131' '132'\n",
            " '134' '13th' '14' '140' '1408' '142' '145' '1454' '146' '147' '149' '14a'\n",
            " '14th' '14yr' '15' '150' '1500' '16' '160' '161' '1692' '16mm' '16s'\n",
            " '16th' '16ème' '17' '1700' '1700s' '1790s' '1794' '1798' '17th' '18'\n",
            " '180' '1800' '1800s' '1814' '1820' '1840' '1840s' '185' '1864' '1870'\n",
            " '1876' '1880' '1880s' '1886' '1889' '1890s' '1892' '1895' '1896' '1897'\n",
            " '1898' '1899' '18th' '19' '1900s' '1902' '1907' '1910' '1911' '1912'\n",
            " '1914' '1915' '1917' '1918' '1919' '1920' '1920s' '1922' '1924' '1925'\n",
            " '1926' '1927' '1928' '1929' '1930' '1930s' '1931' '1932' '1933' '1934'\n",
            " '1935' '1936' '1937' '1938' '1939' '1940' '1940s' '1941' '1942' '1943'\n",
            " '1944' '1945' '1946' '1947' '1948' '1949' '195' '1950' '1950s' '1951'\n",
            " '1952' '1953' '1954' '1955' '1956' '1957' '1958' '1959' '1960' '1960s'\n",
            " '1961' '1962' '1963' '1964' '1965' '1966' '1967' '1968' '1969' '1970'\n",
            " '1970s' '1971' '1972' '1973' '1974' '1975' '1976' '1977' '1978' '1979'\n",
            " '1980' '1980ies' '1980s' '1981' '1982' '1983' '1984' '1984ish' '1985'\n",
            " '1986' '1987' '1988' '1989' '1990' '1990s' '1991' '1992' '1993' '1994'\n",
            " '1995' '1996' '1997' '1998' '1999' '19th' '1and' '1h30' '1hour' '1hr'\n",
            " '1s' '1st' '1½' '20' '200' '2000' '2000s' '2001' '2002' '2003' '2004'\n",
            " '2005' '2006' '2007' '2008' '2009' '2012' '2017' '2020' '2022' '2031'\n",
            " '2036' '2046' '2047' '2050' '2054' '20s' '20th' '20ties' '20yrs' '21'\n",
            " '21849889' '21849890' '21849907' '21st' '22' '23' '230mph' '236' '24'\n",
            " '240' '241' '25' '250' '25s' '25th' '25yrs' '26' '2600' '269' '26th' '27'\n",
            " '27th' '28' '285' '29' '29th' '2d' '2hrs' '2more' '2nd' '2point4' '30'\n",
            " '300' '3000' '30k' '30min' '30s' '30th' '30ties' '31' '31st' '32' '33'\n",
            " '34' '34th' '35' '350' '356' '36' '360' '36th' '37' '38' '38k' '39' '3bs'\n",
            " '3d' '3p0' '3po' '3rd' '3th' '40' '400' '40am' '40s' '40th' '41' '42'\n",
            " '42nd' '43' '44' '442nd' '45' '45am' '46' '47' '48' '49' '4m' '4th' '4w'\n",
            " '4ward' '50' '500' '5000' '50ish' '50s' '50th' '51' '51st' '52' '53'\n",
            " '53m' '54' '55' '555' '56' '57' '58' '5th' '60' '600' '60ies' '60s'\n",
            " '60ties' '61' '62' '63' '64' '65' '65m' '66' '666' '67th' '68' '69' '6b'\n",
            " '6th' '70' '700' '707' '70s' '70th' '71' '72' '73' '74' '747' '75' '750'\n",
            " '75m' '76' '77' '78' '79' '7th' '7½th' '80' '800' '80s' '81' '82' '820'\n",
            " '8217' '83' '84' '85' '86' '87' '87minutes' '88' '89' '8mm' '8o' '8p'\n",
            " '8th' '90' '900' '90210' '90ish' '90s' '91' '911' '92' '921' '93' '94'\n",
            " '95' '96' '97' '98' '99' '999' '99p' '9lbs' '9pm' '9th' '______'\n",
            " '____________________________________' '_any_' '_as' '_both_' '_by'\n",
            " '_earned_' '_love_' '_mystery' '_not_' '_so_' '_spiritited' '_the' '_toy'\n",
            " '_tried' '_twice' 'aa' 'aaa' 'aaaand' 'aage' 'aames' 'aankhen' 'aardman'\n",
            " 'aargh' 'aaron' 'aatish' 'aavjo' 'aback' 'abandon' 'abandoned'\n",
            " 'abandoning' 'abandonment' 'abandons' 'abashidze' 'abatement' 'abbas'\n",
            " 'abbie' 'abbot' 'abbott' 'abby' 'abc' 'abdu' 'abduction' 'abdullah' 'abe'\n",
            " 'abel' 'abernathy' 'aberration' 'abetted' 'abhay' 'abhishek' 'abhor'\n",
            " 'abhorrent' 'abi' 'abide' 'abiding' 'abigail' 'abilities' 'ability'\n",
            " 'abilityof' 'abject' 'abjectly' 'able' 'ably' 'abnormally' 'abo' 'aboard'\n",
            " 'abolish' 'abolished' 'abolition' 'abolitionism' 'abolitionists'\n",
            " 'abominable' 'abomination' 'aboriginals' 'aborigine' 'aborigines'\n",
            " 'aboriginies' 'aborigone' 'abort' 'aborted' 'aborting' 'abortion'\n",
            " 'abortions' 'aborts']\n"
          ]
        }
      ],
      "source": [
        "print(vectorizer.get_feature_names_out()[:500])"
      ]
    },
    {
      "cell_type": "markdown",
      "metadata": {
        "id": "FugdN39-3yko"
      },
      "source": [
        "**Answer:**\n",
        "\n",
        "There are different ways to improve the features built by the vectorizer which are:\n",
        "\n",
        "1. Remove numbers, as they are not very informative for sentiment analysis.\n",
        "\n",
        "2. Remove common words (stop words), such as connectives (as, also, then...), as they do not express any kind of sentiment.\n",
        "\n",
        "3. Remove non-word characters, such as the __ that is present in the print.\n",
        "\n",
        "4. Use bigrams, because sometimes we have a negation, such as \"not good\", which would indicate a negative feeling, but if the words were analysed separately, we would think that this \"good\" is something positive.\n",
        "\n",
        "5. Use word embeddings such as Word2Ve or FastText to get a richer representation of the words by taking into account their semantic meaning.\n",
        "\n",
        "6. Use Term Frequency-Inverse Document Frequency (TF-IDF), that highlights the words that are more important to a text.\n"
      ]
    },
    {
      "cell_type": "markdown",
      "metadata": {
        "id": "3NODKjAOKgKT"
      },
      "source": [
        "### I.4 Improving representations: by reweighting and filtering\n",
        "\n",
        "Mainly, the arguments of the class ```vectorizer``` will allow us to easily change the way our textual data is represented. Let us try to work on our *Bag-of-words* representations:\n",
        "\n",
        "#### Do not take into account words that are too frequent:\n",
        "\n",
        "You can use the argument ```max_df=1.0``` to change the amount of words taken into account.\n",
        "\n",
        "#### Try different granularities:\n",
        "\n",
        "Rather than just counting words, we can count sequences of words - limited in size, of course.\n",
        "We call a sequence of $n$ words a $n$-gram: let's try using 2 and 3-grams (bi- and trigrams).\n",
        "We can also try to use character sequences instead of word sequences.\n",
        "\n",
        "We will be interested in the options ```analyze='word'``` and ```ngram_range=(1, 2)``` which we'll change to alter the granularity.\n",
        "\n",
        "**Again: using these ways of getting more features from our text will probably have more impact if we do not have much training data to begin with !**\n",
        "\n",
        "To accelerate experiments, use the ```Pipeline``` tool from scikit-learn.\n",
        "<div class='alert alert-block alert-info'>\n",
        "            Code:</div>"
      ]
    },
    {
      "cell_type": "code",
      "execution_count": null,
      "metadata": {
        "id": "OzK_f7fTKgKT"
      },
      "outputs": [],
      "source": [
        "from sklearn.pipeline import Pipeline"
      ]
    },
    {
      "cell_type": "code",
      "execution_count": null,
      "metadata": {
        "colab": {
          "base_uri": "https://localhost:8080/"
        },
        "id": "fAw41EnqKgKT",
        "outputId": "6485e4cd-68b6-4d73-a9f8-1291ba5eb3de"
      },
      "outputs": [
        {
          "output_type": "stream",
          "name": "stdout",
          "text": [
            "              precision    recall  f1-score   support\n",
            "\n",
            "           0       0.81      0.84      0.83       512\n",
            "           1       0.83      0.80      0.81       488\n",
            "\n",
            "    accuracy                           0.82      1000\n",
            "   macro avg       0.82      0.82      0.82      1000\n",
            "weighted avg       0.82      0.82      0.82      1000\n",
            "\n"
          ]
        }
      ],
      "source": [
        "pipeline_base = Pipeline([\n",
        "    ('vect', CountVectorizer(max_features=30000, analyzer='word', stop_words=None)),\n",
        "    ('clf', MultinomialNB()),\n",
        "])\n",
        "pipeline_base.fit(train_texts_splt, train_labels_splt)\n",
        "val_pred = pipeline_base.predict(val_texts)\n",
        "print(classification_report(val_labels, val_pred))"
      ]
    },
    {
      "cell_type": "code",
      "execution_count": null,
      "metadata": {
        "colab": {
          "base_uri": "https://localhost:8080/"
        },
        "id": "2bMeLfbUCDxB",
        "outputId": "02c81935-200e-4bc3-a5ff-a7dac50eb8a4"
      },
      "outputs": [
        {
          "output_type": "stream",
          "name": "stdout",
          "text": [
            "              precision    recall  f1-score   support\n",
            "\n",
            "           0       0.85      0.84      0.84       512\n",
            "           1       0.83      0.84      0.84       488\n",
            "\n",
            "    accuracy                           0.84      1000\n",
            "   macro avg       0.84      0.84      0.84      1000\n",
            "weighted avg       0.84      0.84      0.84      1000\n",
            "\n"
          ]
        }
      ],
      "source": [
        "pipeline_improved = Pipeline([\n",
        "    ('vect', CountVectorizer(max_features=30000, analyzer='word', stop_words=None, max_df=0.50, ngram_range=(1, 3))),\n",
        "    ('clf', MultinomialNB()),\n",
        "])\n",
        "\n",
        "pipeline_improved.fit(train_texts_splt, train_labels_splt)\n",
        "val_pred_improved = pipeline_improved.predict(val_texts)\n",
        "print(classification_report(val_labels, val_pred_improved))"
      ]
    },
    {
      "cell_type": "markdown",
      "metadata": {
        "id": "rnkmnUtgKgKU"
      },
      "source": [
        "#### Tf-idf:\n",
        "\n",
        "This is the product of the frequency of the term (TF) and its inverse frequency in documents (IDF).\n",
        "This method is usually used to measure the importance of a term $i$ in a document $j$ relative to the rest of the corpus, from a matrix of occurrences $ words \\times documents$. Thus, for a matrix $\\mathbf{T}$ of $|V|$ terms and $D$ documents:\n",
        "$$\\text{TF}(T, w, d) = \\frac{T_{w,d}}{\\sum_{w'=1}^{|V|} T_{w',d}} $$\n",
        "\n",
        "$$\\text{IDF}(T, w) = \\log\\left(\\frac{D}{|\\{d : T_{w,d} > 0\\}|}\\right)$$\n",
        "\n",
        "$$\\text{TF-IDF}(T, w, d) = \\text{TF}(X, w, d) \\cdot \\text{IDF}(T, w)$$\n",
        "\n",
        "It can be adapted to our case by considering that the context of the second word is the document. However, TF-IDF is generally better suited to low-density matrices, since it will penalize terms that appear in a large part of the documents.\n",
        "<div class='alert alert-block alert-info'>\n",
        "            Code:</div>"
      ]
    },
    {
      "cell_type": "code",
      "execution_count": null,
      "metadata": {
        "id": "xNf0R52gKgKU"
      },
      "outputs": [],
      "source": [
        "from sklearn.preprocessing import normalize\n",
        "\n",
        "def tfidf(bow):\n",
        "    \"\"\"\n",
        "    Inverse document frequencies applied to our bag-of-words representations\n",
        "    \"\"\"\n",
        "    # IDF\n",
        "    D = bow.shape[0]\n",
        "    df = np.sum(bow > 0, axis=0)\n",
        "\n",
        "    idf = np.log(D / df)\n",
        "\n",
        "    # TF\n",
        "    bow_norm = normalize(bow, axis=1, norm='l1')\n",
        "\n",
        "    # TF-IDF\n",
        "    tf_idf = bow_norm.multiply(idf)\n",
        "\n",
        "    return tf_idf"
      ]
    },
    {
      "cell_type": "markdown",
      "metadata": {
        "id": "9uZpiHV1KgKU"
      },
      "source": [
        "Experiment with this new representations and compare with the ```TfidfTransformer``` applied on top of ```CountVectorizer```.\n",
        "<div class='alert alert-block alert-info'>\n",
        "            Code:</div>"
      ]
    },
    {
      "cell_type": "code",
      "execution_count": null,
      "metadata": {
        "colab": {
          "base_uri": "https://localhost:8080/"
        },
        "id": "aM5yoLHcKgKU",
        "outputId": "b16dc843-76c4-435a-fc41-6479b9b53a07"
      },
      "outputs": [
        {
          "output_type": "execute_result",
          "data": {
            "text/plain": [
              "(4000, 35139)"
            ]
          },
          "metadata": {},
          "execution_count": 176
        }
      ],
      "source": [
        "train_bow.shape"
      ]
    },
    {
      "cell_type": "code",
      "execution_count": null,
      "metadata": {
        "colab": {
          "base_uri": "https://localhost:8080/"
        },
        "id": "R2eFIzd8KgKU",
        "outputId": "747a06b6-d9b6-40f9-9e8d-a5895498642f"
      },
      "outputs": [
        {
          "output_type": "execute_result",
          "data": {
            "text/plain": [
              "(1000, 35139)"
            ]
          },
          "metadata": {},
          "execution_count": 177
        }
      ],
      "source": [
        "val_bow.shape"
      ]
    },
    {
      "cell_type": "code",
      "execution_count": null,
      "metadata": {
        "colab": {
          "base_uri": "https://localhost:8080/",
          "height": 504
        },
        "id": "h5OoAI3oKgKV",
        "outputId": "7caa2d65-90ba-4095-a14a-232d373fc8fa"
      },
      "outputs": [
        {
          "output_type": "stream",
          "name": "stderr",
          "text": [
            "<ipython-input-175-2793b1dd28e4>:11: RuntimeWarning: divide by zero encountered in true_divide\n",
            "  idf = np.log(D / df)\n"
          ]
        },
        {
          "output_type": "execute_result",
          "data": {
            "text/plain": [
              "<sklearn.metrics._plot.confusion_matrix.ConfusionMatrixDisplay at 0x7fc37b134370>"
            ]
          },
          "metadata": {},
          "execution_count": 178
        },
        {
          "output_type": "display_data",
          "data": {
            "text/plain": [
              "<Figure size 640x480 with 2 Axes>"
            ],
            "image/png": "[encoded data removed]"
          },
          "metadata": {}
        }
      ],
      "source": [
        "# Use the function to transform the training and validation data\n",
        "train_tfidf = tfidf(train_bow)\n",
        "val_tfidf = tfidf(val_bow)\n",
        "\n",
        "clf = MultinomialNB()\n",
        "clf.fit(train_tfidf, train_labels_splt)\n",
        "\n",
        "val_pred = clf.predict(val_tfidf)\n",
        "\n",
        "cm = confusion_matrix(val_labels, val_pred, normalize='true')\n",
        "disp = ConfusionMatrixDisplay(confusion_matrix=cm, display_labels=['neg', 'pos'])\n",
        "disp.plot()"
      ]
    },
    {
      "cell_type": "code",
      "execution_count": null,
      "metadata": {
        "id": "o3Qq19-bKgKV"
      },
      "outputs": [],
      "source": [
        "from sklearn.feature_extraction.text import TfidfTransformer"
      ]
    },
    {
      "cell_type": "code",
      "execution_count": null,
      "metadata": {
        "colab": {
          "base_uri": "https://localhost:8080/",
          "height": 467
        },
        "id": "HR21WUXhKgKV",
        "outputId": "42e9d474-d726-41e2-841d-d3854d7544d3"
      },
      "outputs": [
        {
          "output_type": "execute_result",
          "data": {
            "text/plain": [
              "<sklearn.metrics._plot.confusion_matrix.ConfusionMatrixDisplay at 0x7fc3d565ee60>"
            ]
          },
          "metadata": {},
          "execution_count": 180
        },
        {
          "output_type": "display_data",
          "data": {
            "text/plain": [
              "<Figure size 640x480 with 2 Axes>"
            ],
            "image/png": "[encoded data removed]"
          },
          "metadata": {}
        }
      ],
      "source": [
        "# Use the TfidfTransformer from sklearn\n",
        "tfidf_transformer = TfidfTransformer()\n",
        "train_tfidf = tfidf_transformer.fit_transform(train_bow)\n",
        "val_tfidf = tfidf_transformer.transform(val_bow)\n",
        "\n",
        "clf = MultinomialNB()\n",
        "clf.fit(train_tfidf, train_labels_splt)\n",
        "\n",
        "val_pred2 = clf.predict(val_tfidf)\n",
        "\n",
        "cm2 = confusion_matrix(val_labels, val_pred2, normalize='true')\n",
        "disp = ConfusionMatrixDisplay(confusion_matrix=cm2, display_labels=['neg', 'pos'])\n",
        "disp.plot()"
      ]
    },
    {
      "cell_type": "code",
      "execution_count": null,
      "metadata": {
        "colab": {
          "base_uri": "https://localhost:8080/"
        },
        "id": "mgmKThBFJ4ZS",
        "outputId": "ab959f53-24ec-48fc-bf08-8769b45e48c4"
      },
      "outputs": [
        {
          "output_type": "stream",
          "name": "stdout",
          "text": [
            "Classification Report for Custom TF-IDF Model:\n",
            "              precision    recall  f1-score   support\n",
            "\n",
            "           0       0.86      0.80      0.83       512\n",
            "           1       0.81      0.87      0.84       488\n",
            "\n",
            "    accuracy                           0.83      1000\n",
            "   macro avg       0.83      0.83      0.83      1000\n",
            "weighted avg       0.84      0.83      0.83      1000\n",
            "\n",
            "Classification Report for Sklearn TF-IDF Model:\n",
            "              precision    recall  f1-score   support\n",
            "\n",
            "           0       0.81      0.87      0.84       512\n",
            "           1       0.85      0.78      0.81       488\n",
            "\n",
            "    accuracy                           0.82      1000\n",
            "   macro avg       0.83      0.82      0.82      1000\n",
            "weighted avg       0.83      0.82      0.82      1000\n",
            "\n"
          ]
        }
      ],
      "source": [
        "# Custom TF-IDF\n",
        "print('Classification Report for Custom TF-IDF Model:')\n",
        "print(classification_report(val_labels, val_pred))\n",
        "\n",
        "# Sklearn TfidfTransformer\n",
        "print('Classification Report for Sklearn TF-IDF Model:')\n",
        "print(classification_report(val_labels, val_pred2))"
      ]
    },
    {
      "cell_type": "markdown",
      "metadata": {
        "id": "tnC3Wn6BLz6F"
      },
      "source": [
        "__The custom model was a slighly better, with overall better accuracy, precision, recall, and f1-score.__"
      ]
    },
    {
      "cell_type": "markdown",
      "metadata": {
        "id": "2PZbUI9FKgKV"
      },
      "source": [
        "## II Dense Representations <a class=\"anchor\" id=\"dense_representation\"></a>\n",
        "\n",
        "#### Word Embeddings : Distributed representations via the distributional hypothesis\n",
        "\n",
        "**Goal**: We will try to obtain dense representations (as vectors of real numbers) of words (and possibly sentences). These representations are intended to be distributed: they are non-local representations. We represent an object as a combination of *features*, as opposed to the attribution of a dedicated symbol: see the founding work of Geoffrey Hinton, among others, on the subject: [Distributed Representations](https://web.stanford.edu/~jlmcc/papers/PDP/Chapter3.pdf).\n",
        "\n",
        "The term *distributed* representations is very general, but is what we are looking for. The challenge is therefore to be able to build, automatically, such representations.\n",
        "\n",
        "**Underlying idea**: It is based on the distributional hypothesis: contextual information is sufficient to obtain a viable representation of linguistic objects.\n",
        " - For a large class of cases [...] the meaning of a word is its use in the language.\" Wittgenstein (Philosophical Investigations, 43 - 1953)\n",
        " - You shall know a word by the company it keeps, Firth.\n",
        "\n",
        "Thus, a word can be characterized by the words that accompany it, via co-occurrence counts. Two words with a similar meaning will have a similar contextual distribution and are therefore more likely to appear in similar contexts. This hypothesis can be used as a justification for the application of statistics to semantics (information extraction, semantic analysis). It also allows some form of generalization: we can assume that the information we have about a word will be generalized to words with a similar distribution.\n",
        "\n",
        "**Motivation**: The goal is to obtain distributed representations in order to be able to effectively**:\n",
        "- Directly perform a semantic surface analysis.\n",
        "- Use it as a source of information for other language-related models and applications, especially for sentiment analysis.\n",
        "\n",
        "\n",
        "**Terminology**: Be careful not to confuse the idea of *distributed* and *distributional* representation. The latter generally indicates (for words) that the representation has been obtained strictly from co-occurrence counts, whereas additional information (document labels, part of speech tags, ...) can be used to build distributed representations.\n",
        "The models that allow to build these dense representations, in the form of vectors, are often called *vector spaces models*. These representations are also regularly called *word embeddings*, because the words are embedded in a vector space. In French, we often find the term *word embedding* or *lexical embedding*."
      ]
    },
    {
      "cell_type": "markdown",
      "metadata": {
        "id": "EclaayswKgKV"
      },
      "source": [
        "### II.1 Getting representations: counts of occurrences and co-occurrences\n",
        "\n",
        "Depending on the type of corpus available, different types of distributional information can be obtained. If we have access to a collection of documents, we can thus choose to count the number of occurrences of each word in each document, to obtain a $words \\times documents$ matrix: it is on this principle that **Tf-Idf** is built. We will now look at a more general case: we have a large amount of data in text form, and we want to obtain representations of words in the form of vectors of reduced size, without the need to divide them into documents or categories.\n",
        "\n",
        "Suppose we have a corpus containing $T$ different words. We will construct a $\\mathbf{M}$ matrix of size $T \\times T$ which will contain the number of co-occurrences between words. There will be different factors to consider when constructing this matrix:\n",
        "\n",
        "- How do you define the 'context' of a word - context which will tell you what terms co-occur with that word?\n",
        "\n",
        "We can choose to use different scales: the document, the sentence, the nominal group, or simply a window of $k$ words, depending on the information we want to capture.\n",
        "\n",
        "\n",
        "- Should we keep all the words that appear in the corpus?\n",
        "\n",
        "$\\rightarrow$ Usually not. We will see that for large corpora, the number $T$ of different words is huge. Second, even if the number of words is reasonable, we will have very little distributional information on the rarest words, and the representation obtained will be of poor quality. We will have to ask ourselves how to filter these words, and how to treat the words we choose not to represent."
      ]
    },
    {
      "cell_type": "markdown",
      "metadata": {
        "id": "Mojt-SmBKgKW"
      },
      "source": [
        "#### Example:\n",
        "\n",
        "Let's look at the following text:\n",
        "\n",
        "*I walked down down the boulevard. I walked down the avenue. I ran down the boulevard. I walk down the city. I walk down the the avenue.*\n",
        "\n",
        "We choose to define the context of a word as the sentence to which it belongs, and to not use any weighting.\n",
        "We obtain the following matrix:\n",
        "\n",
        "|     *         | I | the | down | walked | boulevard | avenue | walk | ran | city |\n",
        "|---------------|---|-----|------|--------|-----------|--------|------|-----|------|\n",
        "| I             | 0 |      6 |    6 |   2 |         2 |      2 |   2 |    1 |    1 |\n",
        "| the           | 6 |      2 |    7 |   2 |         2 |      3 |   3 |    1 |    1 |\n",
        "| down          | 6 |      7 |    2 |   3 |         3 |      2 |   2 |    1 |    1 |\n",
        "| walked        | 2 |      2 |    3 |   0 |         1 |      1 |   0 |    0 |    0 |\n",
        "| boulevard     | 2 |      2 |    3 |   1 |         0 |      0 |   0 |    1 |    0 |\n",
        "| avenue        | 2 |      3 |    2 |   1 |         0 |      0 |   1 |    0 |    0 |\n",
        "| ran           | 2 |      3 |    2 |   0 |         0 |      1 |   0 |    0 |    1 |\n",
        "| walk          | 1 |      1 |    1 |   0 |         1 |      0 |   0 |    0 |    0 |\n",
        "| city          | 1 |      1 |    1 |   0 |         0 |      0 |   1 |    0 |    1 |"
      ]
    },
    {
      "cell_type": "markdown",
      "metadata": {
        "id": "mcaTcN-DKgKW"
      },
      "source": [
        "#### In practice: get a Vocabulary.\n",
        "\n",
        "To begin, we will implement separately a function returning the vocabulary. Here we will have to be able to control its size, by indicating a maximum number of words. We add, at the end, an \"unknown\" word that will replace all the words that do not appear in our \"limited\" vocabulary.\n",
        "\n",
        "**Remarks:**\n",
        "- Use tokenization to obtain words from a document !\n",
        "- Add a special token ```<UNK>``` to deal with out-of-vocabulary words: even if you don't put a limit, you might encounter new words when working with new data.\n",
        "- You need to count words and sort them by frequency in order to only keep the most frequent ones. It is not necessary to count 'unknown' words.\n",
        "\n",
        "<div class='alert alert-block alert-info'>\n",
        "            Code:</div>"
      ]
    },
    {
      "cell_type": "code",
      "execution_count": null,
      "metadata": {
        "id": "yAjC3FhBQUoI"
      },
      "outputs": [],
      "source": [
        "# New tokenize function to adapt the output to the examples given in the code (1 and 2-letter words not cleaned)\n",
        "def tokenize(text):\n",
        "    # Lowercase\n",
        "    text = text.lower()\n",
        "    # Remove numbers\n",
        "    text = re.sub(r\"[0-9]+\", \"\", text)\n",
        "    # Remove punctuation\n",
        "    REMOVE_PUNCT = re.compile(\"[.;:!\\'?,\\\"()\\[\\]]\")\n",
        "    text = REMOVE_PUNCT.sub(\"\", text)\n",
        "    # Remove HTML artifacts specific to the corpus we're going to work with\n",
        "    REPLACE_HTML = re.compile(\"(<br\\s*/><br\\s*/>)|(\\-)|(\\/)\")\n",
        "    text = REPLACE_HTML.sub(\" \", text)\n",
        "\n",
        "    tokens = text.split()\n",
        "    return tokens\n",
        "\n",
        "def vocabulary(corpus, count_threshold=5, voc_threshold=10000):\n",
        "    \"\"\"\n",
        "    Function using word counts to build a vocabulary - can be improved with a second parameter for\n",
        "    setting a frequency threshold\n",
        "    Params:\n",
        "        corpus (list of strings): corpus of sentences\n",
        "        count_threshold (int): number of occurrences necessary for a word to be included in the vocabulary\n",
        "        voc_threshold (int): maximum size of the vocabulary\n",
        "    Returns:\n",
        "        vocabulary (dictionary): keys: list of distinct words across the corpus\n",
        "                                 values: indexes corresponding to each word sorted by frequency\n",
        "        vocabulary_word_counts (dictionary): keys: list of distinct words across the corpus\n",
        "                                             values: corresponding counts of words in the corpus\n",
        "    \"\"\"\n",
        "    word_counts = {}\n",
        "    for text in corpus:\n",
        "        tokens = tokenize(text)\n",
        "        for token in tokens:\n",
        "            if token not in word_counts:\n",
        "                word_counts[token] = 1\n",
        "            else:\n",
        "                word_counts[token] += 1\n",
        "\n",
        "    # Create an ordered vocabulary\n",
        "    sorted_words = sorted(word_counts.keys())\n",
        "\n",
        "    filtered_word_counts = {word: count for word, count in word_counts.items() if count >= count_threshold}\n",
        "\n",
        "    # Sort the filtered word counts by frequency\n",
        "    sorted_filtered_words = sorted(filtered_word_counts.keys(), key=lambda x: filtered_word_counts[x], reverse=True)\n",
        "\n",
        "    # Keep only the top voc_threshold words\n",
        "    sorted_filtered_words = sorted_filtered_words[:voc_threshold]\n",
        "\n",
        "    vocabulary = {word: index for index, word in enumerate(sorted_filtered_words)}\n",
        "    vocabulary[\"UNK\"] = len(vocabulary)\n",
        "\n",
        "    # Create a dictionary with word counts for the filtered vocabulary\n",
        "    vocabulary_word_counts = {word: word_counts[word] for word in sorted_filtered_words}\n",
        "\n",
        "    # Add the UNK count\n",
        "    unk_count = sum(count for count in word_counts.values() if count < count_threshold)\n",
        "    vocabulary_word_counts[\"UNK\"] = 0\n",
        "\n",
        "    return vocabulary, vocabulary_word_counts"
      ]
    },
    {
      "cell_type": "code",
      "execution_count": null,
      "metadata": {
        "colab": {
          "base_uri": "https://localhost:8080/"
        },
        "id": "1GGO2aD-KgKW",
        "outputId": "1a43350a-7236-40b9-cfc4-b650283a36dc"
      },
      "outputs": [
        {
          "output_type": "stream",
          "name": "stdout",
          "text": [
            "{'down': 0, 'the': 1, 'i': 2, 'UNK': 3}\n",
            "{'down': 6, 'the': 6, 'i': 5, 'UNK': 0}\n",
            "{'down': 0, 'the': 1, 'i': 2, 'walked': 3, 'boulevard': 4, 'avenue': 5, 'walk': 6, 'ran': 7, 'city': 8, 'UNK': 9}\n",
            "{'down': 6, 'the': 6, 'i': 5, 'walked': 2, 'boulevard': 2, 'avenue': 2, 'walk': 2, 'ran': 1, 'city': 1, 'UNK': 0}\n"
          ]
        }
      ],
      "source": [
        "# Example for testing:\n",
        "\n",
        "corpus = ['I walked down down the boulevard',\n",
        "          'I walked down the avenue',\n",
        "          'I ran down the boulevard',\n",
        "          'I walk down the city',\n",
        "          'I walk down the the avenue']\n",
        "\n",
        "voc, counts = vocabulary(corpus, count_threshold = 3)\n",
        "print(voc)\n",
        "print(counts)\n",
        "\n",
        "# We expect something like this:\n",
        "#  {'down': 0, 'the': 1, 'i': 2, 'UNK': 3}\n",
        "#  {'down': 6, 'the': 6, 'i': 5, 'UNK': 0}\n",
        "\n",
        "voc, counts = vocabulary(corpus, count_threshold = 0)\n",
        "print(voc)\n",
        "print(counts)\n",
        "\n",
        "# We expect something like this:\n",
        "#  {'down': 0, 'the': 1, 'i': 2, 'walked': 3, 'boulevard': 4, 'avenue': 5, 'walk': 6, 'ran': 7, 'city': 8, 'UNK': 9}\n",
        "#  {'down': 6, 'the': 6, 'i': 5, 'walked': 2, 'boulevard': 2, 'avenue': 2, 'walk': 2, 'ran': 1, 'city': 1, 'UNK': 0}"
      ]
    },
    {
      "cell_type": "markdown",
      "metadata": {
        "id": "Ovc-qL3wKgKW"
      },
      "source": [
        "#### Quick study of the data\n",
        "\n",
        "We would like to get an idea of what's in these film reviews before we proceed. So we'll get the vocabulary (in full) and represent the frequencies of the words, in order (be careful, you'll have to use a logarithmic scale): we should find back Zipf's law. This will give us an idea of the size of the vocabulary we will be able to choose: it's a matter of making a compromise between the necessary resources (size of the objects in memory) and the amount of information we can get from them (rare words can bring a lot of information, but it's difficult to learn good representations of them, because they are rare!)."
      ]
    },
    {
      "cell_type": "code",
      "execution_count": null,
      "metadata": {
        "colab": {
          "base_uri": "https://localhost:8080/",
          "height": 387
        },
        "id": "o-vpXFT_KgKX",
        "outputId": "64925b5d-243c-4ba0-ae9a-a6d933b8fb84"
      },
      "outputs": [
        {
          "output_type": "display_data",
          "data": {
            "text/plain": [
              "<Figure size 2000x500 with 1 Axes>"
            ],
            "image/png": "[encoded data removed]"
          },
          "metadata": {}
        }
      ],
      "source": [
        "# We would like to display the curve of word frequencies given their rank (index) in the vocabulary\n",
        "vocab, word_counts = vocabulary(train_texts, 1, 5000000)\n",
        "\n",
        "# Sort the word counts in descending order\n",
        "sorted_word_counts = sorted(word_counts.values(), reverse=True)\n",
        "\n",
        "# Normalize the word counts\n",
        "sorted_word_counts = np.array(sorted_word_counts) / np.sum(sorted_word_counts)\n",
        "\n",
        "# We can for example use the function plt.scatter()\n",
        "plt.figure(figsize=(20,5))\n",
        "plt.scatter(range(1, len(sorted_word_counts) + 1), sorted_word_counts, s=10)\n",
        "plt.title('Word counts versus rank')\n",
        "plt.xlabel('Rank')\n",
        "plt.ylabel('Word Count')\n",
        "plt.yscale('log')\n",
        "plt.show()"
      ]
    },
    {
      "cell_type": "code",
      "execution_count": null,
      "metadata": {
        "colab": {
          "base_uri": "https://localhost:8080/",
          "height": 389
        },
        "id": "O9VwKzLtt5DM",
        "outputId": "8d467206-44e6-43b2-f723-ee4db565876f"
      },
      "outputs": [
        {
          "output_type": "display_data",
          "data": {
            "text/plain": [
              "<Figure size 2000x500 with 1 Axes>"
            ],
            "image/png": "[encoded data removed]"
          },
          "metadata": {}
        }
      ],
      "source": [
        "# Plot the curve of the evolution of the part of the corpus represented by the 'k' most frequent words\n",
        "plt.figure(figsize=(20,5))\n",
        "plt.plot(range(1, len(sorted_word_counts) + 1), np.cumsum(sorted_word_counts) / np.sum(sorted_word_counts))\n",
        "plt.title('Part of the corpus versus rank')\n",
        "plt.xlabel('Rank')\n",
        "plt.ylabel('Part of the corpus')\n",
        "plt.show()"
      ]
    },
    {
      "cell_type": "code",
      "execution_count": null,
      "metadata": {
        "colab": {
          "base_uri": "https://localhost:8080/"
        },
        "id": "iiLvnV18t5DM",
        "outputId": "da4773dd-5807-45f6-9fbb-f37f7a4565d3"
      },
      "outputs": [
        {
          "output_type": "stream",
          "name": "stdout",
          "text": [
            "Vocabulary size: 93330\n",
            "Part of the corpus by taking the 5000 most frequent words = 90.05669726772567 %\n"
          ]
        }
      ],
      "source": [
        "# We would like to know how much of the data is represented by the 'k' most frequent words\n",
        "print('Vocabulary size: %i' % len(vocab))\n",
        "\n",
        "x = 5000  # Replace with the desired value of x\n",
        "total_word_count = sum(sorted_word_counts)\n",
        "x_word_count = sum(sorted_word_counts[:x])\n",
        "part = x_word_count / total_word_count\n",
        "\n",
        "print('Part of the corpus by taking the', x, 'most frequent words =', part*100,'%')"
      ]
    },
    {
      "cell_type": "markdown",
      "metadata": {
        "id": "uCkoptusKgKX"
      },
      "source": [
        "Result of the analysis: you should find that we can be satisfied with 10,000 or even 5,000 words - this is important, because it will determine the size of the objects we will manipulate."
      ]
    },
    {
      "cell_type": "code",
      "execution_count": null,
      "metadata": {
        "id": "pSUJdoeoKgKX"
      },
      "outputs": [],
      "source": [
        "vocab_5k, word_counts_5k = vocabulary(train_texts, 1, 5000)"
      ]
    },
    {
      "cell_type": "code",
      "execution_count": null,
      "metadata": {
        "colab": {
          "base_uri": "https://localhost:8080/"
        },
        "id": "H8VYMUVnKgKX",
        "outputId": "d82d56da-b356-473d-edbf-02705c265188"
      },
      "outputs": [
        {
          "output_type": "stream",
          "name": "stdout",
          "text": [
            "429\n"
          ]
        }
      ],
      "source": [
        "print(vocab_5k['cinema'])"
      ]
    },
    {
      "cell_type": "code",
      "source": [
        "vocab_5k"
      ],
      "metadata": {
        "colab": {
          "base_uri": "https://localhost:8080/"
        },
        "id": "rUX0R7DTNU0L",
        "outputId": "e58037e3-8f7c-480a-b3f1-8b64701eb76d"
      },
      "execution_count": null,
      "outputs": [
        {
          "output_type": "execute_result",
          "data": {
            "text/plain": [
              "{'the': 0,\n",
              " 'and': 1,\n",
              " 'a': 2,\n",
              " 'of': 3,\n",
              " 'to': 4,\n",
              " 'is': 5,\n",
              " 'in': 6,\n",
              " 'it': 7,\n",
              " 'i': 8,\n",
              " 'this': 9,\n",
              " 'that': 10,\n",
              " 'was': 11,\n",
              " 'as': 12,\n",
              " 'for': 13,\n",
              " 'with': 14,\n",
              " 'movie': 15,\n",
              " 'but': 16,\n",
              " 'film': 17,\n",
              " 'on': 18,\n",
              " 'not': 19,\n",
              " 'you': 20,\n",
              " 'are': 21,\n",
              " 'his': 22,\n",
              " 'have': 23,\n",
              " 'be': 24,\n",
              " 'he': 25,\n",
              " 'one': 26,\n",
              " 'its': 27,\n",
              " 'all': 28,\n",
              " 'at': 29,\n",
              " 'by': 30,\n",
              " 'an': 31,\n",
              " 'they': 32,\n",
              " 'from': 33,\n",
              " 'who': 34,\n",
              " 'so': 35,\n",
              " 'like': 36,\n",
              " 'her': 37,\n",
              " 'or': 38,\n",
              " 'just': 39,\n",
              " 'about': 40,\n",
              " 'out': 41,\n",
              " 'has': 42,\n",
              " 'if': 43,\n",
              " 'some': 44,\n",
              " 'there': 45,\n",
              " 'what': 46,\n",
              " 'good': 47,\n",
              " 'more': 48,\n",
              " 'when': 49,\n",
              " 'very': 50,\n",
              " 'up': 51,\n",
              " 'time': 52,\n",
              " 'no': 53,\n",
              " 'even': 54,\n",
              " 'she': 55,\n",
              " 'my': 56,\n",
              " 'would': 57,\n",
              " 'which': 58,\n",
              " 'story': 59,\n",
              " 'only': 60,\n",
              " 'really': 61,\n",
              " 'see': 62,\n",
              " 'their': 63,\n",
              " 'were': 64,\n",
              " 'had': 65,\n",
              " 'can': 66,\n",
              " 'me': 67,\n",
              " 'well': 68,\n",
              " 'than': 69,\n",
              " 'we': 70,\n",
              " 'much': 71,\n",
              " 'been': 72,\n",
              " 'get': 73,\n",
              " 'bad': 74,\n",
              " 'will': 75,\n",
              " 'do': 76,\n",
              " 'into': 77,\n",
              " 'also': 78,\n",
              " 'people': 79,\n",
              " 'other': 80,\n",
              " 'first': 81,\n",
              " 'because': 82,\n",
              " 'great': 83,\n",
              " 'how': 84,\n",
              " 'him': 85,\n",
              " 'most': 86,\n",
              " 'dont': 87,\n",
              " 'made': 88,\n",
              " 'then': 89,\n",
              " 'movies': 90,\n",
              " 'make': 91,\n",
              " 'way': 92,\n",
              " 'them': 93,\n",
              " 'films': 94,\n",
              " 'too': 95,\n",
              " 'could': 96,\n",
              " 'any': 97,\n",
              " 'after': 98,\n",
              " 'characters': 99,\n",
              " 'think': 100,\n",
              " 'watch': 101,\n",
              " 'two': 102,\n",
              " 'character': 103,\n",
              " 'seen': 104,\n",
              " 'many': 105,\n",
              " 'being': 106,\n",
              " 'plot': 107,\n",
              " 'life': 108,\n",
              " 'never': 109,\n",
              " 'acting': 110,\n",
              " 'little': 111,\n",
              " 'best': 112,\n",
              " 'love': 113,\n",
              " 'over': 114,\n",
              " 'where': 115,\n",
              " 'did': 116,\n",
              " 'show': 117,\n",
              " 'know': 118,\n",
              " 'off': 119,\n",
              " 'ever': 120,\n",
              " 'does': 121,\n",
              " 'better': 122,\n",
              " 'your': 123,\n",
              " 'still': 124,\n",
              " 'end': 125,\n",
              " 'man': 126,\n",
              " 'here': 127,\n",
              " 'these': 128,\n",
              " 'say': 129,\n",
              " 'scene': 130,\n",
              " 'while': 131,\n",
              " 'why': 132,\n",
              " 'scenes': 133,\n",
              " 'go': 134,\n",
              " 'such': 135,\n",
              " 'something': 136,\n",
              " 'through': 137,\n",
              " 'should': 138,\n",
              " 'back': 139,\n",
              " 'im': 140,\n",
              " 'real': 141,\n",
              " 'those': 142,\n",
              " 'watching': 143,\n",
              " 'years': 144,\n",
              " 'doesnt': 145,\n",
              " 'now': 146,\n",
              " 'actors': 147,\n",
              " 'though': 148,\n",
              " 'old': 149,\n",
              " 'thing': 150,\n",
              " 's': 151,\n",
              " 'didnt': 152,\n",
              " 'work': 153,\n",
              " 'new': 154,\n",
              " 'another': 155,\n",
              " 'before': 156,\n",
              " 'nothing': 157,\n",
              " 'funny': 158,\n",
              " 'actually': 159,\n",
              " 'makes': 160,\n",
              " 'director': 161,\n",
              " 'look': 162,\n",
              " 'find': 163,\n",
              " 'going': 164,\n",
              " 'few': 165,\n",
              " 'same': 166,\n",
              " 'part': 167,\n",
              " 'us': 168,\n",
              " 'every': 169,\n",
              " 'lot': 170,\n",
              " 'again': 171,\n",
              " 'cast': 172,\n",
              " 'quite': 173,\n",
              " 'cant': 174,\n",
              " 'thats': 175,\n",
              " 'down': 176,\n",
              " 'want': 177,\n",
              " 'things': 178,\n",
              " 'world': 179,\n",
              " 'pretty': 180,\n",
              " 'young': 181,\n",
              " 'seems': 182,\n",
              " 'around': 183,\n",
              " 'got': 184,\n",
              " 'horror': 185,\n",
              " 'fact': 186,\n",
              " '&': 187,\n",
              " 'take': 188,\n",
              " 'however': 189,\n",
              " 'big': 190,\n",
              " 'enough': 191,\n",
              " 'thought': 192,\n",
              " 'long': 193,\n",
              " 'series': 194,\n",
              " 'between': 195,\n",
              " 'both': 196,\n",
              " 'give': 197,\n",
              " 'may': 198,\n",
              " 'original': 199,\n",
              " 'own': 200,\n",
              " 'ive': 201,\n",
              " 'action': 202,\n",
              " 'right': 203,\n",
              " 'without': 204,\n",
              " 'always': 205,\n",
              " 'gets': 206,\n",
              " 'times': 207,\n",
              " 'comedy': 208,\n",
              " 'point': 209,\n",
              " 'must': 210,\n",
              " 'come': 211,\n",
              " 'isnt': 212,\n",
              " 'role': 213,\n",
              " 'saw': 214,\n",
              " 'almost': 215,\n",
              " 'interesting': 216,\n",
              " 'least': 217,\n",
              " 'family': 218,\n",
              " 'done': 219,\n",
              " 'whole': 220,\n",
              " 'theres': 221,\n",
              " 'bit': 222,\n",
              " 'music': 223,\n",
              " 'script': 224,\n",
              " 'far': 225,\n",
              " 'making': 226,\n",
              " 'guy': 227,\n",
              " 'feel': 228,\n",
              " 'minutes': 229,\n",
              " 'anything': 230,\n",
              " 'last': 231,\n",
              " 'might': 232,\n",
              " 'hes': 233,\n",
              " 'since': 234,\n",
              " 'performance': 235,\n",
              " 'tv': 236,\n",
              " 'probably': 237,\n",
              " 'am': 238,\n",
              " 'kind': 239,\n",
              " 'away': 240,\n",
              " 'rather': 241,\n",
              " 'yet': 242,\n",
              " 'worst': 243,\n",
              " 'girl': 244,\n",
              " 'day': 245,\n",
              " 'fun': 246,\n",
              " 'sure': 247,\n",
              " 'hard': 248,\n",
              " 'woman': 249,\n",
              " 'each': 250,\n",
              " 'found': 251,\n",
              " 'anyone': 252,\n",
              " 'played': 253,\n",
              " 'having': 254,\n",
              " 'our': 255,\n",
              " 'although': 256,\n",
              " 'believe': 257,\n",
              " 'course': 258,\n",
              " 'comes': 259,\n",
              " 'looking': 260,\n",
              " 'trying': 261,\n",
              " 'especially': 262,\n",
              " 'screen': 263,\n",
              " 'set': 264,\n",
              " 'goes': 265,\n",
              " 'shows': 266,\n",
              " 'looks': 267,\n",
              " 'place': 268,\n",
              " 'put': 269,\n",
              " 'book': 270,\n",
              " 'different': 271,\n",
              " 'ending': 272,\n",
              " 'money': 273,\n",
              " 'wasnt': 274,\n",
              " 'true': 275,\n",
              " 'sense': 276,\n",
              " 'once': 277,\n",
              " 'reason': 278,\n",
              " 'everything': 279,\n",
              " 'maybe': 280,\n",
              " 'actor': 281,\n",
              " 'dvd': 282,\n",
              " 'three': 283,\n",
              " 'worth': 284,\n",
              " 'main': 285,\n",
              " 'job': 286,\n",
              " 'year': 287,\n",
              " 'watched': 288,\n",
              " 'someone': 289,\n",
              " 'together': 290,\n",
              " 'plays': 291,\n",
              " 'play': 292,\n",
              " 'american': 293,\n",
              " 'takes': 294,\n",
              " 'said': 295,\n",
              " 'later': 296,\n",
              " 'effects': 297,\n",
              " 'seem': 298,\n",
              " 'instead': 299,\n",
              " 'beautiful': 300,\n",
              " 'house': 301,\n",
              " 'high': 302,\n",
              " 'himself': 303,\n",
              " 'night': 304,\n",
              " 'version': 305,\n",
              " 'john': 306,\n",
              " 'audience': 307,\n",
              " 'during': 308,\n",
              " 'everyone': 309,\n",
              " 'left': 310,\n",
              " 'special': 311,\n",
              " 'seeing': 312,\n",
              " 'half': 313,\n",
              " 'excellent': 314,\n",
              " 'star': 315,\n",
              " 'wife': 316,\n",
              " 'shot': 317,\n",
              " 'idea': 318,\n",
              " 'war': 319,\n",
              " 'less': 320,\n",
              " 'black': 321,\n",
              " 'nice': 322,\n",
              " 'mind': 323,\n",
              " 'simply': 324,\n",
              " 'read': 325,\n",
              " 'second': 326,\n",
              " 'father': 327,\n",
              " 'youre': 328,\n",
              " 'else': 329,\n",
              " 'kids': 330,\n",
              " 'help': 331,\n",
              " 'fan': 332,\n",
              " 'death': 333,\n",
              " 'poor': 334,\n",
              " 'completely': 335,\n",
              " 'used': 336,\n",
              " 'home': 337,\n",
              " 'line': 338,\n",
              " 'short': 339,\n",
              " 'dead': 340,\n",
              " 'men': 341,\n",
              " 'friends': 342,\n",
              " 'given': 343,\n",
              " 'either': 344,\n",
              " 'top': 345,\n",
              " 'try': 346,\n",
              " 'budget': 347,\n",
              " 'classic': 348,\n",
              " 'performances': 349,\n",
              " 'use': 350,\n",
              " 'wrong': 351,\n",
              " 'enjoy': 352,\n",
              " 'need': 353,\n",
              " 'rest': 354,\n",
              " 'hollywood': 355,\n",
              " 'low': 356,\n",
              " 'boring': 357,\n",
              " 'production': 358,\n",
              " 'full': 359,\n",
              " 'camera': 360,\n",
              " 'until': 361,\n",
              " 'along': 362,\n",
              " 'truly': 363,\n",
              " 'women': 364,\n",
              " 'video': 365,\n",
              " 'tell': 366,\n",
              " 'awful': 367,\n",
              " 'next': 368,\n",
              " 'couple': 369,\n",
              " 'stars': 370,\n",
              " 'start': 371,\n",
              " 'remember': 372,\n",
              " 'stupid': 373,\n",
              " 'came': 374,\n",
              " 'sex': 375,\n",
              " 'recommend': 376,\n",
              " 'mean': 377,\n",
              " 'perhaps': 378,\n",
              " 'others': 379,\n",
              " 'let': 380,\n",
              " 'moments': 381,\n",
              " 'wonderful': 382,\n",
              " 'understand': 383,\n",
              " 'small': 384,\n",
              " 'episode': 385,\n",
              " 'face': 386,\n",
              " 'playing': 387,\n",
              " 'school': 388,\n",
              " 'getting': 389,\n",
              " 'terrible': 390,\n",
              " 'written': 391,\n",
              " 'keep': 392,\n",
              " 'often': 393,\n",
              " 'doing': 394,\n",
              " 'style': 395,\n",
              " 'early': 396,\n",
              " 'perfect': 397,\n",
              " 'name': 398,\n",
              " 'human': 399,\n",
              " 'definitely': 400,\n",
              " 'gives': 401,\n",
              " 'itself': 402,\n",
              " 'lines': 403,\n",
              " 'person': 404,\n",
              " 'live': 405,\n",
              " 'become': 406,\n",
              " 'lost': 407,\n",
              " 'dialogue': 408,\n",
              " 'piece': 409,\n",
              " 'felt': 410,\n",
              " 'head': 411,\n",
              " 'finally': 412,\n",
              " 'case': 413,\n",
              " 'supposed': 414,\n",
              " 'liked': 415,\n",
              " 'couldnt': 416,\n",
              " 'yes': 417,\n",
              " 'title': 418,\n",
              " 'absolutely': 419,\n",
              " 'white': 420,\n",
              " 'boy': 421,\n",
              " 'against': 422,\n",
              " 'sort': 423,\n",
              " 'picture': 424,\n",
              " 'went': 425,\n",
              " 'entire': 426,\n",
              " 'worse': 427,\n",
              " 'waste': 428,\n",
              " 'cinema': 429,\n",
              " 'certainly': 430,\n",
              " 'shes': 431,\n",
              " 'problem': 432,\n",
              " 'evil': 433,\n",
              " 'hope': 434,\n",
              " 'entertaining': 435,\n",
              " 'called': 436,\n",
              " 'based': 437,\n",
              " 'loved': 438,\n",
              " 'several': 439,\n",
              " 'overall': 440,\n",
              " 'fans': 441,\n",
              " 'mother': 442,\n",
              " 'oh': 443,\n",
              " 'drama': 444,\n",
              " 'beginning': 445,\n",
              " 'mr': 446,\n",
              " 'id': 447,\n",
              " 'killer': 448,\n",
              " 'care': 449,\n",
              " 'becomes': 450,\n",
              " 'lives': 451,\n",
              " 'already': 452,\n",
              " 'dark': 453,\n",
              " 'direction': 454,\n",
              " 'under': 455,\n",
              " 'laugh': 456,\n",
              " 'guys': 457,\n",
              " 'seemed': 458,\n",
              " 'example': 459,\n",
              " 'friend': 460,\n",
              " 'turn': 461,\n",
              " 'throughout': 462,\n",
              " 'despite': 463,\n",
              " 'wanted': 464,\n",
              " '\\x96': 465,\n",
              " 'unfortunately': 466,\n",
              " 'children': 467,\n",
              " 'final': 468,\n",
              " 'fine': 469,\n",
              " 'girls': 470,\n",
              " 'sound': 471,\n",
              " 'heart': 472,\n",
              " 'history': 473,\n",
              " 'totally': 474,\n",
              " 'amazing': 475,\n",
              " 'guess': 476,\n",
              " 'humor': 477,\n",
              " 'wont': 478,\n",
              " 'lead': 479,\n",
              " 'writing': 480,\n",
              " 'wants': 481,\n",
              " 'quality': 482,\n",
              " 'close': 483,\n",
              " 'days': 484,\n",
              " 'youll': 485,\n",
              " 'son': 486,\n",
              " 'michael': 487,\n",
              " 'behind': 488,\n",
              " 'works': 489,\n",
              " 'tries': 490,\n",
              " 'side': 491,\n",
              " 'art': 492,\n",
              " 'game': 493,\n",
              " 'past': 494,\n",
              " 'able': 495,\n",
              " 'child': 496,\n",
              " 'ill': 497,\n",
              " 'turns': 498,\n",
              " 'hand': 499,\n",
              " 'act': 500,\n",
              " 'enjoyed': 501,\n",
              " 'theyre': 502,\n",
              " 'town': 503,\n",
              " 'flick': 504,\n",
              " 'favorite': 505,\n",
              " 'genre': 506,\n",
              " 'kill': 507,\n",
              " 'starts': 508,\n",
              " 'gave': 509,\n",
              " 'car': 510,\n",
              " 'run': 511,\n",
              " 'soon': 512,\n",
              " 'actress': 513,\n",
              " 'late': 514,\n",
              " 'eyes': 515,\n",
              " 'directed': 516,\n",
              " 'sometimes': 517,\n",
              " 'viewer': 518,\n",
              " 'ones': 519,\n",
              " 'horrible': 520,\n",
              " 'parts': 521,\n",
              " 'hour': 522,\n",
              " 'self': 523,\n",
              " 'brilliant': 524,\n",
              " 'themselves': 525,\n",
              " 'expect': 526,\n",
              " 'stories': 527,\n",
              " 'thinking': 528,\n",
              " 'blood': 529,\n",
              " 'stuff': 530,\n",
              " 'city': 531,\n",
              " 'obviously': 532,\n",
              " 'voice': 533,\n",
              " 'decent': 534,\n",
              " 'feeling': 535,\n",
              " 'highly': 536,\n",
              " 'etc': 537,\n",
              " 'fight': 538,\n",
              " 'myself': 539,\n",
              " 'matter': 540,\n",
              " 'slow': 541,\n",
              " 'type': 542,\n",
              " 'kid': 543,\n",
              " 'hell': 544,\n",
              " 'heard': 545,\n",
              " 'says': 546,\n",
              " 'age': 547,\n",
              " 'killed': 548,\n",
              " 'except': 549,\n",
              " 'roles': 550,\n",
              " 'god': 551,\n",
              " 'took': 552,\n",
              " 'moment': 553,\n",
              " 'leave': 554,\n",
              " 'cannot': 555,\n",
              " 'strong': 556,\n",
              " 'police': 557,\n",
              " 'writer': 558,\n",
              " 'violence': 559,\n",
              " 'hit': 560,\n",
              " 'stop': 561,\n",
              " 'anyway': 562,\n",
              " 'known': 563,\n",
              " 'happens': 564,\n",
              " 'particularly': 565,\n",
              " 'involved': 566,\n",
              " 'happened': 567,\n",
              " 'wouldnt': 568,\n",
              " 'extremely': 569,\n",
              " 'obvious': 570,\n",
              " 'chance': 571,\n",
              " 'living': 572,\n",
              " 'told': 573,\n",
              " 'daughter': 574,\n",
              " 'lack': 575,\n",
              " 'coming': 576,\n",
              " 'experience': 577,\n",
              " 'murder': 578,\n",
              " 'alone': 579,\n",
              " 'attempt': 580,\n",
              " 'b': 581,\n",
              " 'james': 582,\n",
              " 'including': 583,\n",
              " 'happen': 584,\n",
              " 'wonder': 585,\n",
              " 'interest': 586,\n",
              " 'complete': 587,\n",
              " 'cut': 588,\n",
              " 'gore': 589,\n",
              " 'brother': 590,\n",
              " 'ago': 591,\n",
              " 'please': 592,\n",
              " 'none': 593,\n",
              " 'group': 594,\n",
              " 'crap': 595,\n",
              " 'save': 596,\n",
              " 'simple': 597,\n",
              " 'score': 598,\n",
              " 'ok': 599,\n",
              " 'looked': 600,\n",
              " 'career': 601,\n",
              " 'number': 602,\n",
              " 'shown': 603,\n",
              " 'exactly': 604,\n",
              " 'song': 605,\n",
              " 'lets': 606,\n",
              " 'running': 607,\n",
              " 'annoying': 608,\n",
              " 'sad': 609,\n",
              " 'hero': 610,\n",
              " 'serious': 611,\n",
              " 'musical': 612,\n",
              " 'yourself': 613,\n",
              " 'hours': 614,\n",
              " 'taken': 615,\n",
              " 'released': 616,\n",
              " 'whose': 617,\n",
              " 'scary': 618,\n",
              " 'reality': 619,\n",
              " 'english': 620,\n",
              " 'seriously': 621,\n",
              " 'cinematography': 622,\n",
              " 'ends': 623,\n",
              " 'usually': 624,\n",
              " 'opening': 625,\n",
              " 'across': 626,\n",
              " 'jokes': 627,\n",
              " 'light': 628,\n",
              " 'possible': 629,\n",
              " 'david': 630,\n",
              " 'cool': 631,\n",
              " 'somewhat': 632,\n",
              " 'usual': 633,\n",
              " 'body': 634,\n",
              " 'today': 635,\n",
              " 'hilarious': 636,\n",
              " 'relationship': 637,\n",
              " 'started': 638,\n",
              " 'happy': 639,\n",
              " 'ridiculous': 640,\n",
              " 'level': 641,\n",
              " 'middle': 642,\n",
              " 'view': 643,\n",
              " 'change': 644,\n",
              " 'talking': 645,\n",
              " 'wish': 646,\n",
              " 'finds': 647,\n",
              " 'taking': 648,\n",
              " 'shots': 649,\n",
              " 'order': 650,\n",
              " 'documentary': 651,\n",
              " 'huge': 652,\n",
              " 'episodes': 653,\n",
              " 'power': 654,\n",
              " 'female': 655,\n",
              " 'saying': 656,\n",
              " 'opinion': 657,\n",
              " 'husband': 658,\n",
              " 'room': 659,\n",
              " 'mostly': 660,\n",
              " 'novel': 661,\n",
              " 'directors': 662,\n",
              " 'five': 663,\n",
              " 'important': 664,\n",
              " 'robert': 665,\n",
              " 'talent': 666,\n",
              " 'modern': 667,\n",
              " 'turned': 668,\n",
              " 'major': 669,\n",
              " 'call': 670,\n",
              " 'strange': 671,\n",
              " 'single': 672,\n",
              " 'word': 673,\n",
              " 'apparently': 674,\n",
              " 'rating': 675,\n",
              " 'disappointed': 676,\n",
              " 'events': 677,\n",
              " 'four': 678,\n",
              " 'songs': 679,\n",
              " 'due': 680,\n",
              " 'basically': 681,\n",
              " 'knows': 682,\n",
              " 'earth': 683,\n",
              " 'comic': 684,\n",
              " 'supporting': 685,\n",
              " 'knew': 686,\n",
              " 'clearly': 687,\n",
              " 'attention': 688,\n",
              " 'british': 689,\n",
              " 'non': 690,\n",
              " 'king': 691,\n",
              " 'class': 692,\n",
              " 'television': 693,\n",
              " 'fast': 694,\n",
              " 'future': 695,\n",
              " 'country': 696,\n",
              " 'arent': 697,\n",
              " 'cheap': 698,\n",
              " 'easily': 699,\n",
              " 'problems': 700,\n",
              " 'thriller': 701,\n",
              " 'silly': 702,\n",
              " 'words': 703,\n",
              " 'tells': 704,\n",
              " 'local': 705,\n",
              " 'miss': 706,\n",
              " 'sequence': 707,\n",
              " 'jack': 708,\n",
              " 'bring': 709,\n",
              " 'beyond': 710,\n",
              " 'entertainment': 711,\n",
              " 'whats': 712,\n",
              " 'straight': 713,\n",
              " 'paul': 714,\n",
              " 'upon': 715,\n",
              " 'romantic': 716,\n",
              " 'moving': 717,\n",
              " 'sets': 718,\n",
              " 'similar': 719,\n",
              " 'whether': 720,\n",
              " 'viewers': 721,\n",
              " 'falls': 722,\n",
              " 'oscar': 723,\n",
              " 'rock': 724,\n",
              " 'mystery': 725,\n",
              " 'eye': 726,\n",
              " 'review': 727,\n",
              " 'predictable': 728,\n",
              " 'talk': 729,\n",
              " 'giving': 730,\n",
              " 'appears': 731,\n",
              " 'needs': 732,\n",
              " 'enjoyable': 733,\n",
              " 'george': 734,\n",
              " 'within': 735,\n",
              " 'richard': 736,\n",
              " 'message': 737,\n",
              " 'near': 738,\n",
              " 'theater': 739,\n",
              " 'animation': 740,\n",
              " 'ten': 741,\n",
              " 'above': 742,\n",
              " 'stand': 743,\n",
              " 'nearly': 744,\n",
              " 'lady': 745,\n",
              " 'sequel': 746,\n",
              " 'theme': 747,\n",
              " 'feels': 748,\n",
              " 'bunch': 749,\n",
              " 'red': 750,\n",
              " 'havent': 751,\n",
              " 'herself': 752,\n",
              " 'mention': 753,\n",
              " 'add': 754,\n",
              " 'dull': 755,\n",
              " 'points': 756,\n",
              " 'release': 757,\n",
              " 'surprised': 758,\n",
              " 'lots': 759,\n",
              " 'ways': 760,\n",
              " 'team': 761,\n",
              " 'named': 762,\n",
              " 'using': 763,\n",
              " 'easy': 764,\n",
              " 'storyline': 765,\n",
              " 'begins': 766,\n",
              " 'actual': 767,\n",
              " 'working': 768,\n",
              " 'hate': 769,\n",
              " 'effort': 770,\n",
              " 'feature': 771,\n",
              " 'fantastic': 772,\n",
              " 'york': 773,\n",
              " 'minute': 774,\n",
              " 'follow': 775,\n",
              " 'die': 776,\n",
              " 'french': 777,\n",
              " 'tale': 778,\n",
              " 'clear': 779,\n",
              " 'stay': 780,\n",
              " 'among': 781,\n",
              " 'comments': 782,\n",
              " 'elements': 783,\n",
              " 'typical': 784,\n",
              " 'sister': 785,\n",
              " 'showing': 786,\n",
              " 'editing': 787,\n",
              " 'tried': 788,\n",
              " 'fall': 789,\n",
              " 're': 790,\n",
              " 'parents': 791,\n",
              " 'dialog': 792,\n",
              " 'famous': 793,\n",
              " 'certain': 794,\n",
              " 'avoid': 795,\n",
              " 'season': 796,\n",
              " 'filmed': 797,\n",
              " 'form': 798,\n",
              " 'buy': 799,\n",
              " 'means': 800,\n",
              " 'check': 801,\n",
              " 'figure': 802,\n",
              " 'soundtrack': 803,\n",
              " 'general': 804,\n",
              " 'material': 805,\n",
              " 'period': 806,\n",
              " 'sorry': 807,\n",
              " 'weak': 808,\n",
              " 'leads': 809,\n",
              " 'doubt': 810,\n",
              " 'crime': 811,\n",
              " 'somehow': 812,\n",
              " 'kept': 813,\n",
              " 'realistic': 814,\n",
              " 'viewing': 815,\n",
              " 'peter': 816,\n",
              " 'space': 817,\n",
              " 'greatest': 818,\n",
              " 'tom': 819,\n",
              " 'gone': 820,\n",
              " 'th': 821,\n",
              " 'dance': 822,\n",
              " 'brought': 823,\n",
              " 'third': 824,\n",
              " 'lame': 825,\n",
              " 'hear': 826,\n",
              " 'imagine': 827,\n",
              " 'atmosphere': 828,\n",
              " 'particular': 829,\n",
              " 'suspense': 830,\n",
              " 'zombie': 831,\n",
              " 'de': 832,\n",
              " 'sequences': 833,\n",
              " 'whos': 834,\n",
              " 'writers': 835,\n",
              " 'learn': 836,\n",
              " 'move': 837,\n",
              " 'reviews': 838,\n",
              " 'forget': 839,\n",
              " 'whatever': 840,\n",
              " 'indeed': 841,\n",
              " 'eventually': 842,\n",
              " 'rent': 843,\n",
              " 'poorly': 844,\n",
              " 'japanese': 845,\n",
              " 'sexual': 846,\n",
              " 'average': 847,\n",
              " 'lee': 848,\n",
              " 'premise': 849,\n",
              " 'note': 850,\n",
              " 'stage': 851,\n",
              " 'deal': 852,\n",
              " 'sit': 853,\n",
              " 'believable': 854,\n",
              " 'possibly': 855,\n",
              " 'wait': 856,\n",
              " 'surprise': 857,\n",
              " 'decided': 858,\n",
              " 'youve': 859,\n",
              " 'expected': 860,\n",
              " 'nature': 861,\n",
              " 'became': 862,\n",
              " 'subject': 863,\n",
              " 'difficult': 864,\n",
              " 'truth': 865,\n",
              " 'okay': 866,\n",
              " 'killing': 867,\n",
              " 'street': 868,\n",
              " 'free': 869,\n",
              " 'romance': 870,\n",
              " 'hot': 871,\n",
              " 'screenplay': 872,\n",
              " 'leaves': 873,\n",
              " 'nor': 874,\n",
              " 'needed': 875,\n",
              " 'reading': 876,\n",
              " 'question': 877,\n",
              " 'meets': 878,\n",
              " 'boys': 879,\n",
              " 'baby': 880,\n",
              " 'begin': 881,\n",
              " 'credits': 882,\n",
              " 'write': 883,\n",
              " 'situation': 884,\n",
              " 'meet': 885,\n",
              " 'memorable': 886,\n",
              " 'dramatic': 887,\n",
              " 'superb': 888,\n",
              " 'shame': 889,\n",
              " 'dog': 890,\n",
              " 'dr': 891,\n",
              " 'otherwise': 892,\n",
              " 'male': 893,\n",
              " 'open': 894,\n",
              " 'disney': 895,\n",
              " 'joe': 896,\n",
              " 'earlier': 897,\n",
              " 'forced': 898,\n",
              " 'badly': 899,\n",
              " 'sci': 900,\n",
              " 'dream': 901,\n",
              " 'unless': 902,\n",
              " 'fi': 903,\n",
              " 'emotional': 904,\n",
              " 'crazy': 905,\n",
              " 'weird': 906,\n",
              " 'acted': 907,\n",
              " 'realize': 908,\n",
              " 'older': 909,\n",
              " 'deep': 910,\n",
              " 'footage': 911,\n",
              " 'forward': 912,\n",
              " 'beauty': 913,\n",
              " 'interested': 914,\n",
              " 'society': 915,\n",
              " 'laughs': 916,\n",
              " 'comment': 917,\n",
              " 'keeps': 918,\n",
              " 'whom': 919,\n",
              " 'plus': 920,\n",
              " 'america': 921,\n",
              " 'features': 922,\n",
              " 'fantasy': 923,\n",
              " 'directing': 924,\n",
              " 'ask': 925,\n",
              " 'air': 926,\n",
              " 'development': 927,\n",
              " 'towards': 928,\n",
              " 'sounds': 929,\n",
              " 'quickly': 930,\n",
              " 'mess': 931,\n",
              " 'box': 932,\n",
              " 'perfectly': 933,\n",
              " 'worked': 934,\n",
              " 'creepy': 935,\n",
              " 'mark': 936,\n",
              " 'total': 937,\n",
              " 'unique': 938,\n",
              " 'plenty': 939,\n",
              " 'cheesy': 940,\n",
              " 'hands': 941,\n",
              " 'previous': 942,\n",
              " 'brings': 943,\n",
              " 'personal': 944,\n",
              " 'result': 945,\n",
              " 'setting': 946,\n",
              " 'monster': 947,\n",
              " 'effect': 948,\n",
              " 'incredibly': 949,\n",
              " 'imdb': 950,\n",
              " 'rate': 951,\n",
              " 'fire': 952,\n",
              " 'leading': 953,\n",
              " 'appear': 954,\n",
              " 'admit': 955,\n",
              " 'apart': 956,\n",
              " 'joke': 957,\n",
              " 'casting': 958,\n",
              " 'brothers': 959,\n",
              " 'background': 960,\n",
              " 'return': 961,\n",
              " 'christmas': 962,\n",
              " 'powerful': 963,\n",
              " 'business': 964,\n",
              " 'present': 965,\n",
              " 'create': 966,\n",
              " 'meant': 967,\n",
              " 'la': 968,\n",
              " 'telling': 969,\n",
              " 'battle': 970,\n",
              " 'girlfriend': 971,\n",
              " 'hardly': 972,\n",
              " 'pay': 973,\n",
              " 'political': 974,\n",
              " 'break': 975,\n",
              " 'bill': 976,\n",
              " 'potential': 977,\n",
              " 'gay': 978,\n",
              " 'various': 979,\n",
              " 'twist': 980,\n",
              " 'fighting': 981,\n",
              " 'cop': 982,\n",
              " 'secret': 983,\n",
              " 'dumb': 984,\n",
              " 'masterpiece': 985,\n",
              " 'portrayed': 986,\n",
              " 'fails': 987,\n",
              " 'era': 988,\n",
              " 'inside': 989,\n",
              " 'co': 990,\n",
              " 'jane': 991,\n",
              " 'reasons': 992,\n",
              " 'front': 993,\n",
              " 'outside': 994,\n",
              " 'ideas': 995,\n",
              " 'missing': 996,\n",
              " 'match': 997,\n",
              " 'western': 998,\n",
              " 'deserves': 999,\n",
              " ...}"
            ]
          },
          "metadata": {},
          "execution_count": 218
        }
      ]
    },
    {
      "cell_type": "markdown",
      "metadata": {
        "id": "W2fWSG2tKgKX"
      },
      "source": [
        "#### Obtaining co-occurences:\n",
        "\n",
        "The function takes as input the corpus (a list of strings, corresponding to documents/sentences) and a vocabulary, as well as the size of the context window. We can also implement the simplest solution: the context of a word being the full document to which it belongs.\n",
        "Finally, we can implement the possibility of making linearly decrease the importance of the context of a word when getting further from the input word.\n",
        "\n",
        "**Remark:**\n",
        "- The matrix we are building is symmetric: we can only build half of it !\n",
        "\n",
        "<div class='alert alert-block alert-info'>\n",
        "            Code:</div>"
      ]
    },
    {
      "cell_type": "code",
      "execution_count": null,
      "metadata": {
        "id": "mvoIlrwUKgKX"
      },
      "outputs": [],
      "source": [
        "def co_occurence_matrix(corpus, vocabulary, window=0):\n",
        "    \"\"\"\n",
        "    Params:\n",
        "        corpus (list of list of strings): corpus of sentences\n",
        "        vocabulary (dictionary): words to use in the matrix\n",
        "        window (int): size of the context window; when 0, the context is the whole sentence\n",
        "    Returns:\n",
        "        matrix (array of size (len(vocabulary), len(vocabulary))): the co-oc matrix, using the same ordering as the vocabulary given in input\n",
        "    \"\"\"\n",
        "    l = len(vocabulary)\n",
        "    M = np.zeros((l,l))\n",
        "    for sent in corpus:\n",
        "        # Get the sentence:\n",
        "        sent = clean_and_tokenize(sent)\n",
        "        # Get the indexes of the sentence thanks to the vocabulary\n",
        "        sent_idx = [vocabulary.get(token, vocabulary['UNK']) for token in sent]\n",
        "        # Look at the indexes of sentence, add 1.0 to the matrix in [i,j] if words\n",
        "        # of index i and j appear in the same window\n",
        "        for i, idx_i in enumerate(sent_idx):\n",
        "            # With a limited window size:\n",
        "            if window > 0:\n",
        "                # On crée une liste qui contient les indexs de la fenêtre à gauche de l'index courant 'idx_i'\n",
        "                l_ctx_idx = sent_idx[max(0, i-window):i]\n",
        "            # Taking the whole document as context:\n",
        "            else:\n",
        "                # The left side context of the word is easier to create\n",
        "                l_ctx_idx = sent_idx[:i]\n",
        "\n",
        "            # Update M[i,j]:\n",
        "            for j, idx_j in enumerate(l_ctx_idx):\n",
        "                M[idx_i, idx_j] += 1.0\n",
        "                M[idx_j, idx_i] += 1.0\n",
        "    return M"
      ]
    },
    {
      "cell_type": "code",
      "execution_count": null,
      "metadata": {
        "colab": {
          "base_uri": "https://localhost:8080/"
        },
        "id": "FYWU3ms6KgKY",
        "outputId": "01752e55-e41f-4ca1-dbd1-2b198870ef45"
      },
      "outputs": [
        {
          "output_type": "stream",
          "name": "stdout",
          "text": [
            "['I walked down down the boulevard', 'I walked down the avenue', 'I ran down the boulevard', 'I walk down the city', 'I walk down the the avenue']\n",
            "{'down': 0, 'the': 1, 'i': 2, 'walked': 3, 'boulevard': 4, 'avenue': 5, 'walk': 6, 'ran': 7, 'city': 8, 'UNK': 9}\n",
            "[[2. 7. 0. 3. 3. 2. 2. 1. 1. 0.]\n",
            " [7. 2. 0. 2. 2. 3. 3. 1. 1. 0.]\n",
            " [0. 0. 0. 0. 0. 0. 0. 0. 0. 0.]\n",
            " [3. 2. 0. 0. 1. 1. 0. 0. 0. 0.]\n",
            " [3. 2. 0. 1. 0. 0. 0. 1. 0. 0.]\n",
            " [2. 3. 0. 1. 0. 0. 1. 0. 0. 0.]\n",
            " [2. 3. 0. 0. 0. 1. 0. 0. 1. 0.]\n",
            " [1. 1. 0. 0. 1. 0. 0. 0. 0. 0.]\n",
            " [1. 1. 0. 0. 0. 0. 1. 0. 0. 0.]\n",
            " [0. 0. 0. 0. 0. 0. 0. 0. 0. 0.]]\n"
          ]
        }
      ],
      "source": [
        "print(corpus)\n",
        "print(voc)\n",
        "print(co_occurence_matrix(corpus, voc, 0))"
      ]
    },
    {
      "cell_type": "markdown",
      "metadata": {
        "id": "r58_KYNjKgKY"
      },
      "source": [
        "#### Obtaining the matrices:\n",
        "We can now get the co-occurence matrices with parameters of our choosing !"
      ]
    },
    {
      "cell_type": "code",
      "execution_count": null,
      "metadata": {
        "colab": {
          "base_uri": "https://localhost:8080/"
        },
        "id": "gqATALQzKgKY",
        "outputId": "4ac4f93a-fe2e-46be-cbf2-3a46bc6c1682"
      },
      "outputs": [
        {
          "output_type": "stream",
          "name": "stdout",
          "text": [
            "(5001, 5001)\n",
            "(5001, 5001)\n"
          ]
        }
      ],
      "source": [
        "vocab_5k, word_counts_5k = vocabulary(train_texts, 0, 5000)\n",
        "M5 = co_occurence_matrix(train_texts, vocab_5k, window=5)\n",
        "M20 = co_occurence_matrix(train_texts, vocab_5k, window=20)\n",
        "print(M5.shape)\n",
        "print(M20.shape)"
      ]
    },
    {
      "cell_type": "markdown",
      "metadata": {
        "id": "Rz3p6c4PKgKY"
      },
      "source": [
        "### II.2 Vector comparison\n",
        "\n",
        "We can use these very large-dimensional vectors for a very simple semantic analysis: for example, by looking for the nearest neighbors of a words. However, we need to be careful to the distance that we use (euclidean, cosine). Vector normalization can also play a role; in any way, we need to not over-interpret this type of results."
      ]
    },
    {
      "cell_type": "code",
      "execution_count": null,
      "metadata": {
        "colab": {
          "base_uri": "https://localhost:8080/"
        },
        "id": "C4J4OmhAKgKY",
        "outputId": "2e7d2013-a96b-4d08-9596-08d84b008772"
      },
      "outputs": [
        {
          "output_type": "stream",
          "name": "stdout",
          "text": [
            "Avec un contexte large, sans prendre en compte la distance entre les mots:\n",
            "Plus proches voisins de good selon la distance 'euclidean': \n",
            "[['very', 'what', 'there', 'when', 'more', 'even', 'which', 'only', 'some']]\n",
            "Plus proches voisins de good selon la distance 'cosine': \n",
            "[['very', 'pretty', 'just', 'great', 'not', 'really', 'cool', 'lot', 'decent']]\n",
            "\n",
            "Avec un contexte plus petit, et en réduisant l'impact des paires de mots selon leur distance:\n",
            "Plus proches voisins de good selon la distance 'euclidean': \n",
            "[['very', 'what', 'even', 'some', 'when', 'only', 'there', 'which', 'just']]\n",
            "Plus proches voisins de good selon la distance 'cosine': \n",
            "[['great', 'very', 'well', 'just', 'quite', 'still', 'really', 'decent', 'cool']]\n"
          ]
        }
      ],
      "source": [
        "from sklearn.neighbors import NearestNeighbors\n",
        "\n",
        "def euclidean(u, v):\n",
        "    return np.linalg.norm(u-v)\n",
        "\n",
        "def length_norm(u):\n",
        "    norm = np.linalg.norm(u)\n",
        "    if norm == 0:\n",
        "        return u\n",
        "    return u / norm\n",
        "\n",
        "def cosine(u, v):\n",
        "    return 1.0 - length_norm(u).dot(length_norm(v))\n",
        "\n",
        "def print_neighbors(distance, voc, co_oc, mot, k=10):\n",
        "    inv_voc = {id: w for w, id in voc.items()}\n",
        "    neigh = NearestNeighbors(n_neighbors=k, algorithm='brute', metric=distance)\n",
        "    neigh.fit(co_oc)\n",
        "    dist, ind = neigh.kneighbors([co_oc[voc[mot]]])\n",
        "    print(\"Plus proches voisins de %s selon la distance '%s': \" % (mot, distance.__name__))\n",
        "    print([[inv_voc[i] for i in s[1:]] for s in ind])\n",
        "\n",
        "print(\"Avec un contexte large, sans prendre en compte la distance entre les mots:\")\n",
        "print_neighbors(euclidean, vocab_5k, M20, 'good')\n",
        "print_neighbors(cosine, vocab_5k, M20, 'good')\n",
        "print(\"\")\n",
        "print(\"Avec un contexte plus petit, et en réduisant l'impact des paires de mots selon leur distance:\")\n",
        "print_neighbors(euclidean, vocab_5k, M5, 'good')\n",
        "print_neighbors(cosine, vocab_5k, M5, 'good')"
      ]
    },
    {
      "cell_type": "markdown",
      "metadata": {
        "id": "63wdWR58KgKZ"
      },
      "source": [
        "### II.3 Modifying the representations\n",
        "\n",
        "We may want to alter the representations to obtain better features - depending on what use we will have for them.\n",
        "\n",
        "**Normalization**: Very easy: we want to cancel the influence of the magnitude of the counts on the representation.\n",
        "\n",
        "$$\\mathbf{m_{normalized}} = \\left[\n",
        "   \\frac{m_{1}}{\\sum_{i=1}^{n}m_{i}},\n",
        "   \\frac{m_{2}}{\\sum_{i=1}^{n}m_{i}},\n",
        "   \\ldots\n",
        "   \\frac{m_{n}}{\\sum_{i=1}^{n}m_{i}},\n",
        "\\right]$$\n",
        "\n",
        "**Pointwise Mutual Information**: The aim is to assess the extent to which the co-occurrence of the two terms is *unexpected*. This measure is the ratio of the joint probability of the two words and the product of their individual probabilities:\n",
        "$$\n",
        "\\text{PMI}(x,y) = \\log \\left( \\frac{P(x,y)}{P(x)P(y)} \\right)\n",
        "$$\n",
        "The joint probability of the two words corresponds to the number of times they are observed together, divided by the total number of co-occurrences in the corpus:\n",
        "$$ P(\\mathbf{M},w_{1},w_{2}) = \\frac{M_{w_{1},w_{2}}}{\\sum_{i=1}^{n}\\sum_{j=1}^{n} M_{i,j}} $$\n",
        "The individual probability of a word simply corresponds to its frequency, which can be calculated by counting all co-occurrences where that word appears:\n",
        "$$ P(\\mathbf{M},w) = \\frac{\\sum_{j=1}^{m} M_{w,j}}{\\sum_{i=1}^{n}\\sum_{j=1}^{n} M_{i,j}} $$\n",
        "Hence,\n",
        "$$\n",
        "\\text{PMI}(\\mathbf{M},w_{1},w_{2}) = \\log  \\frac{M_{w_{1},w_{2}} \\times \\left( \\sum_{i=1}^{n}\\sum_{j=1}^{n} M_{i,j} \\right)}{\\left( \\sum_{j=1}^{n} M_{w_{1},j} \\right) \\times \\left( \\sum_{i=1}^{n}M_{i,w_{2}} \\right)}\n",
        "$$\n",
        "We thus calculate the discrepancy between the observation we have made in our corpus and the frequency of appearance of these terms if we consider them independent - i.e. we assume that their co-occurrence is a coincidence.\n",
        "\n",
        "The main problem with this measure is that it is not adapted to the case where no co-occurrence is observed. Since the PMI is supposed to return a positive quantity if more co-occurrences are observed than expected, and a negative quantity if fewer co-occurrences are observed, we cannot choose to replace $\\log(0)$ by $0$. A commonly used solution is to use the **Positive PMI**, which sets all negative values to $0$.\n",
        "\n",
        " $$\\text{PPMI}(\\mathbf{M},w_{1},w_{2}) =\n",
        " \\begin{cases}\n",
        " \\text{PMI}(\\mathbf{M},w_{1},w_{2}) & \\textrm{if } \\text{PMI}(\\mathbf{M},w_{1},w_{2}) > 0 \\\\\n",
        " 0 & \\textrm{otherwise}\n",
        " \\end{cases}$$"
      ]
    },
    {
      "cell_type": "code",
      "execution_count": null,
      "metadata": {
        "id": "J8iQdamjKgKZ"
      },
      "outputs": [],
      "source": [
        "def pmi(co_oc, positive=True):\n",
        "    epsilon = 1e-12\n",
        "    sum_vec = co_oc.sum(axis=0)\n",
        "    sum_tot = sum_vec.sum()\n",
        "    pmi = np.log((co_oc * sum_tot + epsilon) / (np.outer(sum_vec, sum_vec) + epsilon))\n",
        "    pmi[np.isinf(pmi)] = 0.0  # log(0) = 0\n",
        "    if positive:\n",
        "        pmi[pmi < 0] = 0.0\n",
        "    return pmi"
      ]
    },
    {
      "cell_type": "code",
      "execution_count": null,
      "metadata": {
        "colab": {
          "base_uri": "https://localhost:8080/"
        },
        "id": "rH-ii8aoKgKZ",
        "outputId": "0ec4381f-89e0-4fcb-ce06-7c23686c166b"
      },
      "outputs": [
        {
          "output_type": "stream",
          "name": "stdout",
          "text": [
            "With the PPMI:\n",
            "Plus proches voisins de good selon la distance 'euclidean': \n",
            "[['ie', 'vs', 'fu', 'r', 'me', 'we', 'f', 't', 'ed']]\n",
            "Plus proches voisins de good selon la distance 'cosine': \n",
            "[['great', 'bad', 'excellent', 'decent', 'but', 'performances', 'pretty', 'funny', 'some']]\n",
            "Plus proches voisins de good selon la distance 'euclidean': \n",
            "[['but', 'and', 'we', 'fu', 'jr', 'me', 'vs', 'ed', 'ie']]\n",
            "Plus proches voisins de good selon la distance 'cosine': \n",
            "[['great', 'decent', 'but', 'movie', 'bad', 'very', 'acting', 'really', 'pretty']]\n"
          ]
        }
      ],
      "source": [
        "PPMI5 = pmi(M5)\n",
        "PPMI20 = pmi(M20)\n",
        "\n",
        "print(\"With the PPMI:\")\n",
        "print_neighbors(euclidean, vocab_5k, PPMI5, 'good')\n",
        "print_neighbors(cosine, vocab_5k, PPMI5, 'good')\n",
        "print_neighbors(euclidean, vocab_5k, PPMI20, 'good')\n",
        "print_neighbors(cosine, vocab_5k, PPMI20, 'good')"
      ]
    },
    {
      "cell_type": "markdown",
      "metadata": {
        "id": "AoXYZLmlKgKZ"
      },
      "source": [
        "### II.4 Co-occurences matrix : reducing the dimension\n",
        "\n",
        "#### Motivation\n",
        "\n",
        "The aim is not only to reduce the size of the data (thus, we will deal with vectors of reduced dimensions, rather than working with vectors of the size of the vocabulary) but also to highlight higher level relationships between words: by reducing their representations to the *most important* dimensions of the data, we *generalize* certain properties between words.\n",
        "\n",
        "#### Dimension reduction via SVD\n",
        "\n",
        "A matrix is a linear transformation: applying an SVD to it means decomposing our linear transformation into a product of linear transformations of different types. In fact, we will change the basis of our vector, and replace our data in a space where each of the coordinates are unchanged by the transformation carried out. Thus, we decompose the matrix $\\mathbf{M}$ into three matrices:\n",
        "\n",
        "$$ \\mathbf{M} = \\mathbf{U} \\mathbf{\\lambda} \\mathbf{V}^{\\text{T}} $$\n",
        "\n",
        "Matrices $\\mathbf{U}$, $\\mathbf{\\lambda}$, et $\\mathbf{V}$ have the following properties:\n",
        "- $\\mathbf{U}$ and $\\mathbf{V}$ are orthogonal matrices ($\\mathbf{U}^{\\text{T}} = \\mathbf{U}^{-1}$ and $\\mathbf{V}^{\\text{T}} = \\mathbf{V}^{-1}$). They contain the eigen vectors to the right and to the left of $\\mathbf{M}$.\n",
        "- $\\mathbf{\\lambda}$ is a diagonal matrix: careful, it's not necessarily square. Values on the diagonal are the eigenvalues of $\\mathbf{M}$.\n",
        "\n",
        "Thus, the *most important* dimensions correspond to the largest eigenvalues. Reducing our data to $k$ dimensions corresponds to keeping only the vectors corresponding to the first $k$ eigenvalues - and this is equivalent to taking the first $k$ vectors of the $U$ matrix.\n",
        "\n",
        "Note: When we apply this method to the matrix of $\\mathbf{M}$ counts of dimension $T \\times D$, where $\\mathbf{M}_{t,d}$ contains the number of occurrences of the word $t$ in the document $d$, we obtain the method called **Latent Semantic Analysis**, for the detection of latent (semantic) components allowing the grouping of documents.\n",
        "\n",
        "We use ```TruncatedSVD``` from ```scikit-learn```:"
      ]
    },
    {
      "cell_type": "code",
      "execution_count": null,
      "metadata": {
        "colab": {
          "base_uri": "https://localhost:8080/"
        },
        "id": "E7jfvQJwKgKZ",
        "outputId": "8d37004b-e1ea-4d69-ffec-38109093f8ee"
      },
      "outputs": [
        {
          "output_type": "stream",
          "name": "stdout",
          "text": [
            "(5001, 300)\n",
            "Plus proches voisins de good selon la distance 'euclidean': \n",
            "[['very', 'what', 'even', 'some', 'when', 'only', 'there', 'which', 'just']]\n",
            "Plus proches voisins de good selon la distance 'cosine': \n",
            "[['great', 'very', 'decent', 'cool', 'well', 'quite', 'just', 'still', 'really']]\n"
          ]
        }
      ],
      "source": [
        "from sklearn.decomposition import TruncatedSVD\n",
        "svd = TruncatedSVD(n_components=300)\n",
        "SVDEmbeddings = svd.fit_transform(M5)\n",
        "print(SVDEmbeddings.shape)\n",
        "SVDEmbeddings[vocab_5k['UNK']]\n",
        "\n",
        "print_neighbors(euclidean, vocab_5k, SVDEmbeddings, 'good')\n",
        "print_neighbors(cosine, vocab_5k, SVDEmbeddings, 'good')"
      ]
    },
    {
      "cell_type": "markdown",
      "metadata": {
        "id": "LDvKYSSuKgKZ"
      },
      "source": [
        "#### Visualization in two dimensions\n",
        "\n",
        "We will now use **principal components analysis** (PCA) to visualize our data in two dimensions. This is equivalent to applying SVD to the covariance matrix of the data, in order for the principal components to be independant from each other an maximize the variance of the data. We use the class ```PCA``` from ```scikit-learn```:"
      ]
    },
    {
      "cell_type": "code",
      "execution_count": null,
      "metadata": {
        "colab": {
          "base_uri": "https://localhost:8080/",
          "height": 430
        },
        "id": "qMvj_VYWKgKa",
        "outputId": "a03283a8-8408-4795-d5a8-a8a977e9d0a5"
      },
      "outputs": [
        {
          "output_type": "display_data",
          "data": {
            "text/plain": [
              "<Figure size 640x480 with 1 Axes>"
            ],
            "image/png": "[encoded data removed]"
          },
          "metadata": {}
        }
      ],
      "source": [
        "from sklearn.decomposition import PCA\n",
        "pca = PCA(n_components=2, whiten=True)\n",
        "Emb = pca.fit_transform(M5)\n",
        "\n",
        "words = ['bad', 'good', 'best', 'worst', 'poor', 'great',\n",
        "         'dialog', 'role', 'actor', 'camera', 'scene',\n",
        "         'film', 'movie', 'award']\n",
        "ind_words = [vocab_5k[w] for w in words]\n",
        "x_words = [Emb[ind,0] for ind in ind_words]\n",
        "y_words = [Emb[ind,1] for ind in ind_words]\n",
        "\n",
        "fig, ax = plt.subplots()\n",
        "ax.scatter(x_words, y_words)\n",
        "\n",
        "for i, w in enumerate(words):\n",
        "    ax.annotate(w, (x_words[i], y_words[i]), (x_words[i] + 0.001, y_words[i] + 0.001))"
      ]
    },
    {
      "cell_type": "code",
      "execution_count": null,
      "metadata": {
        "colab": {
          "base_uri": "https://localhost:8080/",
          "height": 433
        },
        "id": "xP3dVWgEKgKa",
        "outputId": "ca10dc01-685e-4ab6-f054-dc8ae2c838ca"
      },
      "outputs": [
        {
          "output_type": "display_data",
          "data": {
            "text/plain": [
              "<Figure size 640x480 with 1 Axes>"
            ],
            "image/png": "[encoded data removed]"
          },
          "metadata": {}
        }
      ],
      "source": [
        "norms = np.linalg.norm(M5, ord=2, axis=1, keepdims=True)\n",
        "norms[norms == 0] = 1.0  # Replace zero norms with 1.0\n",
        "\n",
        "Norm5 = M5 / norms\n",
        "\n",
        "pca = PCA(n_components=2, whiten=True)\n",
        "Emb = pca.fit_transform(Norm5)\n",
        "\n",
        "words = ['bad', 'good', 'best', 'worst', 'poor', 'great',\n",
        "         'dialog', 'role', 'actor', 'camera', 'scene',\n",
        "         'film', 'movie', 'award']\n",
        "ind_words = [vocab_5k[w] for w in words]\n",
        "x_words = [Emb[ind, 0] for ind in ind_words]\n",
        "y_words = [Emb[ind, 1] for ind in ind_words]\n",
        "\n",
        "fig, ax = plt.subplots()\n",
        "ax.scatter(x_words, y_words)\n",
        "\n",
        "for i, w in enumerate(words):\n",
        "    ax.annotate(w, (x_words[i], y_words[i]), (x_words[i] + 0.001, y_words[i] + 0.001))"
      ]
    },
    {
      "cell_type": "markdown",
      "metadata": {
        "id": "OIwabtvjKgKa"
      },
      "source": [
        "### II.5 Getting a representation: commonly used algorithms\n",
        "\n",
        "The idea here is to define a set of representations ${w_{i}}_{i=1}^{V}$, of predefined dimension $d$ (here, we will work with $d = 300$), for all the words $i$ of the vocabulary $V$ - then **train** these representations to match what we want."
      ]
    },
    {
      "cell_type": "markdown",
      "metadata": {
        "id": "K29aMSSaKgKa"
      },
      "source": [
        "####  Word2Vec: The skip-gram model\n",
        "\n",
        "The basic skip-gram model tries to predict the context words $c$ surrounding a given center word $w$. Hence, it needs to estimate the probabilities of a pair of words $(i, j)$ to appear together in data:\n",
        "\n",
        "$$P(j \\mid i) = \\frac{\\exp(w_{i} c_{j})}{\\sum_{j'\\in V}\\exp(w_{i} c_{j'})}$$\n",
        "\n",
        "\n",
        "where $w_{i}$ is the lign vector (of the word) $i$ representing the center word and $c_{j}$ is the column vector (of one of the context words) $j$. The objective is to minimize the following quantity:\n",
        "\n",
        "\n",
        "$$ -\\sum_{i \\in \\mathcal{D}} \\sum_{j \\in \\mathcal{N}_i} \\sum_{k=1}^{|V|} \\textbf{1}\\{o_{i}=k\\} \\log \\frac{\\exp(w_{i} c_{k})}{\\sum_{j=1}^{|V|} \\exp(w_{i} c_{j})}$$\n",
        "\n",
        "\n",
        "where $V$ is the vocabulary. Here, the first sum goes accross words $i$ the dataset $\\mathcal{D}$; the second accross context words $j$ in the neighborhood $\\mathcal{N}_i$ of word $i$; and the third sums probabilities the context word $j$ being the $k$-th word in the vocabulary for each $k \\in V$.\n",
        "The inputs $w_{i}$ are the representations of the center words, while $c_j$ are representations of the context words; both are made up of parameters, which are updated during training. Note that in this case, those representations are different, and we only keep the $w$ as final word representations to be used in NLP tasks - but it is possible to use the same parameters for $w$ and $c$, or to keep the mean of both representations at the end.\n",
        "The **desired output** of the model is an *one-hot* $o$ vector, which contains only one $1$ and $0$. For example, if `good` is the 47th word in the vocabulary, the output $o$ for an example when `good` is the word to predict will consist of $0$s everywhere except $1$ in the 47th position of the vector. `good` will be the word to predict when the input $w$ is a word in its context.\n",
        "We therefore model this output with standard **softmax**, which will represent a probability distribution over $V$; and we add a bias term $b$. To obtain the vector of output probabilities, we need to vectorialize over all possible context words in $V$ - which means using the full matrix $C$ containing all vectors $c$.\n",
        "\n",
        "$$ o = \\textbf{softmax}(wC + b)$$\n",
        "\n",
        "Here, we train the parameters contained in $W$ and $C$, two matrices representing the words in reduced dimension (300) using a maximum likelihood objective.\n",
        "\n",
        "#### Skip-gram with negative sampling\n",
        "\n",
        "The training of the skip-gram model implies to calculate a sum on the whole vocabulary, because of the *softmax*. As soon as the size of the vocabulary increases, it becomes impossible to compute. In order to make the calculations faster, we change the objective and use the method of *negative sampling* (or, very close to it, the *noise contrastive estimation*).\n",
        "\n",
        "\n",
        "If here we note $\\mathcal{N'}_i$ a set of words that are **not** in the context of the word $i$, the objective is:\n",
        "\n",
        "\n",
        "$$ \\sum_{i \\in \\mathcal{D}} \\sum_{j \\in \\mathcal{N}_i} -\\log\\sigma(w_{i}c_{j}) + \\sum_{i \\in \\mathcal{D}} \\sum_{j \\in \\mathcal{N'}_i}\\log\\sigma(w_{i}c_{j})$$\n",
        "\n",
        "\n",
        "where $\\sigma$ is the sigmoid activation function $\\frac{1}{1 + \\exp(-x)}$.\n",
        "In practice, we draw randomly these *negative* words that are not in the context, and we don't differentiate depending on the input word $i$:\n",
        "\n",
        "$$ \\sum_{i \\in \\mathcal{D}} \\sum_{j \\in \\mathcal{N}_i} -\\log\\sigma(w_{i}c_{j}) + \\sum_{i \\in \\mathcal{D}} \\sum_{j \\in \\mathcal{N'}}\\log\\sigma(w_{i}c_{j})$$\n",
        "\n",
        "A common practice is to generate pairs from $\\mathcal{N}'$ in proportion to the frequencies of the words in the training data (the so-called unigram distribution):\n",
        "\n",
        "\n",
        "$$P(w) = \\frac{\\textbf{T}(w)^{0.75}}{\\sum_{w'\\in V} \\textbf{T}(w')}$$\n",
        "\n",
        "\n",
        "Although different, this new objective function is a sufficient approximation of the previous one, and is based on the same principle. Much research has been done on this objective: for example, [Levy and Golberg 2014](http://papers.nips.cc/paper/5477-neural-word-embedding-as-implicit-matrix-factorization) shows that the objective calculates the PMI matrix shifted by a constant value. One can also see [Cotterell et al. 2017](https://aclanthology.coli.uni-saarland.de/papers/E17-2028/e17-2028) for an interpretation of the algorithm as a variant of PCA."
      ]
    },
    {
      "cell_type": "markdown",
      "metadata": {
        "id": "jDZXaqF3KgKa"
      },
      "source": [
        "We will use the ```gensim``` library for its implementation of word2vec in python. We'll have to make a specific use of it, since we want to keep the same vocabulary as before: we'll first create the class, then get the vocabulary we generated above.\n",
        "To avoid having to put all the data in memory all at once, we define a generator, which will take all the input data and pre-process it, and return to the ```Word2Vec``` class sentence by sentence."
      ]
    },
    {
      "cell_type": "code",
      "execution_count": null,
      "metadata": {
        "id": "PcJLXobmKgKa"
      },
      "outputs": [],
      "source": [
        "from gensim.models import Word2Vec\n",
        "\n",
        "# For Gensim version 3.8.3\n",
        "\"\"\"\n",
        "# Creates the Word2Vec model with the relevant parameters\n",
        "model = Word2Vec(size=300,\n",
        "                 window=5,\n",
        "                 iter=30)\n",
        "\n",
        "# Get the vocabulary from the counts we created earlier\n",
        "model.build_vocab_from_freq(word_counts_5k)\n",
        "\"\"\"\n",
        "\n",
        "# Gensim version 4.0.1\n",
        "model = Word2Vec(vector_size=300,\n",
        "                 window=5,\n",
        "                 null_word=len(word_counts_5k),\n",
        "                 epochs=30)\n",
        "model.build_vocab_from_freq(word_counts_5k)"
      ]
    },
    {
      "cell_type": "code",
      "execution_count": null,
      "metadata": {
        "id": "6UaY8vtvKgKa"
      },
      "outputs": [],
      "source": [
        "# For 3.8.3\n",
        "\"\"\"\n",
        "def preprocess_generator(large_corpus):\n",
        "    for line in large_corpus:\n",
        "        yield clean_and_tokenize(line)\n",
        "\"\"\"\n",
        "# For 4.0.1\n",
        "preprocessed_corpus = [clean_and_tokenize(train_texts[i]) for i in range(len(train_texts))]"
      ]
    },
    {
      "cell_type": "code",
      "execution_count": null,
      "metadata": {
        "colab": {
          "base_uri": "https://localhost:8080/"
        },
        "id": "N5mbC-jpKgKa",
        "outputId": "7358b322-4cec-4eba-a53d-c0f8b30bdf24"
      },
      "outputs": [
        {
          "output_type": "execute_result",
          "data": {
            "text/plain": [
              "(96610453, 140849190)"
            ]
          },
          "metadata": {},
          "execution_count": 56
        }
      ],
      "source": [
        "# For 3.8.3\n",
        "\"\"\"\n",
        "model.train(preprocess_generator(corpus[:]), total_examples=25000, epochs=30, report_delay=1)\n",
        "\"\"\"\n",
        "\n",
        "# For 4.0.1\n",
        "model.train(preprocessed_corpus, total_examples=25000, epochs=30, report_delay=1)"
      ]
    },
    {
      "cell_type": "code",
      "execution_count": null,
      "metadata": {
        "id": "S7-rj19AKgKb"
      },
      "outputs": [],
      "source": [
        "W2VEmbeddings = model.wv.vectors"
      ]
    },
    {
      "cell_type": "code",
      "execution_count": null,
      "metadata": {
        "colab": {
          "base_uri": "https://localhost:8080/"
        },
        "id": "FX_xWHPRt5DS",
        "outputId": "bfe98d98-84eb-4274-e01b-e73fe9778f69"
      },
      "outputs": [
        {
          "output_type": "stream",
          "name": "stdout",
          "text": [
            "Plus proches voisins de good selon la distance 'euclidean': \n",
            "[['bad', 'great', 'matt', 'beast', 'decent', 'nice', 'cool', 'awesome', 'truth']]\n",
            "Plus proches voisins de good selon la distance 'cosine': \n",
            "[['bad', 'great', 'decent', 'nice', 'funny', 'matt', 'cool', 'beast', 'interesting']]\n"
          ]
        }
      ],
      "source": [
        "print_neighbors(euclidean, vocab_5k, W2VEmbeddings, 'good')\n",
        "print_neighbors(cosine, vocab_5k, W2VEmbeddings, 'good')"
      ]
    },
    {
      "cell_type": "markdown",
      "metadata": {
        "id": "D32CF6CyKgKb"
      },
      "source": [
        "#### The Glove model\n",
        "\n",
        "The objective defined by Glove ([Pennington et al. (2014)](http://www.aclweb.org/anthology/D/D14/D14-1162.pdf)) is to learn from the vectors $w_{i}$ and $w_{k}$ so that their scalar product corresponds to the logarithm of their **Pointwise Mutual Information**:\n",
        "\n",
        "\n",
        "$$ w_{i}^\\top w_{k} = (PMI(w_{i}, w_{k}))$$\n",
        "\n",
        "\n",
        "In the article, this objective is carefully justified by a reasoning about the operations one wants to perform with these vectors and the properties they should have - in particular, symmetry between rows and columns (see the article for more details).\n",
        "The final goal obtained is the following, where $M$ is the co-occurrence matrix:\n",
        "\n",
        "\n",
        "$$\\sum_{i, j=1}^{|V|} f\\left(M_{ij}\\right)\n",
        "  \\left(w_i^\\top w_j + b_i + b_j - \\log M_{ij}\\right)^2$$\n",
        "\n",
        "\n",
        "Here, $f$ is a *scaling* function that reduces the importance of the most frequent co-occurrence counts:\n",
        "\n",
        "\n",
        "$$f(x)\n",
        "\\begin{cases}\n",
        "(x/x_{\\max})^{\\alpha} & \\textrm{if } x < x_{\\max} \\\\\n",
        "1 & \\textrm{otherwise}\n",
        "\\end{cases}$$\n",
        "\n",
        "\n",
        "Usually, we choose $\\alpha=0.75$ and $x_{\\max} = 100$, although these parameters may need to be changed depending on the data."
      ]
    },
    {
      "cell_type": "markdown",
      "metadata": {
        "id": "6ZYOwlWJKgKb"
      },
      "source": [
        "The following code uses the gensim API to retrieve pre-trained representations (It is normal that the loading is long)."
      ]
    },
    {
      "cell_type": "code",
      "execution_count": null,
      "metadata": {
        "id": "vWmLrJafKgKb",
        "colab": {
          "base_uri": "https://localhost:8080/"
        },
        "outputId": "182f4fee-2db7-4d67-fd4d-d92394dd1346"
      },
      "outputs": [
        {
          "output_type": "stream",
          "name": "stdout",
          "text": [
            "[==================================================] 100.0% 376.1/376.1MB downloaded\n"
          ]
        }
      ],
      "source": [
        "import gensim.downloader as api\n",
        "loaded_glove_model = api.load(\"glove-wiki-gigaword-300\")"
      ]
    },
    {
      "cell_type": "markdown",
      "metadata": {
        "id": "GpeP1VPfKgKb"
      },
      "source": [
        "We can extract the embedding matrix this way, and check its size:"
      ]
    },
    {
      "cell_type": "code",
      "execution_count": null,
      "metadata": {
        "id": "MWVWoXZjKgKb",
        "colab": {
          "base_uri": "https://localhost:8080/"
        },
        "outputId": "ffa489c1-b477-488a-8820-ad3e6e865e12"
      },
      "outputs": [
        {
          "output_type": "stream",
          "name": "stdout",
          "text": [
            "(400000, 300)\n"
          ]
        }
      ],
      "source": [
        "loaded_glove_embeddings = loaded_glove_model.vectors\n",
        "print(loaded_glove_embeddings.shape)"
      ]
    },
    {
      "cell_type": "markdown",
      "metadata": {
        "id": "d2zXhVLQKgKb"
      },
      "source": [
        "We can see that there are $400,000$ words represented, and that the embeddings are of size $300$. We define a function that returns, from the loaded model, the vocabulary and the embedding matrix according to the structures we used before. We add, here again, an unknown word \"UNK\" in case there are words in our data that are not part of the $400,000$ words represented here."
      ]
    },
    {
      "cell_type": "code",
      "execution_count": null,
      "metadata": {
        "id": "RzGj1IBWKgKb"
      },
      "outputs": [],
      "source": [
        "# For gensim 3.8.3\n",
        "\"\"\"\n",
        "def get_glove_voc_and_embeddings(glove_model):\n",
        "    voc = {word : index for word, index in enumerate(glove_model.index2word)}\n",
        "    voc['UNK'] = len(voc)\n",
        "    embeddings = glove_model.vectors\n",
        "    return voc, embeddings\n",
        "\"\"\"\n",
        "\n",
        "# For gensim 4.0.1\n",
        "def get_glove_voc_and_embeddings(glove_model):\n",
        "    voc = {word : index for word, index in enumerate(glove_model.index_to_key)}\n",
        "    voc['UNK'] = len(voc)\n",
        "    embeddings = glove_model.vectors\n",
        "    return voc, embeddings"
      ]
    },
    {
      "cell_type": "code",
      "execution_count": null,
      "metadata": {
        "id": "kU6jPBoFKgKc"
      },
      "outputs": [],
      "source": [
        "loaded_glove_voc, loaded_glove_embeddings = get_glove_voc_and_embeddings(loaded_glove_model)"
      ]
    },
    {
      "cell_type": "markdown",
      "metadata": {
        "id": "bmIpUGiCKgKc"
      },
      "source": [
        "In order to compare the representations loaded here and the ones produced with word2vec, the same vocabulary should be used. For this purpose, I reuse the following code to create a $5000$ word vocabulary from the data, and I add at the end a function that returns the matrix of representations loaded with Glove for these $5000$ words only, in the right order."
      ]
    },
    {
      "cell_type": "code",
      "execution_count": null,
      "metadata": {
        "id": "J3G3YJ6uKgKc"
      },
      "outputs": [],
      "source": [
        "# For gensim 3.8.3\n",
        "\"\"\"\n",
        "def get_glove_adapted_embeddings(glove_model, input_voc):\n",
        "    keys = {i: glove_model.vocab.get(w, None) for w, i in input_voc.items()}\n",
        "    index_dict = {i: key.index for i, key in keys.items() if key is not None}\n",
        "    embeddings = np.zeros((len(input_voc),glove_model.vectors.shape[1]))\n",
        "    for i, ind in index_dict.items():\n",
        "        embeddings[i] = glove_model.vectors[ind]\n",
        "    return embeddings\n",
        "\"\"\"\n",
        "\n",
        "# For gensim 4.0.1\n",
        "def get_glove_adapted_embeddings(glove_model, input_voc):\n",
        "    keys = {i: glove_model.key_to_index.get(w, None) for w, i in input_voc.items()}\n",
        "    index_dict = {i: key for i, key in keys.items() if key is not None}\n",
        "    embeddings = np.zeros((len(input_voc),glove_model.vectors.shape[1]))\n",
        "    for i, ind in index_dict.items():\n",
        "        embeddings[i] = glove_model.vectors[ind]\n",
        "    return embeddings"
      ]
    },
    {
      "cell_type": "code",
      "execution_count": null,
      "metadata": {
        "id": "-5yrIeW0KgKc"
      },
      "outputs": [],
      "source": [
        "GloveEmbeddings = get_glove_adapted_embeddings(loaded_glove_model, vocab_5k)"
      ]
    },
    {
      "cell_type": "markdown",
      "metadata": {
        "id": "Jms25vKHKgKc"
      },
      "source": [
        "This function takes as input the model loaded using the Gensim API, as well as a vocabulary we created ourselves, and returns the embedding matrix from the loaded model, for the words in our vocabulary and in the right order.\n",
        "Note: unknown words are represented by a vector of zeros:"
      ]
    },
    {
      "cell_type": "code",
      "execution_count": null,
      "metadata": {
        "id": "UPGo9mZQKgKc",
        "colab": {
          "base_uri": "https://localhost:8080/"
        },
        "outputId": "d4f1e5c5-1990-4216-db10-8a7aad342eca"
      },
      "outputs": [
        {
          "output_type": "stream",
          "name": "stdout",
          "text": [
            "(5001, 300)\n"
          ]
        },
        {
          "output_type": "execute_result",
          "data": {
            "text/plain": [
              "array([0., 0., 0., 0., 0., 0., 0., 0., 0., 0., 0., 0., 0., 0., 0., 0., 0.,\n",
              "       0., 0., 0., 0., 0., 0., 0., 0., 0., 0., 0., 0., 0., 0., 0., 0., 0.,\n",
              "       0., 0., 0., 0., 0., 0., 0., 0., 0., 0., 0., 0., 0., 0., 0., 0., 0.,\n",
              "       0., 0., 0., 0., 0., 0., 0., 0., 0., 0., 0., 0., 0., 0., 0., 0., 0.,\n",
              "       0., 0., 0., 0., 0., 0., 0., 0., 0., 0., 0., 0., 0., 0., 0., 0., 0.,\n",
              "       0., 0., 0., 0., 0., 0., 0., 0., 0., 0., 0., 0., 0., 0., 0., 0., 0.,\n",
              "       0., 0., 0., 0., 0., 0., 0., 0., 0., 0., 0., 0., 0., 0., 0., 0., 0.,\n",
              "       0., 0., 0., 0., 0., 0., 0., 0., 0., 0., 0., 0., 0., 0., 0., 0., 0.,\n",
              "       0., 0., 0., 0., 0., 0., 0., 0., 0., 0., 0., 0., 0., 0., 0., 0., 0.,\n",
              "       0., 0., 0., 0., 0., 0., 0., 0., 0., 0., 0., 0., 0., 0., 0., 0., 0.,\n",
              "       0., 0., 0., 0., 0., 0., 0., 0., 0., 0., 0., 0., 0., 0., 0., 0., 0.,\n",
              "       0., 0., 0., 0., 0., 0., 0., 0., 0., 0., 0., 0., 0., 0., 0., 0., 0.,\n",
              "       0., 0., 0., 0., 0., 0., 0., 0., 0., 0., 0., 0., 0., 0., 0., 0., 0.,\n",
              "       0., 0., 0., 0., 0., 0., 0., 0., 0., 0., 0., 0., 0., 0., 0., 0., 0.,\n",
              "       0., 0., 0., 0., 0., 0., 0., 0., 0., 0., 0., 0., 0., 0., 0., 0., 0.,\n",
              "       0., 0., 0., 0., 0., 0., 0., 0., 0., 0., 0., 0., 0., 0., 0., 0., 0.,\n",
              "       0., 0., 0., 0., 0., 0., 0., 0., 0., 0., 0., 0., 0., 0., 0., 0., 0.,\n",
              "       0., 0., 0., 0., 0., 0., 0., 0., 0., 0., 0.])"
            ]
          },
          "metadata": {},
          "execution_count": 253
        }
      ],
      "source": [
        "print(GloveEmbeddings.shape)\n",
        "GloveEmbeddings[vocab_5k['UNK']]"
      ]
    },
    {
      "cell_type": "markdown",
      "metadata": {
        "id": "shPBjkKdKgKc"
      },
      "source": [
        "### II.6 Application to sentiment analysis\n",
        "\n",
        "We will now use these representations for sentiment analysis.\n",
        "The basic model, as before, will be constructed in two steps:\n",
        "- A function to obtain vector representations of criticism, from text, vocabulary, and vector representations of words. Such a function (to be completed below) will associate to each word of a review its embeddings, and create the representation for the whole sentence by summing these embeddings.\n",
        "- A classifier will take these representations as input and make a prediction. To achieve this, we can first use logistic regression ```LogisticRegression``` from ```scikit-learn```\n",
        "\n",
        "<div class='alert alert-block alert-info'>\n",
        "            Code:</div>"
      ]
    },
    {
      "cell_type": "code",
      "execution_count": null,
      "metadata": {
        "id": "NeQbU9QgKgKc"
      },
      "outputs": [],
      "source": [
        "def sentence_representations(texts, vocabulary, embeddings, np_func=np.mean):\n",
        "    \"\"\"\n",
        "    Represent the sentences as a combination of the vector of its words.\n",
        "    Parameters\n",
        "    ----------\n",
        "    texts : a list of sentences\n",
        "    vocabulary : dict\n",
        "        From words to indexes of vector.\n",
        "    embeddings : Matrix containing word representations\n",
        "    np_func : function (default: np.sum)\n",
        "        A numpy matrix operation that can be applied columnwise,\n",
        "        like `np.mean`, `np.sum`, or `np.prod`.\n",
        "    Returns\n",
        "    -------\n",
        "    np.array, dimension `(len(texts), embeddings.shape[1])`\n",
        "    \"\"\"\n",
        "\n",
        "    representations = np.zeros((len(texts), embeddings.shape[1]))\n",
        "    representations.shape\n",
        "    for i, text in enumerate(texts):\n",
        "        words = clean_and_tokenize(text)\n",
        "        word_indexes = [vocabulary.get(w, vocabulary['UNK']) for w in words]   # get the index\n",
        "        word_indexes = [w - 1 for w in word_indexes]\n",
        "        representations[i] = np_func(embeddings[word_indexes], axis=0) # apply the function to the embeddings\n",
        "\n",
        "    return representations"
      ]
    },
    {
      "cell_type": "code",
      "execution_count": null,
      "metadata": {
        "colab": {
          "base_uri": "https://localhost:8080/",
          "height": 825
        },
        "id": "DGXNnUkyt5DW",
        "outputId": "5f5b52c9-0870-4c0e-a4fe-51612b040755"
      },
      "outputs": [
        {
          "output_type": "stream",
          "name": "stdout",
          "text": [
            "Accuracy: 0.488\n",
            "              precision    recall  f1-score   support\n",
            "\n",
            "           0       0.00      0.00      0.00       512\n",
            "           1       0.49      1.00      0.66       488\n",
            "\n",
            "    accuracy                           0.49      1000\n",
            "   macro avg       0.24      0.50      0.33      1000\n",
            "weighted avg       0.24      0.49      0.32      1000\n",
            "\n"
          ]
        },
        {
          "output_type": "stream",
          "name": "stderr",
          "text": [
            "/usr/local/lib/python3.10/dist-packages/sklearn/metrics/_classification.py:1344: UndefinedMetricWarning: Precision and F-score are ill-defined and being set to 0.0 in labels with no predicted samples. Use `zero_division` parameter to control this behavior.\n",
            "  _warn_prf(average, modifier, msg_start, len(result))\n",
            "/usr/local/lib/python3.10/dist-packages/sklearn/metrics/_classification.py:1344: UndefinedMetricWarning: Precision and F-score are ill-defined and being set to 0.0 in labels with no predicted samples. Use `zero_division` parameter to control this behavior.\n",
            "  _warn_prf(average, modifier, msg_start, len(result))\n",
            "/usr/local/lib/python3.10/dist-packages/sklearn/metrics/_classification.py:1344: UndefinedMetricWarning: Precision and F-score are ill-defined and being set to 0.0 in labels with no predicted samples. Use `zero_division` parameter to control this behavior.\n",
            "  _warn_prf(average, modifier, msg_start, len(result))\n"
          ]
        },
        {
          "output_type": "display_data",
          "data": {
            "text/plain": [
              "<Figure size 600x600 with 2 Axes>"
            ],
            "image/png": "[encoded data removed]"
          },
          "metadata": {}
        }
      ],
      "source": [
        "# Exemple with embeddings from Glove without the constraint of 5k words\n",
        "rep = sentence_representations(train_texts_splt, loaded_glove_voc, loaded_glove_embeddings)\n",
        "clf = LogisticRegression(max_iter=1000).fit(rep, train_labels_splt)\n",
        "rep_test = sentence_representations(val_texts, loaded_glove_voc, loaded_glove_embeddings)\n",
        "test_pred = clf.predict(rep_test)\n",
        "print(\"Accuracy:\", clf.score(rep_test, val_labels))\n",
        "\n",
        "print(classification_report(val_labels, test_pred))\n",
        "cm = confusion_matrix(val_labels, test_pred, normalize='true')\n",
        "\n",
        "fig, ax = plt.subplots(figsize=(6, 6))\n",
        "disp = ConfusionMatrixDisplay(confusion_matrix=cm)\n",
        "disp.plot(ax=ax)\n",
        "plt.title('Glove embeddings - no constraint on voc size')\n",
        "plt.show()"
      ]
    },
    {
      "cell_type": "code",
      "source": [
        "len(list(loaded_glove_voc))"
      ],
      "metadata": {
        "colab": {
          "base_uri": "https://localhost:8080/"
        },
        "id": "HWzujMN7SPQ4",
        "outputId": "bbaa5a08-6a31-4e01-d84f-5db57b81ff3b"
      },
      "execution_count": null,
      "outputs": [
        {
          "output_type": "execute_result",
          "data": {
            "text/plain": [
              "400001"
            ]
          },
          "metadata": {},
          "execution_count": 232
        }
      ]
    },
    {
      "cell_type": "code",
      "execution_count": null,
      "metadata": {
        "colab": {
          "base_uri": "https://localhost:8080/",
          "height": 681
        },
        "id": "dTqQFbWct5DX",
        "outputId": "5f07f3e3-45ee-456e-c075-d33a1bdfe8a9"
      },
      "outputs": [
        {
          "output_type": "stream",
          "name": "stdout",
          "text": [
            "Accuracy: 0.814\n",
            "              precision    recall  f1-score   support\n",
            "\n",
            "           0       0.80      0.82      0.81       241\n",
            "           1       0.83      0.81      0.82       259\n",
            "\n",
            "    accuracy                           0.81       500\n",
            "   macro avg       0.81      0.81      0.81       500\n",
            "weighted avg       0.81      0.81      0.81       500\n",
            "\n"
          ]
        },
        {
          "output_type": "display_data",
          "data": {
            "text/plain": [
              "<Figure size 600x600 with 2 Axes>"
            ],
            "image/png": "[encoded data removed]"
          },
          "metadata": {}
        }
      ],
      "source": [
        "# Exemple with embeddings from Word2Vec\n",
        "rep = sentence_representations(train_texts_splt, vocab_5k, W2VEmbeddings)\n",
        "clf = LogisticRegression().fit(rep, train_labels_splt)\n",
        "rep_test = sentence_representations(val_texts, vocab_5k, W2VEmbeddings)\n",
        "test_pred = clf.predict(rep_test)\n",
        "print(\"Accuracy:\", clf.score(rep_test, val_labels))\n",
        "\n",
        "print(classification_report(val_labels, test_pred))\n",
        "cm = confusion_matrix(val_labels, test_pred, normalize='true')\n",
        "\n",
        "fig, ax = plt.subplots(figsize=(6, 6))\n",
        "disp = ConfusionMatrixDisplay(confusion_matrix=cm)\n",
        "disp.plot(ax=ax)\n",
        "plt.title('Word2Vec embeddings')\n",
        "plt.show()"
      ]
    },
    {
      "cell_type": "code",
      "source": [
        "len(vocab_5k)"
      ],
      "metadata": {
        "colab": {
          "base_uri": "https://localhost:8080/"
        },
        "id": "SM2PWNySGgaX",
        "outputId": "d3d96806-80cf-4e34-8194-64d293e3b494"
      },
      "execution_count": null,
      "outputs": [
        {
          "output_type": "execute_result",
          "data": {
            "text/plain": [
              "5001"
            ]
          },
          "metadata": {},
          "execution_count": 192
        }
      ]
    },
    {
      "cell_type": "code",
      "source": [
        "list(vocab_5k)[-1]"
      ],
      "metadata": {
        "colab": {
          "base_uri": "https://localhost:8080/",
          "height": 36
        },
        "id": "yU5tGrvvG4Nu",
        "outputId": "655dae65-f76e-43ec-8b80-4f60b6b7cdca"
      },
      "execution_count": null,
      "outputs": [
        {
          "output_type": "execute_result",
          "data": {
            "text/plain": [
              "'UNK'"
            ],
            "application/vnd.google.colaboratory.intrinsic+json": {
              "type": "string"
            }
          },
          "metadata": {},
          "execution_count": 203
        }
      ]
    },
    {
      "cell_type": "code",
      "source": [
        "sum = 0\n",
        "i = 0\n",
        "while i < 5001:\n",
        "  sum += np.linalg.norm(W2VEmbeddings[i])\n",
        "  i +=1\n",
        "print(sum/5001)"
      ],
      "metadata": {
        "colab": {
          "base_uri": "https://localhost:8080/"
        },
        "id": "omlQm4__HbmH",
        "outputId": "1c909525-34da-4a1c-ad12-2bb52c7c38a6"
      },
      "execution_count": null,
      "outputs": [
        {
          "output_type": "stream",
          "name": "stdout",
          "text": [
            "15.216108332212118\n"
          ]
        }
      ]
    },
    {
      "cell_type": "code",
      "source": [
        "np.linalg.norm(W2VEmbeddings[5000])"
      ],
      "metadata": {
        "colab": {
          "base_uri": "https://localhost:8080/"
        },
        "id": "ozu6iqMOI2fU",
        "outputId": "4b1d5f6c-cf24-48f9-9263-4bd553e9f667"
      },
      "execution_count": null,
      "outputs": [
        {
          "output_type": "execute_result",
          "data": {
            "text/plain": [
              "0.03325989"
            ]
          },
          "metadata": {},
          "execution_count": 213
        }
      ]
    },
    {
      "cell_type": "code",
      "source": [
        "W2VEmbeddings.shape"
      ],
      "metadata": {
        "colab": {
          "base_uri": "https://localhost:8080/"
        },
        "id": "ZpT4MPgIHH6V",
        "outputId": "dca8374f-6c9f-4f1e-c522-fd10e5ed21fd"
      },
      "execution_count": null,
      "outputs": [
        {
          "output_type": "execute_result",
          "data": {
            "text/plain": [
              "(5001, 300)"
            ]
          },
          "metadata": {},
          "execution_count": 196
        }
      ]
    },
    {
      "cell_type": "markdown",
      "metadata": {
        "id": "3vehzyTXKgKc"
      },
      "source": [
        "<div class='alert alert-block alert-warning'>\n",
        "            Questions:</div>\n",
        "\n",
        "You can know compare the various sets of embeddings, and answer the following questions:\n",
        "\n",
        "**1. Why could we expect that the results obtained with embeddings pre-trained with Glove are better than others ? Is that verified ? And what changes if we remove the constraint of having the same 5000 words vocabulary as the other methods ?**\n",
        "\n",
        "**Answer:**\n",
        "\n",
        "GloVe (Global Vectors for Word Representation) perform really well on various natural language processing tasks due to their ability to capture **semantic** and **syntactic** relationships between words.\n",
        "\n",
        "It was expected that the results obtained with Glove are better than others because:\n",
        "\n",
        "- Large-scale training: GloVe embeddings are trained on large corpora, often covering billions of words.\n",
        "- Statistical properties: GloVe embeddings are designed to capture the statistical properties of word co-occurrences.\n",
        "- Pre-trained on diverse data: This pre-training on diverse data helps to generalize the embeddings and improves their overall performance.\n",
        "\n",
        "\n",
        "**2. Which matrix that we can reduce the dimension of gives the best results ?**\n",
        "\n",
        "**Answer:**\n",
        "\n",
        "The best results are obtained with the word2vec model."
      ]
    }
  ],
  "metadata": {
    "anaconda-cloud": {},
    "colab": {
      "provenance": []
    },
    "kernelspec": {
      "display_name": "Python 3 (ipykernel)",
      "language": "python",
      "name": "python3"
    },
    "language_info": {
      "codemirror_mode": {
        "name": "ipython",
        "version": 3
      },
      "file_extension": ".py",
      "mimetype": "text/x-python",
      "name": "python",
      "nbconvert_exporter": "python",
      "pygments_lexer": "ipython3",
      "version": "3.10.11"
    }
  },
  "nbformat": 4,
  "nbformat_minor": 0
}